{
 "cells": [
  {
   "cell_type": "code",
   "execution_count": null,
   "id": "b7cc22df",
   "metadata": {},
   "outputs": [],
   "source": [
    "from cmdstanpy import CmdStanModel\n",
    "\n",
    "import arviz as az\n",
    "import numpy as np\n",
    "import scipy.stats as stats\n",
    "\n",
    "import pandas as pd\n",
    "\n",
    "import matplotlib.pyplot as plt\n",
    "import matplotlib as mpl"
   ]
  },
  {
   "cell_type": "markdown",
   "id": "5944f771",
   "metadata": {},
   "source": [
    "Read data from CVS file"
   ]
  },
  {
   "cell_type": "code",
   "execution_count": null,
   "id": "72a0f251",
   "metadata": {},
   "outputs": [],
   "source": [
    "#data = ...\n",
    "data.describe()"
   ]
  },
  {
   "cell_type": "markdown",
   "id": "a667d7c9",
   "metadata": {},
   "source": [
    "#Prior selection "
   ]
  },
  {
   "cell_type": "code",
   "execution_count": null,
   "id": "f010022f",
   "metadata": {},
   "outputs": [],
   "source": [
    "model_ppc1 = CmdStanModel(stan_file='logistic_regression_ppc.stan')\n",
    "R=1000\n",
    "data_ppc= dict(N = data.shape[0],\n",
    "                 M = 5,\n",
    "                 X = data.iloc[:,0:5].values,\n",
    "                 sigma=10)\n",
    "sim_ppc1=model_ppc1.sample(data=data_ppc, \n",
    "                           iter_sampling=R, iter_warmup=0, \n",
    "                           chains=1, \n",
    "                           refresh=R,\n",
    "                           fixed_param=True,\n",
    "                           seed=29042020)"
   ]
  },
  {
   "cell_type": "markdown",
   "id": "d4ff245b",
   "metadata": {},
   "source": [
    "Task 1.\n",
    "Plot histograms of beta for prior model\n",
    "Plot again the same histograms but this time with other sigma values. For instace use values: 5, 2, 0.75.\n",
    "Consider which result should be taken into account when selecting prior."
   ]
  },
  {
   "cell_type": "code",
   "execution_count": null,
   "id": "a6907be3",
   "metadata": {},
   "outputs": [],
   "source": []
  },
  {
   "cell_type": "markdown",
   "id": "ff382ad1",
   "metadata": {},
   "source": [
    "#Posterior inference "
   ]
  },
  {
   "cell_type": "code",
   "execution_count": null,
   "id": "d71030f6",
   "metadata": {},
   "outputs": [],
   "source": [
    "model = CmdStanModel(stan_file='logistic_regression.stan')\n",
    "data_dict = dict(N = data.shape[0],\n",
    "                 M = 5,\n",
    "                 X = data.iloc[:,0:5].values,\n",
    "                 y = data.y.values\n",
    "                 )\n",
    "fit = model.sample(data=data_dict, seed=4938483)\n",
    "#plot\n",
    "med_prob_ppc = np.percentile(fit.stan_variable('prob_ppc'),[25,50,75],axis=0)\n",
    "estimate_ppc_df = pd.DataFrame(med_prob_ppc.T,columns = ['lo','med','hi'])\n",
    "#..."
   ]
  },
  {
   "cell_type": "markdown",
   "id": "c8d47774",
   "metadata": {},
   "source": [
    "Task 2.\n",
    "Edit stan model and create models with different priors. Use original setting and some priors from task 1.\n",
    "Fit the model\n",
    "Plot the probability of individual outcome:\n",
    "plot generated paramether theta (prob_pcc): mean with its error bars (plt.errorbar)\n",
    "to plot its error bars take into consider its 25th, 50th and 75th percentile\n",
    "also mark the real value of y, by different colored dots (for mean values)\n",
    "Consider if the probability was well captured by each setting"
   ]
  },
  {
   "cell_type": "code",
   "execution_count": null,
   "id": "291d5fd3",
   "metadata": {},
   "outputs": [],
   "source": []
  }
 ],
 "metadata": {
  "kernelspec": {
   "display_name": "Python 3 (ipykernel)",
   "language": "python",
   "name": "python3"
  },
  "language_info": {
   "codemirror_mode": {
    "name": "ipython",
    "version": 3
   },
   "file_extension": ".py",
   "mimetype": "text/x-python",
   "name": "python",
   "nbconvert_exporter": "python",
   "pygments_lexer": "ipython3",
   "version": "3.10.3"
  }
 },
 "nbformat": 4,
 "nbformat_minor": 5
}
