{
 "cells": [
  {
   "cell_type": "markdown",
   "metadata": {},
   "source": [
    "## Data Analytics Project - US STATE CRIME (1960-2019)"
   ]
  },
  {
   "cell_type": "markdown",
   "metadata": {},
   "source": [
    "Autors: Agnieszka Welian, Katarzyna Wątorska\n",
    "<br>\n",
    "Date: 14-06-2022"
   ]
  },
  {
   "cell_type": "markdown",
   "metadata": {},
   "source": [
    "From the Unified Crime Reporting Statistics and under the collaboration of the U.S. Department of Justice and the Federal Bureau of Investigation information crime statistics are available for public review. The following data set has information on the crime rates and totals for states across the United States for a wide range of years. The crime reports are divided into two main categories: property and violent crime. Property crime refers to burglary, larceny, and motor related crime while violent crime refers to assault, murder, rape, and robbery. These reports go from 1960 to 2019."
   ]
  },
  {
   "cell_type": "markdown",
   "metadata": {},
   "source": [
    "The main goal of this project will be to take into consideration values from 1960 to 2019 and predict value of specific crime rare for 2020\n",
    " for selected state."
   ]
  },
  {
   "cell_type": "markdown",
   "metadata": {},
   "source": [
    "Source: https://think.cs.vt.edu/corgis/csv/state_crime/ (which are logged data from FBI page)"
   ]
  },
  {
   "cell_type": "markdown",
   "metadata": {},
   "source": [
    "# 1. Data preprocessing"
   ]
  },
  {
   "cell_type": "code",
   "execution_count": 1,
   "metadata": {},
   "outputs": [],
   "source": [
    "import pandas as pd\n",
    "import numpy as np\n",
    "import seaborn as sns\n",
    "import matplotlib.pyplot as plt\n",
    "from cmdstanpy import CmdStanModel\n",
    "import scipy.stats as stats\n",
    "import arviz as az"
   ]
  },
  {
   "cell_type": "code",
   "execution_count": 2,
   "metadata": {},
   "outputs": [
    {
     "data": {
      "text/html": [
       "<div>\n",
       "<style scoped>\n",
       "    .dataframe tbody tr th:only-of-type {\n",
       "        vertical-align: middle;\n",
       "    }\n",
       "\n",
       "    .dataframe tbody tr th {\n",
       "        vertical-align: top;\n",
       "    }\n",
       "\n",
       "    .dataframe thead th {\n",
       "        text-align: right;\n",
       "    }\n",
       "</style>\n",
       "<table border=\"1\" class=\"dataframe\">\n",
       "  <thead>\n",
       "    <tr style=\"text-align: right;\">\n",
       "      <th></th>\n",
       "      <th>State</th>\n",
       "      <th>Year</th>\n",
       "      <th>Data.Population</th>\n",
       "      <th>Data.Rates.Property.All</th>\n",
       "      <th>Data.Rates.Property.Burglary</th>\n",
       "      <th>Data.Rates.Property.Larceny</th>\n",
       "      <th>Data.Rates.Property.Motor</th>\n",
       "      <th>Data.Rates.Violent.All</th>\n",
       "      <th>Data.Rates.Violent.Assault</th>\n",
       "      <th>Data.Rates.Violent.Murder</th>\n",
       "      <th>...</th>\n",
       "      <th>Data.Rates.Violent.Robbery</th>\n",
       "      <th>Data.Totals.Property.All</th>\n",
       "      <th>Data.Totals.Property.Burglary</th>\n",
       "      <th>Data.Totals.Property.Larceny</th>\n",
       "      <th>Data.Totals.Property.Motor</th>\n",
       "      <th>Data.Totals.Violent.All</th>\n",
       "      <th>Data.Totals.Violent.Assault</th>\n",
       "      <th>Data.Totals.Violent.Murder</th>\n",
       "      <th>Data.Totals.Violent.Rape</th>\n",
       "      <th>Data.Totals.Violent.Robbery</th>\n",
       "    </tr>\n",
       "  </thead>\n",
       "  <tbody>\n",
       "    <tr>\n",
       "      <th>0</th>\n",
       "      <td>Alabama</td>\n",
       "      <td>1960</td>\n",
       "      <td>3266740</td>\n",
       "      <td>1035.4</td>\n",
       "      <td>355.9</td>\n",
       "      <td>592.1</td>\n",
       "      <td>87.3</td>\n",
       "      <td>186.6</td>\n",
       "      <td>138.1</td>\n",
       "      <td>12.4</td>\n",
       "      <td>...</td>\n",
       "      <td>27.5</td>\n",
       "      <td>33823</td>\n",
       "      <td>11626</td>\n",
       "      <td>19344</td>\n",
       "      <td>2853</td>\n",
       "      <td>6097</td>\n",
       "      <td>4512</td>\n",
       "      <td>406</td>\n",
       "      <td>281</td>\n",
       "      <td>898</td>\n",
       "    </tr>\n",
       "    <tr>\n",
       "      <th>1</th>\n",
       "      <td>Alabama</td>\n",
       "      <td>1961</td>\n",
       "      <td>3302000</td>\n",
       "      <td>985.5</td>\n",
       "      <td>339.3</td>\n",
       "      <td>569.4</td>\n",
       "      <td>76.8</td>\n",
       "      <td>168.5</td>\n",
       "      <td>128.9</td>\n",
       "      <td>12.9</td>\n",
       "      <td>...</td>\n",
       "      <td>19.1</td>\n",
       "      <td>32541</td>\n",
       "      <td>11205</td>\n",
       "      <td>18801</td>\n",
       "      <td>2535</td>\n",
       "      <td>5564</td>\n",
       "      <td>4255</td>\n",
       "      <td>427</td>\n",
       "      <td>252</td>\n",
       "      <td>630</td>\n",
       "    </tr>\n",
       "    <tr>\n",
       "      <th>2</th>\n",
       "      <td>Alabama</td>\n",
       "      <td>1962</td>\n",
       "      <td>3358000</td>\n",
       "      <td>1067.0</td>\n",
       "      <td>349.1</td>\n",
       "      <td>634.5</td>\n",
       "      <td>83.4</td>\n",
       "      <td>157.3</td>\n",
       "      <td>119.0</td>\n",
       "      <td>9.4</td>\n",
       "      <td>...</td>\n",
       "      <td>22.5</td>\n",
       "      <td>35829</td>\n",
       "      <td>11722</td>\n",
       "      <td>21306</td>\n",
       "      <td>2801</td>\n",
       "      <td>5283</td>\n",
       "      <td>3995</td>\n",
       "      <td>316</td>\n",
       "      <td>218</td>\n",
       "      <td>754</td>\n",
       "    </tr>\n",
       "    <tr>\n",
       "      <th>3</th>\n",
       "      <td>Alabama</td>\n",
       "      <td>1963</td>\n",
       "      <td>3347000</td>\n",
       "      <td>1150.9</td>\n",
       "      <td>376.9</td>\n",
       "      <td>683.4</td>\n",
       "      <td>90.6</td>\n",
       "      <td>182.7</td>\n",
       "      <td>142.1</td>\n",
       "      <td>10.2</td>\n",
       "      <td>...</td>\n",
       "      <td>24.7</td>\n",
       "      <td>38521</td>\n",
       "      <td>12614</td>\n",
       "      <td>22874</td>\n",
       "      <td>3033</td>\n",
       "      <td>6115</td>\n",
       "      <td>4755</td>\n",
       "      <td>340</td>\n",
       "      <td>192</td>\n",
       "      <td>828</td>\n",
       "    </tr>\n",
       "    <tr>\n",
       "      <th>4</th>\n",
       "      <td>Alabama</td>\n",
       "      <td>1964</td>\n",
       "      <td>3407000</td>\n",
       "      <td>1358.7</td>\n",
       "      <td>466.6</td>\n",
       "      <td>784.1</td>\n",
       "      <td>108.0</td>\n",
       "      <td>213.1</td>\n",
       "      <td>163.0</td>\n",
       "      <td>9.3</td>\n",
       "      <td>...</td>\n",
       "      <td>29.1</td>\n",
       "      <td>46290</td>\n",
       "      <td>15898</td>\n",
       "      <td>26713</td>\n",
       "      <td>3679</td>\n",
       "      <td>7260</td>\n",
       "      <td>5555</td>\n",
       "      <td>316</td>\n",
       "      <td>397</td>\n",
       "      <td>992</td>\n",
       "    </tr>\n",
       "  </tbody>\n",
       "</table>\n",
       "<p>5 rows × 21 columns</p>\n",
       "</div>"
      ],
      "text/plain": [
       "     State  Year  Data.Population  Data.Rates.Property.All  \\\n",
       "0  Alabama  1960          3266740                   1035.4   \n",
       "1  Alabama  1961          3302000                    985.5   \n",
       "2  Alabama  1962          3358000                   1067.0   \n",
       "3  Alabama  1963          3347000                   1150.9   \n",
       "4  Alabama  1964          3407000                   1358.7   \n",
       "\n",
       "   Data.Rates.Property.Burglary  Data.Rates.Property.Larceny  \\\n",
       "0                         355.9                        592.1   \n",
       "1                         339.3                        569.4   \n",
       "2                         349.1                        634.5   \n",
       "3                         376.9                        683.4   \n",
       "4                         466.6                        784.1   \n",
       "\n",
       "   Data.Rates.Property.Motor  Data.Rates.Violent.All  \\\n",
       "0                       87.3                   186.6   \n",
       "1                       76.8                   168.5   \n",
       "2                       83.4                   157.3   \n",
       "3                       90.6                   182.7   \n",
       "4                      108.0                   213.1   \n",
       "\n",
       "   Data.Rates.Violent.Assault  Data.Rates.Violent.Murder  ...  \\\n",
       "0                       138.1                       12.4  ...   \n",
       "1                       128.9                       12.9  ...   \n",
       "2                       119.0                        9.4  ...   \n",
       "3                       142.1                       10.2  ...   \n",
       "4                       163.0                        9.3  ...   \n",
       "\n",
       "   Data.Rates.Violent.Robbery  Data.Totals.Property.All  \\\n",
       "0                        27.5                     33823   \n",
       "1                        19.1                     32541   \n",
       "2                        22.5                     35829   \n",
       "3                        24.7                     38521   \n",
       "4                        29.1                     46290   \n",
       "\n",
       "   Data.Totals.Property.Burglary  Data.Totals.Property.Larceny  \\\n",
       "0                          11626                         19344   \n",
       "1                          11205                         18801   \n",
       "2                          11722                         21306   \n",
       "3                          12614                         22874   \n",
       "4                          15898                         26713   \n",
       "\n",
       "   Data.Totals.Property.Motor  Data.Totals.Violent.All  \\\n",
       "0                        2853                     6097   \n",
       "1                        2535                     5564   \n",
       "2                        2801                     5283   \n",
       "3                        3033                     6115   \n",
       "4                        3679                     7260   \n",
       "\n",
       "   Data.Totals.Violent.Assault  Data.Totals.Violent.Murder  \\\n",
       "0                         4512                         406   \n",
       "1                         4255                         427   \n",
       "2                         3995                         316   \n",
       "3                         4755                         340   \n",
       "4                         5555                         316   \n",
       "\n",
       "   Data.Totals.Violent.Rape  Data.Totals.Violent.Robbery  \n",
       "0                       281                          898  \n",
       "1                       252                          630  \n",
       "2                       218                          754  \n",
       "3                       192                          828  \n",
       "4                       397                          992  \n",
       "\n",
       "[5 rows x 21 columns]"
      ]
     },
     "execution_count": 2,
     "metadata": {},
     "output_type": "execute_result"
    }
   ],
   "source": [
    "df = pd.read_csv(\"state_crime.csv\")\n",
    "df.head()"
   ]
  },
  {
   "cell_type": "code",
   "execution_count": 3,
   "metadata": {},
   "outputs": [
    {
     "data": {
      "text/plain": [
       "Index(['State', 'Year', 'Data.Population', 'Data.Rates.Property.All',\n",
       "       'Data.Rates.Property.Burglary', 'Data.Rates.Property.Larceny',\n",
       "       'Data.Rates.Property.Motor', 'Data.Rates.Violent.All',\n",
       "       'Data.Rates.Violent.Assault', 'Data.Rates.Violent.Murder',\n",
       "       'Data.Rates.Violent.Rape', 'Data.Rates.Violent.Robbery',\n",
       "       'Data.Totals.Property.All', 'Data.Totals.Property.Burglary',\n",
       "       'Data.Totals.Property.Larceny', 'Data.Totals.Property.Motor',\n",
       "       'Data.Totals.Violent.All', 'Data.Totals.Violent.Assault',\n",
       "       'Data.Totals.Violent.Murder', 'Data.Totals.Violent.Rape',\n",
       "       'Data.Totals.Violent.Robbery'],\n",
       "      dtype='object')"
      ]
     },
     "execution_count": 3,
     "metadata": {},
     "output_type": "execute_result"
    }
   ],
   "source": [
    "df.columns"
   ]
  },
  {
   "cell_type": "code",
   "execution_count": 4,
   "metadata": {},
   "outputs": [],
   "source": [
    "#isolating 1 state\n",
    "california = df[df[\"State\"] == \"California\"]"
   ]
  },
  {
   "cell_type": "code",
   "execution_count": 5,
   "metadata": {},
   "outputs": [
    {
     "data": {
      "text/plain": [
       "Text(0.5, 1.0, 'Data before shifting')"
      ]
     },
     "execution_count": 5,
     "metadata": {},
     "output_type": "execute_result"
    },
    {
     "data": {
      "image/png": "[encoded data removed]",
      "text/plain": [
       "<Figure size 432x288 with 1 Axes>"
      ]
     },
     "metadata": {
      "needs_background": "light"
     },
     "output_type": "display_data"
    }
   ],
   "source": [
    "#sns.scatterplot(data=california, x = 'Year', y = 'Data.Population', hue = 'State')\n",
    "fig,ax = plt.subplots()\n",
    "\n",
    "# ax.scatter(data=california, x = 'Year', y = 'Data.Population')\n",
    "ax.scatter(data=california, x = 'Year', y = 'Data.Rates.Property.All')\n",
    "ax.scatter(data=california, x = 'Year', y = 'Data.Rates.Property.Larceny')\n",
    "ax.scatter(data=california, x = 'Year', y = 'Data.Rates.Property.Burglary')\n",
    "ax.scatter(data=california, x = 'Year', y = 'Data.Rates.Property.Motor')\n",
    "# ax.scatter(data=california, x = 'Year', y = 'Data.Rates.Violent.All')\n",
    "# ax.scatter(data=california, x = 'Year', y = 'Data.Rates.Violent.Assault')\n",
    "# ax.scatter(data=california, x = 'Year', y = 'Data.Rates.Violent.Murder')\n",
    "# ax.scatter(data=california, x = 'Year', y = 'Data.Rates.Violent.Robbery')\n",
    "# ax.scatter(data=california, x = 'Year', y = 'Data.Totals.Property.All')\n",
    "# ax.scatter(data=california, x = 'Year', y = 'Data.Rates.Violent.Rape')\n",
    "fig.legend()\n",
    "plt.title(\"Data before shifting\")"
   ]
  },
  {
   "cell_type": "markdown",
   "metadata": {},
   "source": [
    "For the data that we plan to use there is a visible replacement in variables between the columns. After verifying data in csv with the FBI data, the result was that our hipotesis was correct - data was shifted, so we decided to shift the data between above columns."
   ]
  },
  {
   "cell_type": "code",
   "execution_count": 6,
   "metadata": {
    "scrolled": true
   },
   "outputs": [
    {
     "name": "stderr",
     "output_type": "stream",
     "text": [
      "/tmp/ipykernel_40525/2898082888.py:4: SettingWithCopyWarning: \n",
      "A value is trying to be set on a copy of a slice from a DataFrame\n",
      "\n",
      "See the caveats in the documentation: https://pandas.pydata.org/pandas-docs/stable/user_guide/indexing.html#returning-a-view-versus-a-copy\n",
      "  df['Data.Rates.Property.All'][i] =  df['Data.Rates.Property.Burglary'][i]\n",
      "/tmp/ipykernel_40525/2898082888.py:5: SettingWithCopyWarning: \n",
      "A value is trying to be set on a copy of a slice from a DataFrame\n",
      "\n",
      "See the caveats in the documentation: https://pandas.pydata.org/pandas-docs/stable/user_guide/indexing.html#returning-a-view-versus-a-copy\n",
      "  df['Data.Rates.Property.Burglary'][i] = x\n",
      "/tmp/ipykernel_40525/2898082888.py:8: SettingWithCopyWarning: \n",
      "A value is trying to be set on a copy of a slice from a DataFrame\n",
      "\n",
      "See the caveats in the documentation: https://pandas.pydata.org/pandas-docs/stable/user_guide/indexing.html#returning-a-view-versus-a-copy\n",
      "  df['Data.Rates.Property.Larceny'][i] =  df['Data.Rates.Property.Motor'][i]\n",
      "/tmp/ipykernel_40525/2898082888.py:9: SettingWithCopyWarning: \n",
      "A value is trying to be set on a copy of a slice from a DataFrame\n",
      "\n",
      "See the caveats in the documentation: https://pandas.pydata.org/pandas-docs/stable/user_guide/indexing.html#returning-a-view-versus-a-copy\n",
      "  df['Data.Rates.Property.Motor'][i] = y\n",
      "/tmp/ipykernel_40525/2898082888.py:12: SettingWithCopyWarning: \n",
      "A value is trying to be set on a copy of a slice from a DataFrame\n",
      "\n",
      "See the caveats in the documentation: https://pandas.pydata.org/pandas-docs/stable/user_guide/indexing.html#returning-a-view-versus-a-copy\n",
      "  df['Data.Rates.Property.Burglary'][i] =  df['Data.Rates.Property.Motor'][i]\n",
      "/tmp/ipykernel_40525/2898082888.py:13: SettingWithCopyWarning: \n",
      "A value is trying to be set on a copy of a slice from a DataFrame\n",
      "\n",
      "See the caveats in the documentation: https://pandas.pydata.org/pandas-docs/stable/user_guide/indexing.html#returning-a-view-versus-a-copy\n",
      "  df['Data.Rates.Property.Motor'][i] = z\n"
     ]
    }
   ],
   "source": [
    "for i in range(0, len(df)):\n",
    "    if df['Data.Rates.Property.All'][i] <  df['Data.Rates.Property.Burglary'][i]:\n",
    "        x = df['Data.Rates.Property.All'][i]\n",
    "        df['Data.Rates.Property.All'][i] =  df['Data.Rates.Property.Burglary'][i]\n",
    "        df['Data.Rates.Property.Burglary'][i] = x\n",
    "    if df['Data.Rates.Property.Larceny'][i] <  df['Data.Rates.Property.Motor'][i]:\n",
    "        y = df['Data.Rates.Property.Larceny'][i]\n",
    "        df['Data.Rates.Property.Larceny'][i] =  df['Data.Rates.Property.Motor'][i]\n",
    "        df['Data.Rates.Property.Motor'][i] = y\n",
    "    if df['Data.Rates.Property.Burglary'][i] <  df['Data.Rates.Property.Motor'][i]:\n",
    "        z = df['Data.Rates.Property.Burglary'][i]\n",
    "        df['Data.Rates.Property.Burglary'][i] =  df['Data.Rates.Property.Motor'][i]\n",
    "        df['Data.Rates.Property.Motor'][i] = z\n",
    "\n",
    "# for j in range(0, len(df)):       \n",
    "#     if df['Data.Rates.Property.Larceny'][j] <  df['Data.Rates.Property.Motor'][j]:\n",
    "#         y = df['Data.Rates.Property.Larceny'][j]\n",
    "#         df['Data.Rates.Property.Larceny'][j] =  df['Data.Rates.Property.Motor'][j]\n",
    "#         df['Data.Rates.Property.Motor'][j] = y "
   ]
  },
  {
   "cell_type": "code",
   "execution_count": 7,
   "metadata": {},
   "outputs": [
    {
     "data": {
      "text/plain": [
       "Text(0.5, 1.0, 'Data after shifting')"
      ]
     },
     "execution_count": 7,
     "metadata": {},
     "output_type": "execute_result"
    },
    {
     "data": {
      "image/png": "[encoded data removed]",
      "text/plain": [
       "<Figure size 432x288 with 1 Axes>"
      ]
     },
     "metadata": {
      "needs_background": "light"
     },
     "output_type": "display_data"
    }
   ],
   "source": [
    "california = df[df[\"State\"] == \"California\"]\n",
    "fig,ax = plt.subplots()\n",
    "\n",
    "# ax.scatter(data=california, x = 'Year', y = 'Data.Population')\n",
    "ax.scatter(data=california, x = 'Year', y = 'Data.Rates.Property.All')\n",
    "ax.scatter(data=california, x = 'Year', y = 'Data.Rates.Property.Larceny')\n",
    "ax.scatter(data=california, x = 'Year', y = 'Data.Rates.Property.Burglary')\n",
    "ax.scatter(data=california, x = 'Year', y = 'Data.Rates.Property.Motor')\n",
    "# ax.scatter(data=california, x = 'Year', y = 'Data.Rates.Violent.All')\n",
    "# ax.scatter(data=california, x = 'Year', y = 'Data.Rates.Violent.Assault')\n",
    "# ax.scatter(data=california, x = 'Year', y = 'Data.Rates.Violent.Murder')\n",
    "# ax.scatter(data=california, x = 'Year', y = 'Data.Rates.Violent.Robbery')\n",
    "# ax.scatter(data=california, x = 'Year', y = 'Data.Totals.Property.All')\n",
    "# ax.scatter(data=california, x = 'Year', y = 'Data.Rates.Violent.Rape')\n",
    "fig.legend()\n",
    "plt.title(\"Data after shifting\")"
   ]
  },
  {
   "cell_type": "code",
   "execution_count": 8,
   "metadata": {},
   "outputs": [
    {
     "data": {
      "text/html": [
       "<div>\n",
       "<style scoped>\n",
       "    .dataframe tbody tr th:only-of-type {\n",
       "        vertical-align: middle;\n",
       "    }\n",
       "\n",
       "    .dataframe tbody tr th {\n",
       "        vertical-align: top;\n",
       "    }\n",
       "\n",
       "    .dataframe thead th {\n",
       "        text-align: right;\n",
       "    }\n",
       "</style>\n",
       "<table border=\"1\" class=\"dataframe\">\n",
       "  <thead>\n",
       "    <tr style=\"text-align: right;\">\n",
       "      <th></th>\n",
       "      <th>State</th>\n",
       "      <th>Year</th>\n",
       "      <th>Data.Population</th>\n",
       "      <th>Data.Rates.Property.All</th>\n",
       "      <th>Data.Rates.Property.Burglary</th>\n",
       "      <th>Data.Rates.Property.Larceny</th>\n",
       "      <th>Data.Rates.Property.Motor</th>\n",
       "      <th>Data.Rates.Violent.All</th>\n",
       "      <th>Data.Rates.Violent.Assault</th>\n",
       "      <th>Data.Rates.Violent.Murder</th>\n",
       "      <th>...</th>\n",
       "      <th>Data.Rates.Violent.Robbery</th>\n",
       "      <th>Data.Totals.Property.All</th>\n",
       "      <th>Data.Totals.Property.Burglary</th>\n",
       "      <th>Data.Totals.Property.Larceny</th>\n",
       "      <th>Data.Totals.Property.Motor</th>\n",
       "      <th>Data.Totals.Violent.All</th>\n",
       "      <th>Data.Totals.Violent.Assault</th>\n",
       "      <th>Data.Totals.Violent.Murder</th>\n",
       "      <th>Data.Totals.Violent.Rape</th>\n",
       "      <th>Data.Totals.Violent.Robbery</th>\n",
       "    </tr>\n",
       "  </thead>\n",
       "  <tbody>\n",
       "    <tr>\n",
       "      <th>240</th>\n",
       "      <td>California</td>\n",
       "      <td>1960</td>\n",
       "      <td>15717204</td>\n",
       "      <td>3235.4</td>\n",
       "      <td>910.5</td>\n",
       "      <td>1984.8</td>\n",
       "      <td>340.1</td>\n",
       "      <td>239.0</td>\n",
       "      <td>119.6</td>\n",
       "      <td>3.9</td>\n",
       "      <td>...</td>\n",
       "      <td>97.3</td>\n",
       "      <td>508511</td>\n",
       "      <td>143102</td>\n",
       "      <td>311956</td>\n",
       "      <td>53453</td>\n",
       "      <td>37558</td>\n",
       "      <td>18796</td>\n",
       "      <td>616</td>\n",
       "      <td>2859</td>\n",
       "      <td>15287</td>\n",
       "    </tr>\n",
       "    <tr>\n",
       "      <th>241</th>\n",
       "      <td>California</td>\n",
       "      <td>1961</td>\n",
       "      <td>16397000</td>\n",
       "      <td>3177.5</td>\n",
       "      <td>894.2</td>\n",
       "      <td>1950.6</td>\n",
       "      <td>332.7</td>\n",
       "      <td>232.7</td>\n",
       "      <td>120.0</td>\n",
       "      <td>3.7</td>\n",
       "      <td>...</td>\n",
       "      <td>90.5</td>\n",
       "      <td>521008</td>\n",
       "      <td>146615</td>\n",
       "      <td>319834</td>\n",
       "      <td>54559</td>\n",
       "      <td>38154</td>\n",
       "      <td>19684</td>\n",
       "      <td>605</td>\n",
       "      <td>3033</td>\n",
       "      <td>14832</td>\n",
       "    </tr>\n",
       "    <tr>\n",
       "      <th>242</th>\n",
       "      <td>California</td>\n",
       "      <td>1962</td>\n",
       "      <td>16970000</td>\n",
       "      <td>3326.2</td>\n",
       "      <td>934.1</td>\n",
       "      <td>2052.9</td>\n",
       "      <td>339.2</td>\n",
       "      <td>234.8</td>\n",
       "      <td>121.7</td>\n",
       "      <td>3.9</td>\n",
       "      <td>...</td>\n",
       "      <td>91.9</td>\n",
       "      <td>564451</td>\n",
       "      <td>158523</td>\n",
       "      <td>348373</td>\n",
       "      <td>57555</td>\n",
       "      <td>39846</td>\n",
       "      <td>20645</td>\n",
       "      <td>657</td>\n",
       "      <td>2946</td>\n",
       "      <td>15598</td>\n",
       "    </tr>\n",
       "    <tr>\n",
       "      <th>243</th>\n",
       "      <td>California</td>\n",
       "      <td>1963</td>\n",
       "      <td>17590000</td>\n",
       "      <td>3545.8</td>\n",
       "      <td>998.9</td>\n",
       "      <td>2184.7</td>\n",
       "      <td>362.2</td>\n",
       "      <td>241.2</td>\n",
       "      <td>126.3</td>\n",
       "      <td>3.8</td>\n",
       "      <td>...</td>\n",
       "      <td>93.6</td>\n",
       "      <td>623709</td>\n",
       "      <td>175703</td>\n",
       "      <td>384289</td>\n",
       "      <td>63717</td>\n",
       "      <td>42419</td>\n",
       "      <td>22208</td>\n",
       "      <td>673</td>\n",
       "      <td>3080</td>\n",
       "      <td>16458</td>\n",
       "    </tr>\n",
       "    <tr>\n",
       "      <th>244</th>\n",
       "      <td>California</td>\n",
       "      <td>1964</td>\n",
       "      <td>18084000</td>\n",
       "      <td>3874.3</td>\n",
       "      <td>1088.7</td>\n",
       "      <td>2366.5</td>\n",
       "      <td>419.1</td>\n",
       "      <td>265.6</td>\n",
       "      <td>138.2</td>\n",
       "      <td>4.1</td>\n",
       "      <td>...</td>\n",
       "      <td>103.2</td>\n",
       "      <td>700630</td>\n",
       "      <td>196883</td>\n",
       "      <td>427960</td>\n",
       "      <td>75787</td>\n",
       "      <td>48026</td>\n",
       "      <td>24998</td>\n",
       "      <td>740</td>\n",
       "      <td>3621</td>\n",
       "      <td>18667</td>\n",
       "    </tr>\n",
       "  </tbody>\n",
       "</table>\n",
       "<p>5 rows × 21 columns</p>\n",
       "</div>"
      ],
      "text/plain": [
       "          State  Year  Data.Population  Data.Rates.Property.All  \\\n",
       "240  California  1960         15717204                   3235.4   \n",
       "241  California  1961         16397000                   3177.5   \n",
       "242  California  1962         16970000                   3326.2   \n",
       "243  California  1963         17590000                   3545.8   \n",
       "244  California  1964         18084000                   3874.3   \n",
       "\n",
       "     Data.Rates.Property.Burglary  Data.Rates.Property.Larceny  \\\n",
       "240                         910.5                       1984.8   \n",
       "241                         894.2                       1950.6   \n",
       "242                         934.1                       2052.9   \n",
       "243                         998.9                       2184.7   \n",
       "244                        1088.7                       2366.5   \n",
       "\n",
       "     Data.Rates.Property.Motor  Data.Rates.Violent.All  \\\n",
       "240                      340.1                   239.0   \n",
       "241                      332.7                   232.7   \n",
       "242                      339.2                   234.8   \n",
       "243                      362.2                   241.2   \n",
       "244                      419.1                   265.6   \n",
       "\n",
       "     Data.Rates.Violent.Assault  Data.Rates.Violent.Murder  ...  \\\n",
       "240                       119.6                        3.9  ...   \n",
       "241                       120.0                        3.7  ...   \n",
       "242                       121.7                        3.9  ...   \n",
       "243                       126.3                        3.8  ...   \n",
       "244                       138.2                        4.1  ...   \n",
       "\n",
       "     Data.Rates.Violent.Robbery  Data.Totals.Property.All  \\\n",
       "240                        97.3                    508511   \n",
       "241                        90.5                    521008   \n",
       "242                        91.9                    564451   \n",
       "243                        93.6                    623709   \n",
       "244                       103.2                    700630   \n",
       "\n",
       "     Data.Totals.Property.Burglary  Data.Totals.Property.Larceny  \\\n",
       "240                         143102                        311956   \n",
       "241                         146615                        319834   \n",
       "242                         158523                        348373   \n",
       "243                         175703                        384289   \n",
       "244                         196883                        427960   \n",
       "\n",
       "     Data.Totals.Property.Motor  Data.Totals.Violent.All  \\\n",
       "240                       53453                    37558   \n",
       "241                       54559                    38154   \n",
       "242                       57555                    39846   \n",
       "243                       63717                    42419   \n",
       "244                       75787                    48026   \n",
       "\n",
       "     Data.Totals.Violent.Assault  Data.Totals.Violent.Murder  \\\n",
       "240                        18796                         616   \n",
       "241                        19684                         605   \n",
       "242                        20645                         657   \n",
       "243                        22208                         673   \n",
       "244                        24998                         740   \n",
       "\n",
       "     Data.Totals.Violent.Rape  Data.Totals.Violent.Robbery  \n",
       "240                      2859                        15287  \n",
       "241                      3033                        14832  \n",
       "242                      2946                        15598  \n",
       "243                      3080                        16458  \n",
       "244                      3621                        18667  \n",
       "\n",
       "[5 rows x 21 columns]"
      ]
     },
     "execution_count": 8,
     "metadata": {},
     "output_type": "execute_result"
    }
   ],
   "source": [
    "california.head()"
   ]
  },
  {
   "cell_type": "markdown",
   "metadata": {},
   "source": [
    "# Basic analysis of the data"
   ]
  },
  {
   "cell_type": "code",
   "execution_count": 9,
   "metadata": {},
   "outputs": [
    {
     "data": {
      "text/plain": [
       "Text(0, 0.5, 'Population')"
      ]
     },
     "execution_count": 9,
     "metadata": {},
     "output_type": "execute_result"
    },
    {
     "data": {
      "image/png": "[encoded data removed]",
      "text/plain": [
       "<Figure size 432x288 with 1 Axes>"
      ]
     },
     "metadata": {
      "needs_background": "light"
     },
     "output_type": "display_data"
    }
   ],
   "source": [
    "# create figure and axis objects with subplots()\n",
    "fig,ax = plt.subplots()\n",
    "# make a plot\n",
    "ax.plot(california['Year'], california['Data.Population'], color=\"red\", marker = 'o')\n",
    "# set x-axis label\n",
    "ax.set_xlabel(\"Year\",fontsize=12)\n",
    "# set y-axis label\n",
    "ax.set_ylabel(\"Population\",fontsize=12)"
   ]
  },
  {
   "cell_type": "code",
   "execution_count": 10,
   "metadata": {
    "scrolled": false
   },
   "outputs": [
    {
     "data": {
      "text/html": [
       "<div>\n",
       "<style scoped>\n",
       "    .dataframe tbody tr th:only-of-type {\n",
       "        vertical-align: middle;\n",
       "    }\n",
       "\n",
       "    .dataframe tbody tr th {\n",
       "        vertical-align: top;\n",
       "    }\n",
       "\n",
       "    .dataframe thead th {\n",
       "        text-align: right;\n",
       "    }\n",
       "</style>\n",
       "<table border=\"1\" class=\"dataframe\">\n",
       "  <thead>\n",
       "    <tr style=\"text-align: right;\">\n",
       "      <th></th>\n",
       "      <th>Year</th>\n",
       "      <th>Data.Population</th>\n",
       "      <th>Data.Rates.Property.All</th>\n",
       "      <th>Data.Rates.Property.Burglary</th>\n",
       "      <th>Data.Rates.Property.Larceny</th>\n",
       "      <th>Data.Rates.Property.Motor</th>\n",
       "      <th>Data.Rates.Violent.All</th>\n",
       "      <th>Data.Rates.Violent.Assault</th>\n",
       "      <th>Data.Rates.Violent.Murder</th>\n",
       "      <th>Data.Rates.Violent.Rape</th>\n",
       "      <th>Data.Rates.Violent.Robbery</th>\n",
       "      <th>Data.Totals.Property.All</th>\n",
       "      <th>Data.Totals.Property.Burglary</th>\n",
       "      <th>Data.Totals.Property.Larceny</th>\n",
       "      <th>Data.Totals.Property.Motor</th>\n",
       "      <th>Data.Totals.Violent.All</th>\n",
       "      <th>Data.Totals.Violent.Assault</th>\n",
       "      <th>Data.Totals.Violent.Murder</th>\n",
       "      <th>Data.Totals.Violent.Rape</th>\n",
       "      <th>Data.Totals.Violent.Robbery</th>\n",
       "    </tr>\n",
       "  </thead>\n",
       "  <tbody>\n",
       "    <tr>\n",
       "      <th>count</th>\n",
       "      <td>60.000000</td>\n",
       "      <td>6.000000e+01</td>\n",
       "      <td>60.000000</td>\n",
       "      <td>60.000000</td>\n",
       "      <td>60.000000</td>\n",
       "      <td>60.000000</td>\n",
       "      <td>60.000000</td>\n",
       "      <td>60.000000</td>\n",
       "      <td>60.00000</td>\n",
       "      <td>60.000000</td>\n",
       "      <td>60.000000</td>\n",
       "      <td>6.000000e+01</td>\n",
       "      <td>6.000000e+01</td>\n",
       "      <td>60.000000</td>\n",
       "      <td>60.000000</td>\n",
       "      <td>60.000000</td>\n",
       "      <td>60.000000</td>\n",
       "      <td>60.00000</td>\n",
       "      <td>60.000000</td>\n",
       "      <td>60.000000</td>\n",
       "    </tr>\n",
       "    <tr>\n",
       "      <th>mean</th>\n",
       "      <td>1989.500000</td>\n",
       "      <td>2.855579e+07</td>\n",
       "      <td>4475.756667</td>\n",
       "      <td>1228.918333</td>\n",
       "      <td>2620.975000</td>\n",
       "      <td>616.905000</td>\n",
       "      <td>617.291667</td>\n",
       "      <td>339.663333</td>\n",
       "      <td>7.89000</td>\n",
       "      <td>34.218333</td>\n",
       "      <td>224.545000</td>\n",
       "      <td>1.163731e+06</td>\n",
       "      <td>3.580828e+05</td>\n",
       "      <td>691070.750000</td>\n",
       "      <td>201472.483333</td>\n",
       "      <td>178274.266667</td>\n",
       "      <td>99361.366667</td>\n",
       "      <td>2207.50000</td>\n",
       "      <td>9654.166667</td>\n",
       "      <td>62802.366667</td>\n",
       "    </tr>\n",
       "    <tr>\n",
       "      <th>std</th>\n",
       "      <td>17.464249</td>\n",
       "      <td>7.628299e+06</td>\n",
       "      <td>1478.502570</td>\n",
       "      <td>594.524257</td>\n",
       "      <td>778.947315</td>\n",
       "      <td>207.456626</td>\n",
       "      <td>242.850555</td>\n",
       "      <td>152.225295</td>\n",
       "      <td>3.11365</td>\n",
       "      <td>10.450099</td>\n",
       "      <td>104.734474</td>\n",
       "      <td>4.012412e+05</td>\n",
       "      <td>1.865597e+05</td>\n",
       "      <td>203269.217232</td>\n",
       "      <td>119409.517507</td>\n",
       "      <td>79088.695892</td>\n",
       "      <td>51175.017672</td>\n",
       "      <td>870.82368</td>\n",
       "      <td>3161.458981</td>\n",
       "      <td>30578.344402</td>\n",
       "    </tr>\n",
       "    <tr>\n",
       "      <th>min</th>\n",
       "      <td>1960.000000</td>\n",
       "      <td>1.571720e+07</td>\n",
       "      <td>2331.200000</td>\n",
       "      <td>386.100000</td>\n",
       "      <td>1527.400000</td>\n",
       "      <td>232.300000</td>\n",
       "      <td>232.700000</td>\n",
       "      <td>119.600000</td>\n",
       "      <td>3.70000</td>\n",
       "      <td>17.400000</td>\n",
       "      <td>19.500000</td>\n",
       "      <td>8.902900e+04</td>\n",
       "      <td>1.431020e+05</td>\n",
       "      <td>197404.000000</td>\n",
       "      <td>53453.000000</td>\n",
       "      <td>37558.000000</td>\n",
       "      <td>18796.000000</td>\n",
       "      <td>605.00000</td>\n",
       "      <td>2859.000000</td>\n",
       "      <td>7464.000000</td>\n",
       "    </tr>\n",
       "    <tr>\n",
       "      <th>25%</th>\n",
       "      <td>1974.750000</td>\n",
       "      <td>2.111550e+07</td>\n",
       "      <td>3177.725000</td>\n",
       "      <td>674.300000</td>\n",
       "      <td>1922.125000</td>\n",
       "      <td>443.275000</td>\n",
       "      <td>440.800000</td>\n",
       "      <td>241.225000</td>\n",
       "      <td>4.87500</td>\n",
       "      <td>25.300000</td>\n",
       "      <td>147.475000</td>\n",
       "      <td>9.858202e+05</td>\n",
       "      <td>2.317542e+05</td>\n",
       "      <td>620181.750000</td>\n",
       "      <td>139242.500000</td>\n",
       "      <td>136046.000000</td>\n",
       "      <td>53445.500000</td>\n",
       "      <td>1744.25000</td>\n",
       "      <td>8280.000000</td>\n",
       "      <td>48528.250000</td>\n",
       "    </tr>\n",
       "    <tr>\n",
       "      <th>50%</th>\n",
       "      <td>1989.500000</td>\n",
       "      <td>2.941151e+07</td>\n",
       "      <td>4294.700000</td>\n",
       "      <td>1164.950000</td>\n",
       "      <td>2555.650000</td>\n",
       "      <td>635.600000</td>\n",
       "      <td>572.700000</td>\n",
       "      <td>319.050000</td>\n",
       "      <td>6.85000</td>\n",
       "      <td>34.150000</td>\n",
       "      <td>198.450000</td>\n",
       "      <td>1.185550e+06</td>\n",
       "      <td>3.209860e+05</td>\n",
       "      <td>695103.000000</td>\n",
       "      <td>168435.500000</td>\n",
       "      <td>180857.000000</td>\n",
       "      <td>99075.500000</td>\n",
       "      <td>2188.50000</td>\n",
       "      <td>9872.500000</td>\n",
       "      <td>62310.000000</td>\n",
       "    </tr>\n",
       "    <tr>\n",
       "      <th>75%</th>\n",
       "      <td>2004.250000</td>\n",
       "      <td>3.592007e+07</td>\n",
       "      <td>5760.975000</td>\n",
       "      <td>1708.150000</td>\n",
       "      <td>3346.200000</td>\n",
       "      <td>696.875000</td>\n",
       "      <td>801.500000</td>\n",
       "      <td>410.650000</td>\n",
       "      <td>10.60000</td>\n",
       "      <td>41.650000</td>\n",
       "      <td>311.450000</td>\n",
       "      <td>1.492620e+06</td>\n",
       "      <td>4.356690e+05</td>\n",
       "      <td>859776.750000</td>\n",
       "      <td>241611.000000</td>\n",
       "      <td>210350.250000</td>\n",
       "      <td>136183.250000</td>\n",
       "      <td>2772.25000</td>\n",
       "      <td>11997.750000</td>\n",
       "      <td>84399.500000</td>\n",
       "    </tr>\n",
       "    <tr>\n",
       "      <th>max</th>\n",
       "      <td>2019.000000</td>\n",
       "      <td>3.955704e+07</td>\n",
       "      <td>6939.500000</td>\n",
       "      <td>2316.500000</td>\n",
       "      <td>3880.000000</td>\n",
       "      <td>1038.900000</td>\n",
       "      <td>1119.700000</td>\n",
       "      <td>641.600000</td>\n",
       "      <td>14.50000</td>\n",
       "      <td>58.200000</td>\n",
       "      <td>424.100000</td>\n",
       "      <td>1.726391e+06</td>\n",
       "      <td>1.024914e+06</td>\n",
       "      <td>986120.000000</td>\n",
       "      <td>656517.000000</td>\n",
       "      <td>345624.000000</td>\n",
       "      <td>198045.000000</td>\n",
       "      <td>4096.00000</td>\n",
       "      <td>15505.000000</td>\n",
       "      <td>130897.000000</td>\n",
       "    </tr>\n",
       "  </tbody>\n",
       "</table>\n",
       "</div>"
      ],
      "text/plain": [
       "              Year  Data.Population  Data.Rates.Property.All  \\\n",
       "count    60.000000     6.000000e+01                60.000000   \n",
       "mean   1989.500000     2.855579e+07              4475.756667   \n",
       "std      17.464249     7.628299e+06              1478.502570   \n",
       "min    1960.000000     1.571720e+07              2331.200000   \n",
       "25%    1974.750000     2.111550e+07              3177.725000   \n",
       "50%    1989.500000     2.941151e+07              4294.700000   \n",
       "75%    2004.250000     3.592007e+07              5760.975000   \n",
       "max    2019.000000     3.955704e+07              6939.500000   \n",
       "\n",
       "       Data.Rates.Property.Burglary  Data.Rates.Property.Larceny  \\\n",
       "count                     60.000000                    60.000000   \n",
       "mean                    1228.918333                  2620.975000   \n",
       "std                      594.524257                   778.947315   \n",
       "min                      386.100000                  1527.400000   \n",
       "25%                      674.300000                  1922.125000   \n",
       "50%                     1164.950000                  2555.650000   \n",
       "75%                     1708.150000                  3346.200000   \n",
       "max                     2316.500000                  3880.000000   \n",
       "\n",
       "       Data.Rates.Property.Motor  Data.Rates.Violent.All  \\\n",
       "count                  60.000000               60.000000   \n",
       "mean                  616.905000              617.291667   \n",
       "std                   207.456626              242.850555   \n",
       "min                   232.300000              232.700000   \n",
       "25%                   443.275000              440.800000   \n",
       "50%                   635.600000              572.700000   \n",
       "75%                   696.875000              801.500000   \n",
       "max                  1038.900000             1119.700000   \n",
       "\n",
       "       Data.Rates.Violent.Assault  Data.Rates.Violent.Murder  \\\n",
       "count                   60.000000                   60.00000   \n",
       "mean                   339.663333                    7.89000   \n",
       "std                    152.225295                    3.11365   \n",
       "min                    119.600000                    3.70000   \n",
       "25%                    241.225000                    4.87500   \n",
       "50%                    319.050000                    6.85000   \n",
       "75%                    410.650000                   10.60000   \n",
       "max                    641.600000                   14.50000   \n",
       "\n",
       "       Data.Rates.Violent.Rape  Data.Rates.Violent.Robbery  \\\n",
       "count                60.000000                   60.000000   \n",
       "mean                 34.218333                  224.545000   \n",
       "std                  10.450099                  104.734474   \n",
       "min                  17.400000                   19.500000   \n",
       "25%                  25.300000                  147.475000   \n",
       "50%                  34.150000                  198.450000   \n",
       "75%                  41.650000                  311.450000   \n",
       "max                  58.200000                  424.100000   \n",
       "\n",
       "       Data.Totals.Property.All  Data.Totals.Property.Burglary  \\\n",
       "count              6.000000e+01                   6.000000e+01   \n",
       "mean               1.163731e+06                   3.580828e+05   \n",
       "std                4.012412e+05                   1.865597e+05   \n",
       "min                8.902900e+04                   1.431020e+05   \n",
       "25%                9.858202e+05                   2.317542e+05   \n",
       "50%                1.185550e+06                   3.209860e+05   \n",
       "75%                1.492620e+06                   4.356690e+05   \n",
       "max                1.726391e+06                   1.024914e+06   \n",
       "\n",
       "       Data.Totals.Property.Larceny  Data.Totals.Property.Motor  \\\n",
       "count                     60.000000                   60.000000   \n",
       "mean                  691070.750000               201472.483333   \n",
       "std                   203269.217232               119409.517507   \n",
       "min                   197404.000000                53453.000000   \n",
       "25%                   620181.750000               139242.500000   \n",
       "50%                   695103.000000               168435.500000   \n",
       "75%                   859776.750000               241611.000000   \n",
       "max                   986120.000000               656517.000000   \n",
       "\n",
       "       Data.Totals.Violent.All  Data.Totals.Violent.Assault  \\\n",
       "count                60.000000                    60.000000   \n",
       "mean             178274.266667                 99361.366667   \n",
       "std               79088.695892                 51175.017672   \n",
       "min               37558.000000                 18796.000000   \n",
       "25%              136046.000000                 53445.500000   \n",
       "50%              180857.000000                 99075.500000   \n",
       "75%              210350.250000                136183.250000   \n",
       "max              345624.000000                198045.000000   \n",
       "\n",
       "       Data.Totals.Violent.Murder  Data.Totals.Violent.Rape  \\\n",
       "count                    60.00000                 60.000000   \n",
       "mean                   2207.50000               9654.166667   \n",
       "std                     870.82368               3161.458981   \n",
       "min                     605.00000               2859.000000   \n",
       "25%                    1744.25000               8280.000000   \n",
       "50%                    2188.50000               9872.500000   \n",
       "75%                    2772.25000              11997.750000   \n",
       "max                    4096.00000              15505.000000   \n",
       "\n",
       "       Data.Totals.Violent.Robbery  \n",
       "count                    60.000000  \n",
       "mean                  62802.366667  \n",
       "std                   30578.344402  \n",
       "min                    7464.000000  \n",
       "25%                   48528.250000  \n",
       "50%                   62310.000000  \n",
       "75%                   84399.500000  \n",
       "max                  130897.000000  "
      ]
     },
     "execution_count": 10,
     "metadata": {},
     "output_type": "execute_result"
    }
   ],
   "source": [
    "california.describe()"
   ]
  },
  {
   "cell_type": "code",
   "execution_count": 11,
   "metadata": {},
   "outputs": [
    {
     "name": "stdout",
     "output_type": "stream",
     "text": [
      "2621\n",
      "779\n"
     ]
    }
   ],
   "source": [
    "mean_all = round(california['Data.Rates.Property.Larceny'].mean())\n",
    "print(mean_all)\n",
    "std_all = round(california['Data.Rates.Property.Larceny'].std())\n",
    "print(std_all)"
   ]
  },
  {
   "cell_type": "code",
   "execution_count": 489,
   "metadata": {},
   "outputs": [
    {
     "data": {
      "text/plain": [
       "60"
      ]
     },
     "execution_count": 489,
     "metadata": {},
     "output_type": "execute_result"
    }
   ],
   "source": [
    "# print(california[\"Data.Rates.Property.All\"])\n",
    "len(california)"
   ]
  },
  {
   "cell_type": "markdown",
   "metadata": {},
   "source": [
    "# Prior predictive check"
   ]
  },
  {
   "cell_type": "code",
   "execution_count": null,
   "metadata": {},
   "outputs": [
    {
     "name": "stderr",
     "output_type": "stream",
     "text": [
      "INFO:cmdstanpy:compiling stan file /home/kasia/Documents/DataAnalytics/Project/prior_test.stan to exe file /home/kasia/Documents/DataAnalytics/Project/prior_test\n"
     ]
    }
   ],
   "source": [
    "# normal_model1 = CmdStanModel(stan_file = 'normal_ppc.stan')\n",
    "# stan_data={\"data_mu\": mean_all, \"data_sigma\": std_all}\n",
    "\n",
    "normal_model1 = CmdStanModel(stan_file = 'prior_test.stan')\n",
    "stan_data={'N': len(california[\"Data.Rates.Property.All\"]), \"dane\": california[\"Data.Rates.Property.All\"], 'std': std_all, \"mean\": mean_all}\n",
    "\n",
    "R = 60 #bc the data has been collected for 60 years\n",
    "sim = normal_model1.sample(data=stan_data, iter_sampling = R, \n",
    "                             iter_warmup = 0,\n",
    "                             chains = 1,\n",
    "                             fixed_param = True,\n",
    "                             seed = 31052022)\n",
    "alpha_sim = sim.stan_variable('alpha')\n",
    "beta_sim = sim.stan_variable('beta')\n",
    "# mu_sim = sim.stan_variable('mu')\n",
    "sigma_sim = sim.stan_variable('sigma')\n",
    "prior = sim.stan_variable('prior')"
   ]
  },
  {
   "cell_type": "code",
   "execution_count": 491,
   "metadata": {
    "collapsed": true
   },
   "outputs": [
    {
     "name": "stdout",
     "output_type": "stream",
     "text": [
      "[1363.97   1306.08   1322.13   3112.6    1481.45   1388.78   2406.99\n",
      "  583.392  3408.23   1697.9    2701.77   2049.93   2823.79   1758.4\n",
      " 2051.79   1814.08   2646.91   1940.15   1535.11   2428.17    624.934\n",
      " 2231.14   2459.7    1680.86   2127.26   1826.16   1260.08   1267.75\n",
      " 2115.99   1808.15    -68.4328 2030.88   1522.06   2257.72    657.967\n",
      " 1655.17   3567.82   3126.54   1679.59   2039.5    2580.18   1578.78\n",
      " 3105.52    906.53   2797.63    558.235  2036.88   1018.73   2674.53\n",
      "  941.653  1872.87   1445.25    600.943  1421.68   1829.31   2297.92\n",
      "  818.304  1477.83   2220.53   1185.83  ]\n"
     ]
    }
   ],
   "source": [
    "# print((alpha_sim))\n",
    "# print(beta_sim)\n",
    "# print(len(sigma_sim))\n",
    "# print(len(prior))\n",
    "# print(prior)\n",
    "prior = prior[:,1].flatten()\n",
    "print(prior)"
   ]
  },
  {
   "cell_type": "code",
   "execution_count": 492,
   "metadata": {},
   "outputs": [
    {
     "data": {
      "text/plain": [
       "<matplotlib.legend.Legend at 0x24919e59d90>"
      ]
     },
     "execution_count": 492,
     "metadata": {},
     "output_type": "execute_result"
    },
    {
     "data": {
      "image/png": "[encoded data removed]",
      "text/plain": [
       "<Figure size 432x288 with 1 Axes>"
      ]
     },
     "metadata": {
      "needs_background": "light"
     },
     "output_type": "display_data"
    }
   ],
   "source": [
    "fig,ax = plt.subplots()\n",
    "x= list(range(1960,2020))\n",
    "plt.plot(x, prior, \"o\", color = 'red', label = 'Prior prediction')\n",
    "ax.scatter(x = california['Year'], y = california[\"Data.Rates.Property.Larceny\"], label = 'Actual data')\n",
    "#ax.scatter(data=prior, x = 'Year', y = 'Data.Rates.Property.Larceny')\n",
    "ax.set_ylabel(\"Rate\")\n",
    "ax.set_xlabel(\"Years\")\n",
    "ax.set_title(\"Larceny rates in California\")\n",
    "fig.legend()"
   ]
  },
  {
   "cell_type": "code",
   "execution_count": 493,
   "metadata": {},
   "outputs": [
    {
     "data": {
      "image/png": "[encoded data removed]",
      "text/plain": [
       "<Figure size 432x288 with 1 Axes>"
      ]
     },
     "metadata": {
      "needs_background": "light"
     },
     "output_type": "display_data"
    }
   ],
   "source": [
    "# prior.hist(column = 'Data.Rates.Property.Larceny', bins = 20)\n",
    "# np.histogram(prior, bins = 20)\n",
    "plt.hist(prior, bins=20, label= \"prior\", histtype='step')\n",
    "plt.hist(california['Data.Rates.Property.Larceny'], bins=50, label= \"actual data\", histtype='step')\n",
    "plt.legend(loc=\"upper left\")\n",
    "plt.show()"
   ]
  },
  {
   "cell_type": "code",
   "execution_count": 494,
   "metadata": {},
   "outputs": [
    {
     "data": {
      "image/png": "[encoded data removed]",
      "text/plain": [
       "<Figure size 432x288 with 1 Axes>"
      ]
     },
     "metadata": {
      "needs_background": "light"
     },
     "output_type": "display_data"
    }
   ],
   "source": [
    "q50 =[]\n",
    "\n",
    "for i in range(1,len(sim.stan_variable('prior')[1])):\n",
    "    q50.append(np.quantile(sim.stan_variable('prior')[:,i],0.50))\n",
    "\n",
    "plt.plot(q50)\n",
    "plt.show()"
   ]
  },
  {
   "cell_type": "code",
   "execution_count": 495,
   "metadata": {},
   "outputs": [
    {
     "name": "stderr",
     "output_type": "stream",
     "text": [
      "INFO:cmdstanpy:found newer exe file, not recompiling\n",
      "INFO:cmdstanpy:CmdStan start processing\n",
      "chain 1 |\u001b[34m██████████\u001b[0m| 00:00 Sampling completed                   "
     ]
    },
    {
     "name": "stdout",
     "output_type": "stream",
     "text": [
      "                                                                                "
     ]
    },
    {
     "name": "stderr",
     "output_type": "stream",
     "text": [
      "\n",
      "INFO:cmdstanpy:CmdStan done processing.\n"
     ]
    },
    {
     "name": "stdout",
     "output_type": "stream",
     "text": [
      "\n"
     ]
    }
   ],
   "source": [
    "normal_model1 = CmdStanModel(stan_file = 'normal_ppc.stan')\n",
    "stan_data={\"data_mu\": mean_all, \"data_sigma\": std_all}\n",
    "\n",
    "# normal_model1 = CmdStanModel(stan_file = 'prior_test.stan')\n",
    "# stan_data={'N': len(california[\"Data.Rates.Property.All\"]), \"dane\": california[\"Data.Rates.Property.All\"], 'std': std_all, \"mean\": mean_all}\n",
    "\n",
    "R = 60 #bc the data has been collected for 60 years\n",
    "sim = normal_model1.sample(data=stan_data, iter_sampling = R, \n",
    "                             iter_warmup = 0,\n",
    "                             chains = 1,\n",
    "                             fixed_param = True,\n",
    "                             seed = 31052022)\n",
    "# alpha_sim = sim.stan_variable('alpha')\n",
    "# beta_sim = sim.stan_variable('beta')\n",
    "mu_sim = sim.stan_variable('mu')\n",
    "sigma_sim = sim.stan_variable('sigma')\n",
    "prior = sim.stan_variable('prior')"
   ]
  },
  {
   "cell_type": "code",
   "execution_count": 496,
   "metadata": {},
   "outputs": [
    {
     "name": "stdout",
     "output_type": "stream",
     "text": [
      "[3868.73  3010.49  1792.51  1991.09  3252.68  1521.41  3096.61  3415.28\n",
      " 3230.39  1319.64  3856.34  4164.6   4581.64  2738.35  3443.76  2089.54\n",
      " 2638.45  3276.    1378.92  1581.09  1629.67  2292.52  1738.82  3006.18\n",
      " 3410.35  1721.08  4368.97  2617.36  3217.85  1951.09   560.375 4234.57\n",
      " 3794.67  2841.35  4747.02  3110.37  2670.35  2759.1   2446.37  2944.18\n",
      " 2708.79  2158.7   2199.04  3258.49  3370.29  2093.7   3264.31  3461.83\n",
      " 3265.27  1978.09  2924.83  3196.63  1503.88  2163.38  2538.02  3483.89\n",
      " -142.576 3561.48  4580.97  2472.9  ]\n"
     ]
    },
    {
     "data": {
      "text/plain": [
       "<matplotlib.legend.Legend at 0x2491af5b5e0>"
      ]
     },
     "execution_count": 496,
     "metadata": {},
     "output_type": "execute_result"
    },
    {
     "data": {
      "image/png": "[encoded data removed]",
      "text/plain": [
       "<Figure size 432x288 with 1 Axes>"
      ]
     },
     "metadata": {
      "needs_background": "light"
     },
     "output_type": "display_data"
    }
   ],
   "source": [
    "print(prior)\n",
    "fig,ax = plt.subplots()\n",
    "x= list(range(1960,2020))\n",
    "plt.plot(x, prior, \"o\", color = 'red', label = 'Prior prediction')\n",
    "ax.scatter(x = california['Year'], y = california[\"Data.Rates.Property.Larceny\"], label = 'Actual data')\n",
    "#ax.scatter(data=prior, x = 'Year', y = 'Data.Rates.Property.Larceny')\n",
    "ax.set_ylabel(\"Rate\")\n",
    "ax.set_xlabel(\"Years\")\n",
    "ax.set_title(\"Larceny rates in California\")\n",
    "fig.legend()"
   ]
  },
  {
   "cell_type": "code",
   "execution_count": 497,
   "metadata": {},
   "outputs": [
    {
     "data": {
      "image/png": "[encoded data removed]",
      "text/plain": [
       "<Figure size 432x288 with 1 Axes>"
      ]
     },
     "metadata": {
      "needs_background": "light"
     },
     "output_type": "display_data"
    }
   ],
   "source": [
    "# prior.hist(column = 'Data.Rates.Property.Larceny', bins = 20)\n",
    "# np.histogram(prior, bins = 20)\n",
    "plt.hist(prior, bins=20, label= \"prior\", histtype='step')\n",
    "plt.hist(california['Data.Rates.Property.Larceny'], bins=50, label= \"actual data\", histtype='step')\n",
    "plt.legend(loc=\"upper left\")\n",
    "plt.show()"
   ]
  },
  {
   "cell_type": "code",
   "execution_count": 498,
   "metadata": {},
   "outputs": [
    {
     "data": {
      "image/png": "[encoded data removed]",
      "text/plain": [
       "<Figure size 432x288 with 1 Axes>"
      ]
     },
     "metadata": {
      "needs_background": "light"
     },
     "output_type": "display_data"
    }
   ],
   "source": [
    "q50 =[]\n",
    "\n",
    "for i in range(1,len(sim.stan_variable('prior'))):\n",
    "    q50.append(np.quantile(sim.stan_variable('prior')[i],0.50))\n",
    "\n",
    "plt.plot(q50)\n",
    "plt.show()"
   ]
  }
 ],
 "metadata": {
  "interpreter": {
   "hash": "3daf6c350f2a0ede664192fc5f83250b54ba88dd11a44229b323659fc71bf29b"
  },
  "kernelspec": {
   "display_name": "Python 3 (ipykernel)",
   "language": "python",
   "name": "python3"
  },
  "language_info": {
   "codemirror_mode": {
    "name": "ipython",
    "version": 3
   },
   "file_extension": ".py",
   "mimetype": "text/x-python",
   "name": "python",
   "nbconvert_exporter": "python",
   "pygments_lexer": "ipython3",
   "version": "3.8.10"
  }
 },
 "nbformat": 4,
 "nbformat_minor": 2
}
