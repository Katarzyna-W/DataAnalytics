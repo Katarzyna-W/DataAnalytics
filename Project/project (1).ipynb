{
 "cells": [
  {
   "cell_type": "markdown",
   "metadata": {},
   "source": [
    "## PROJECT - STATE CRIME STATISTICS"
   ]
  },
  {
   "cell_type": "code",
   "execution_count": 78,
   "metadata": {},
   "outputs": [],
   "source": [
    "import pandas as pd\n",
    "import numpy as np\n",
    "import seaborn as sns\n",
    "import matplotlib.pyplot as plt\n",
    "from cmdstanpy import CmdStanModel\n",
    "import scipy.stats as stats\n",
    "import arviz as az"
   ]
  },
  {
   "cell_type": "code",
   "execution_count": 37,
   "metadata": {},
   "outputs": [
    {
     "data": {
      "text/html": [
       "<div>\n",
       "<style scoped>\n",
       "    .dataframe tbody tr th:only-of-type {\n",
       "        vertical-align: middle;\n",
       "    }\n",
       "\n",
       "    .dataframe tbody tr th {\n",
       "        vertical-align: top;\n",
       "    }\n",
       "\n",
       "    .dataframe thead th {\n",
       "        text-align: right;\n",
       "    }\n",
       "</style>\n",
       "<table border=\"1\" class=\"dataframe\">\n",
       "  <thead>\n",
       "    <tr style=\"text-align: right;\">\n",
       "      <th></th>\n",
       "      <th>State</th>\n",
       "      <th>Year</th>\n",
       "      <th>Data.Population</th>\n",
       "      <th>Data.Rates.Property.All</th>\n",
       "      <th>Data.Rates.Property.Burglary</th>\n",
       "      <th>Data.Rates.Property.Larceny</th>\n",
       "      <th>Data.Rates.Property.Motor</th>\n",
       "      <th>Data.Rates.Violent.All</th>\n",
       "      <th>Data.Rates.Violent.Assault</th>\n",
       "      <th>Data.Rates.Violent.Murder</th>\n",
       "      <th>...</th>\n",
       "      <th>Data.Rates.Violent.Robbery</th>\n",
       "      <th>Data.Totals.Property.All</th>\n",
       "      <th>Data.Totals.Property.Burglary</th>\n",
       "      <th>Data.Totals.Property.Larceny</th>\n",
       "      <th>Data.Totals.Property.Motor</th>\n",
       "      <th>Data.Totals.Violent.All</th>\n",
       "      <th>Data.Totals.Violent.Assault</th>\n",
       "      <th>Data.Totals.Violent.Murder</th>\n",
       "      <th>Data.Totals.Violent.Rape</th>\n",
       "      <th>Data.Totals.Violent.Robbery</th>\n",
       "    </tr>\n",
       "  </thead>\n",
       "  <tbody>\n",
       "    <tr>\n",
       "      <th>0</th>\n",
       "      <td>Alabama</td>\n",
       "      <td>1960</td>\n",
       "      <td>3266740</td>\n",
       "      <td>1035.4</td>\n",
       "      <td>355.9</td>\n",
       "      <td>592.1</td>\n",
       "      <td>87.3</td>\n",
       "      <td>186.6</td>\n",
       "      <td>138.1</td>\n",
       "      <td>12.4</td>\n",
       "      <td>...</td>\n",
       "      <td>27.5</td>\n",
       "      <td>33823</td>\n",
       "      <td>11626</td>\n",
       "      <td>19344</td>\n",
       "      <td>2853</td>\n",
       "      <td>6097</td>\n",
       "      <td>4512</td>\n",
       "      <td>406</td>\n",
       "      <td>281</td>\n",
       "      <td>898</td>\n",
       "    </tr>\n",
       "    <tr>\n",
       "      <th>1</th>\n",
       "      <td>Alabama</td>\n",
       "      <td>1961</td>\n",
       "      <td>3302000</td>\n",
       "      <td>985.5</td>\n",
       "      <td>339.3</td>\n",
       "      <td>569.4</td>\n",
       "      <td>76.8</td>\n",
       "      <td>168.5</td>\n",
       "      <td>128.9</td>\n",
       "      <td>12.9</td>\n",
       "      <td>...</td>\n",
       "      <td>19.1</td>\n",
       "      <td>32541</td>\n",
       "      <td>11205</td>\n",
       "      <td>18801</td>\n",
       "      <td>2535</td>\n",
       "      <td>5564</td>\n",
       "      <td>4255</td>\n",
       "      <td>427</td>\n",
       "      <td>252</td>\n",
       "      <td>630</td>\n",
       "    </tr>\n",
       "    <tr>\n",
       "      <th>2</th>\n",
       "      <td>Alabama</td>\n",
       "      <td>1962</td>\n",
       "      <td>3358000</td>\n",
       "      <td>1067.0</td>\n",
       "      <td>349.1</td>\n",
       "      <td>634.5</td>\n",
       "      <td>83.4</td>\n",
       "      <td>157.3</td>\n",
       "      <td>119.0</td>\n",
       "      <td>9.4</td>\n",
       "      <td>...</td>\n",
       "      <td>22.5</td>\n",
       "      <td>35829</td>\n",
       "      <td>11722</td>\n",
       "      <td>21306</td>\n",
       "      <td>2801</td>\n",
       "      <td>5283</td>\n",
       "      <td>3995</td>\n",
       "      <td>316</td>\n",
       "      <td>218</td>\n",
       "      <td>754</td>\n",
       "    </tr>\n",
       "    <tr>\n",
       "      <th>3</th>\n",
       "      <td>Alabama</td>\n",
       "      <td>1963</td>\n",
       "      <td>3347000</td>\n",
       "      <td>1150.9</td>\n",
       "      <td>376.9</td>\n",
       "      <td>683.4</td>\n",
       "      <td>90.6</td>\n",
       "      <td>182.7</td>\n",
       "      <td>142.1</td>\n",
       "      <td>10.2</td>\n",
       "      <td>...</td>\n",
       "      <td>24.7</td>\n",
       "      <td>38521</td>\n",
       "      <td>12614</td>\n",
       "      <td>22874</td>\n",
       "      <td>3033</td>\n",
       "      <td>6115</td>\n",
       "      <td>4755</td>\n",
       "      <td>340</td>\n",
       "      <td>192</td>\n",
       "      <td>828</td>\n",
       "    </tr>\n",
       "    <tr>\n",
       "      <th>4</th>\n",
       "      <td>Alabama</td>\n",
       "      <td>1964</td>\n",
       "      <td>3407000</td>\n",
       "      <td>1358.7</td>\n",
       "      <td>466.6</td>\n",
       "      <td>784.1</td>\n",
       "      <td>108.0</td>\n",
       "      <td>213.1</td>\n",
       "      <td>163.0</td>\n",
       "      <td>9.3</td>\n",
       "      <td>...</td>\n",
       "      <td>29.1</td>\n",
       "      <td>46290</td>\n",
       "      <td>15898</td>\n",
       "      <td>26713</td>\n",
       "      <td>3679</td>\n",
       "      <td>7260</td>\n",
       "      <td>5555</td>\n",
       "      <td>316</td>\n",
       "      <td>397</td>\n",
       "      <td>992</td>\n",
       "    </tr>\n",
       "  </tbody>\n",
       "</table>\n",
       "<p>5 rows × 21 columns</p>\n",
       "</div>"
      ],
      "text/plain": [
       "     State  Year  Data.Population  Data.Rates.Property.All  \\\n",
       "0  Alabama  1960          3266740                   1035.4   \n",
       "1  Alabama  1961          3302000                    985.5   \n",
       "2  Alabama  1962          3358000                   1067.0   \n",
       "3  Alabama  1963          3347000                   1150.9   \n",
       "4  Alabama  1964          3407000                   1358.7   \n",
       "\n",
       "   Data.Rates.Property.Burglary  Data.Rates.Property.Larceny  \\\n",
       "0                         355.9                        592.1   \n",
       "1                         339.3                        569.4   \n",
       "2                         349.1                        634.5   \n",
       "3                         376.9                        683.4   \n",
       "4                         466.6                        784.1   \n",
       "\n",
       "   Data.Rates.Property.Motor  Data.Rates.Violent.All  \\\n",
       "0                       87.3                   186.6   \n",
       "1                       76.8                   168.5   \n",
       "2                       83.4                   157.3   \n",
       "3                       90.6                   182.7   \n",
       "4                      108.0                   213.1   \n",
       "\n",
       "   Data.Rates.Violent.Assault  Data.Rates.Violent.Murder  ...  \\\n",
       "0                       138.1                       12.4  ...   \n",
       "1                       128.9                       12.9  ...   \n",
       "2                       119.0                        9.4  ...   \n",
       "3                       142.1                       10.2  ...   \n",
       "4                       163.0                        9.3  ...   \n",
       "\n",
       "   Data.Rates.Violent.Robbery  Data.Totals.Property.All  \\\n",
       "0                        27.5                     33823   \n",
       "1                        19.1                     32541   \n",
       "2                        22.5                     35829   \n",
       "3                        24.7                     38521   \n",
       "4                        29.1                     46290   \n",
       "\n",
       "   Data.Totals.Property.Burglary  Data.Totals.Property.Larceny  \\\n",
       "0                          11626                         19344   \n",
       "1                          11205                         18801   \n",
       "2                          11722                         21306   \n",
       "3                          12614                         22874   \n",
       "4                          15898                         26713   \n",
       "\n",
       "   Data.Totals.Property.Motor  Data.Totals.Violent.All  \\\n",
       "0                        2853                     6097   \n",
       "1                        2535                     5564   \n",
       "2                        2801                     5283   \n",
       "3                        3033                     6115   \n",
       "4                        3679                     7260   \n",
       "\n",
       "   Data.Totals.Violent.Assault  Data.Totals.Violent.Murder  \\\n",
       "0                         4512                         406   \n",
       "1                         4255                         427   \n",
       "2                         3995                         316   \n",
       "3                         4755                         340   \n",
       "4                         5555                         316   \n",
       "\n",
       "   Data.Totals.Violent.Rape  Data.Totals.Violent.Robbery  \n",
       "0                       281                          898  \n",
       "1                       252                          630  \n",
       "2                       218                          754  \n",
       "3                       192                          828  \n",
       "4                       397                          992  \n",
       "\n",
       "[5 rows x 21 columns]"
      ]
     },
     "execution_count": 37,
     "metadata": {},
     "output_type": "execute_result"
    }
   ],
   "source": [
    "df = pd.read_csv(\"state_crime.csv\")\n",
    "df.head()"
   ]
  },
  {
   "cell_type": "code",
   "execution_count": 4,
   "metadata": {},
   "outputs": [
    {
     "data": {
      "text/plain": [
       "Index(['State', 'Year', 'Data.Population', 'Data.Rates.Property.All',\n",
       "       'Data.Rates.Property.Burglary', 'Data.Rates.Property.Larceny',\n",
       "       'Data.Rates.Property.Motor', 'Data.Rates.Violent.All',\n",
       "       'Data.Rates.Violent.Assault', 'Data.Rates.Violent.Murder',\n",
       "       'Data.Rates.Violent.Rape', 'Data.Rates.Violent.Robbery',\n",
       "       'Data.Totals.Property.All', 'Data.Totals.Property.Burglary',\n",
       "       'Data.Totals.Property.Larceny', 'Data.Totals.Property.Motor',\n",
       "       'Data.Totals.Violent.All', 'Data.Totals.Violent.Assault',\n",
       "       'Data.Totals.Violent.Murder', 'Data.Totals.Violent.Rape',\n",
       "       'Data.Totals.Violent.Robbery'],\n",
       "      dtype='object')"
      ]
     },
     "execution_count": 4,
     "metadata": {},
     "output_type": "execute_result"
    }
   ],
   "source": [
    "df.columns"
   ]
  },
  {
   "cell_type": "code",
   "execution_count": 5,
   "metadata": {
    "scrolled": true
   },
   "outputs": [
    {
     "data": {
      "text/html": [
       "<div>\n",
       "<style scoped>\n",
       "    .dataframe tbody tr th:only-of-type {\n",
       "        vertical-align: middle;\n",
       "    }\n",
       "\n",
       "    .dataframe tbody tr th {\n",
       "        vertical-align: top;\n",
       "    }\n",
       "\n",
       "    .dataframe thead th {\n",
       "        text-align: right;\n",
       "    }\n",
       "</style>\n",
       "<table border=\"1\" class=\"dataframe\">\n",
       "  <thead>\n",
       "    <tr style=\"text-align: right;\">\n",
       "      <th></th>\n",
       "      <th>State</th>\n",
       "      <th>Year</th>\n",
       "      <th>Data.Population</th>\n",
       "      <th>Data.Rates.Property.All</th>\n",
       "      <th>Data.Rates.Property.Burglary</th>\n",
       "      <th>Data.Rates.Property.Larceny</th>\n",
       "      <th>Data.Rates.Property.Motor</th>\n",
       "      <th>Data.Rates.Violent.All</th>\n",
       "      <th>Data.Rates.Violent.Assault</th>\n",
       "      <th>Data.Rates.Violent.Murder</th>\n",
       "      <th>...</th>\n",
       "      <th>Data.Rates.Violent.Robbery</th>\n",
       "      <th>Data.Totals.Property.All</th>\n",
       "      <th>Data.Totals.Property.Burglary</th>\n",
       "      <th>Data.Totals.Property.Larceny</th>\n",
       "      <th>Data.Totals.Property.Motor</th>\n",
       "      <th>Data.Totals.Violent.All</th>\n",
       "      <th>Data.Totals.Violent.Assault</th>\n",
       "      <th>Data.Totals.Violent.Murder</th>\n",
       "      <th>Data.Totals.Violent.Rape</th>\n",
       "      <th>Data.Totals.Violent.Robbery</th>\n",
       "    </tr>\n",
       "  </thead>\n",
       "  <tbody>\n",
       "    <tr>\n",
       "      <th>240</th>\n",
       "      <td>California</td>\n",
       "      <td>1960</td>\n",
       "      <td>15717204</td>\n",
       "      <td>3235.4</td>\n",
       "      <td>910.5</td>\n",
       "      <td>1984.8</td>\n",
       "      <td>340.1</td>\n",
       "      <td>239.0</td>\n",
       "      <td>119.6</td>\n",
       "      <td>3.9</td>\n",
       "      <td>...</td>\n",
       "      <td>97.3</td>\n",
       "      <td>508511</td>\n",
       "      <td>143102</td>\n",
       "      <td>311956</td>\n",
       "      <td>53453</td>\n",
       "      <td>37558</td>\n",
       "      <td>18796</td>\n",
       "      <td>616</td>\n",
       "      <td>2859</td>\n",
       "      <td>15287</td>\n",
       "    </tr>\n",
       "    <tr>\n",
       "      <th>241</th>\n",
       "      <td>California</td>\n",
       "      <td>1961</td>\n",
       "      <td>16397000</td>\n",
       "      <td>3177.5</td>\n",
       "      <td>894.2</td>\n",
       "      <td>1950.6</td>\n",
       "      <td>332.7</td>\n",
       "      <td>232.7</td>\n",
       "      <td>120.0</td>\n",
       "      <td>3.7</td>\n",
       "      <td>...</td>\n",
       "      <td>90.5</td>\n",
       "      <td>521008</td>\n",
       "      <td>146615</td>\n",
       "      <td>319834</td>\n",
       "      <td>54559</td>\n",
       "      <td>38154</td>\n",
       "      <td>19684</td>\n",
       "      <td>605</td>\n",
       "      <td>3033</td>\n",
       "      <td>14832</td>\n",
       "    </tr>\n",
       "    <tr>\n",
       "      <th>242</th>\n",
       "      <td>California</td>\n",
       "      <td>1962</td>\n",
       "      <td>16970000</td>\n",
       "      <td>3326.2</td>\n",
       "      <td>934.1</td>\n",
       "      <td>2052.9</td>\n",
       "      <td>339.2</td>\n",
       "      <td>234.8</td>\n",
       "      <td>121.7</td>\n",
       "      <td>3.9</td>\n",
       "      <td>...</td>\n",
       "      <td>91.9</td>\n",
       "      <td>564451</td>\n",
       "      <td>158523</td>\n",
       "      <td>348373</td>\n",
       "      <td>57555</td>\n",
       "      <td>39846</td>\n",
       "      <td>20645</td>\n",
       "      <td>657</td>\n",
       "      <td>2946</td>\n",
       "      <td>15598</td>\n",
       "    </tr>\n",
       "    <tr>\n",
       "      <th>243</th>\n",
       "      <td>California</td>\n",
       "      <td>1963</td>\n",
       "      <td>17590000</td>\n",
       "      <td>3545.8</td>\n",
       "      <td>998.9</td>\n",
       "      <td>2184.7</td>\n",
       "      <td>362.2</td>\n",
       "      <td>241.2</td>\n",
       "      <td>126.3</td>\n",
       "      <td>3.8</td>\n",
       "      <td>...</td>\n",
       "      <td>93.6</td>\n",
       "      <td>623709</td>\n",
       "      <td>175703</td>\n",
       "      <td>384289</td>\n",
       "      <td>63717</td>\n",
       "      <td>42419</td>\n",
       "      <td>22208</td>\n",
       "      <td>673</td>\n",
       "      <td>3080</td>\n",
       "      <td>16458</td>\n",
       "    </tr>\n",
       "    <tr>\n",
       "      <th>244</th>\n",
       "      <td>California</td>\n",
       "      <td>1964</td>\n",
       "      <td>18084000</td>\n",
       "      <td>3874.3</td>\n",
       "      <td>1088.7</td>\n",
       "      <td>2366.5</td>\n",
       "      <td>419.1</td>\n",
       "      <td>265.6</td>\n",
       "      <td>138.2</td>\n",
       "      <td>4.1</td>\n",
       "      <td>...</td>\n",
       "      <td>103.2</td>\n",
       "      <td>700630</td>\n",
       "      <td>196883</td>\n",
       "      <td>427960</td>\n",
       "      <td>75787</td>\n",
       "      <td>48026</td>\n",
       "      <td>24998</td>\n",
       "      <td>740</td>\n",
       "      <td>3621</td>\n",
       "      <td>18667</td>\n",
       "    </tr>\n",
       "  </tbody>\n",
       "</table>\n",
       "<p>5 rows × 21 columns</p>\n",
       "</div>"
      ],
      "text/plain": [
       "          State  Year  Data.Population  Data.Rates.Property.All  \\\n",
       "240  California  1960         15717204                   3235.4   \n",
       "241  California  1961         16397000                   3177.5   \n",
       "242  California  1962         16970000                   3326.2   \n",
       "243  California  1963         17590000                   3545.8   \n",
       "244  California  1964         18084000                   3874.3   \n",
       "\n",
       "     Data.Rates.Property.Burglary  Data.Rates.Property.Larceny  \\\n",
       "240                         910.5                       1984.8   \n",
       "241                         894.2                       1950.6   \n",
       "242                         934.1                       2052.9   \n",
       "243                         998.9                       2184.7   \n",
       "244                        1088.7                       2366.5   \n",
       "\n",
       "     Data.Rates.Property.Motor  Data.Rates.Violent.All  \\\n",
       "240                      340.1                   239.0   \n",
       "241                      332.7                   232.7   \n",
       "242                      339.2                   234.8   \n",
       "243                      362.2                   241.2   \n",
       "244                      419.1                   265.6   \n",
       "\n",
       "     Data.Rates.Violent.Assault  Data.Rates.Violent.Murder  ...  \\\n",
       "240                       119.6                        3.9  ...   \n",
       "241                       120.0                        3.7  ...   \n",
       "242                       121.7                        3.9  ...   \n",
       "243                       126.3                        3.8  ...   \n",
       "244                       138.2                        4.1  ...   \n",
       "\n",
       "     Data.Rates.Violent.Robbery  Data.Totals.Property.All  \\\n",
       "240                        97.3                    508511   \n",
       "241                        90.5                    521008   \n",
       "242                        91.9                    564451   \n",
       "243                        93.6                    623709   \n",
       "244                       103.2                    700630   \n",
       "\n",
       "     Data.Totals.Property.Burglary  Data.Totals.Property.Larceny  \\\n",
       "240                         143102                        311956   \n",
       "241                         146615                        319834   \n",
       "242                         158523                        348373   \n",
       "243                         175703                        384289   \n",
       "244                         196883                        427960   \n",
       "\n",
       "     Data.Totals.Property.Motor  Data.Totals.Violent.All  \\\n",
       "240                       53453                    37558   \n",
       "241                       54559                    38154   \n",
       "242                       57555                    39846   \n",
       "243                       63717                    42419   \n",
       "244                       75787                    48026   \n",
       "\n",
       "     Data.Totals.Violent.Assault  Data.Totals.Violent.Murder  \\\n",
       "240                        18796                         616   \n",
       "241                        19684                         605   \n",
       "242                        20645                         657   \n",
       "243                        22208                         673   \n",
       "244                        24998                         740   \n",
       "\n",
       "     Data.Totals.Violent.Rape  Data.Totals.Violent.Robbery  \n",
       "240                      2859                        15287  \n",
       "241                      3033                        14832  \n",
       "242                      2946                        15598  \n",
       "243                      3080                        16458  \n",
       "244                      3621                        18667  \n",
       "\n",
       "[5 rows x 21 columns]"
      ]
     },
     "execution_count": 5,
     "metadata": {},
     "output_type": "execute_result"
    }
   ],
   "source": [
    "california = df.loc[df['State'] == 'California']\n",
    "california.head()"
   ]
  },
  {
   "cell_type": "markdown",
   "metadata": {},
   "source": [
    "# Correct the data -> guess which data come from which column - to delete/modify later"
   ]
  },
  {
   "cell_type": "code",
   "execution_count": 6,
   "metadata": {
    "collapsed": true
   },
   "outputs": [
    {
     "data": {
      "text/plain": [
       "<matplotlib.legend.Legend at 0x7f495708bb20>"
      ]
     },
     "execution_count": 6,
     "metadata": {},
     "output_type": "execute_result"
    },
    {
     "data": {
      "image/png": "[encoded data removed]",
      "text/plain": [
       "<Figure size 432x288 with 1 Axes>"
      ]
     },
     "metadata": {
      "needs_background": "light"
     },
     "output_type": "display_data"
    }
   ],
   "source": [
    "#sns.scatterplot(data=california, x = 'Year', y = 'Data.Population', hue = 'State')\n",
    "fig,ax = plt.subplots()\n",
    "\n",
    "#ax.scatter(data=california, x = 'Year', y = 'Data.Population')\n",
    "#ax.scatter(data=california, x = 'Year', y = 'Data.Rates.Property.All')\n",
    "ax.scatter(data=california, x = 'Year', y = 'Data.Rates.Property.Larceny')\n",
    "ax.scatter(data=california, x = 'Year', y = 'Data.Rates.Property.Burglary')\n",
    "ax.scatter(data=california, x = 'Year', y = 'Data.Rates.Property.Motor')\n",
    "#ax.scatter(data=california, x = 'Year', y = 'Data.Rates.Violent.All')\n",
    "ax.scatter(data=california, x = 'Year', y = 'Data.Rates.Violent.Assault')\n",
    "ax.scatter(data=california, x = 'Year', y = 'Data.Rates.Violent.Murder')\n",
    "ax.scatter(data=california, x = 'Year', y = 'Data.Rates.Violent.Robbery')\n",
    "#ax.scatter(data=california, x = 'Year', y = 'Data.Totals.Property.All')\n",
    "#ax.scatter(data=california, x = 'Year', y = 'Data.Rates.Violent.Rape')\n",
    "fig.legend()\n",
    "#sns.scatterplot(df['Year'], df['Data.Population'], hue = 'State')"
   ]
  },
  {
   "cell_type": "code",
   "execution_count": 54,
   "metadata": {
    "collapsed": true
   },
   "outputs": [
    {
     "data": {
      "text/plain": [
       "<matplotlib.legend.Legend at 0x28d431e32b0>"
      ]
     },
     "execution_count": 54,
     "metadata": {},
     "output_type": "execute_result"
    },
    {
     "data": {
      "image/png": "[encoded data removed]",
      "text/plain": [
       "<Figure size 432x288 with 1 Axes>"
      ]
     },
     "metadata": {
      "needs_background": "light"
     },
     "output_type": "display_data"
    }
   ],
   "source": [
    "fig,ax = plt.subplots()\n",
    "\n",
    "\n",
    "ax.scatter(data=california, x = 'Year', y = 'Data.Rates.Property.All')\n",
    "#ax.scatter(data=california, x = 'Year', y = 'Data.Totals.Property.Larceny')\n",
    "#ax.scatter(data=california, x = 'Year', y = 'Data.Totals.Property.Burglary')\n",
    "ax.scatter(data=california, x = 'Year', y = 'Data.Totals.Property.Motor')\n",
    "#ax.scatter(data=california, x = 'Year', y = 'Data.Totals.Violent.All')\n",
    "ax.scatter(data=california, x = 'Year', y = 'Data.Totals.Violent.Assault')\n",
    "#ax.scatter(data=california, x = 'Year', y = 'Data.Totals.Violent.Murder')\n",
    "ax.scatter(data=california, x = 'Year', y = 'Data.Totals.Violent.Robbery')\n",
    "#ax.scatter(data=california, x = 'Year', y = 'Data.Rates.Violent.Assault')\n",
    "#ax.scatter(data=california, x = 'Year', y = 'Data.Rates.Violent.Robbery')\n",
    "#ax.scatter(data=california, x = 'Year', y = 'Data.Totals.Violent.Rape')\n",
    "fig.legend()"
   ]
  },
  {
   "cell_type": "markdown",
   "metadata": {},
   "source": [
    "# Basic analysis of the data"
   ]
  },
  {
   "cell_type": "code",
   "execution_count": 38,
   "metadata": {
    "collapsed": true
   },
   "outputs": [
    {
     "data": {
      "text/plain": [
       "Text(0, 0.5, 'Population')"
      ]
     },
     "execution_count": 38,
     "metadata": {},
     "output_type": "execute_result"
    },
    {
     "data": {
      "image/png": "[encoded data removed]",
      "text/plain": [
       "<Figure size 432x288 with 1 Axes>"
      ]
     },
     "metadata": {
      "needs_background": "light"
     },
     "output_type": "display_data"
    }
   ],
   "source": [
    "# create figure and axis objects with subplots()\n",
    "fig,ax = plt.subplots()\n",
    "# make a plot\n",
    "ax.plot(california['Year'], california['Data.Population'], color=\"red\", marker = 'o')\n",
    "# set x-axis label\n",
    "ax.set_xlabel(\"Year\",fontsize=12)\n",
    "# set y-axis label\n",
    "ax.set_ylabel(\"Population\",fontsize=12)"
   ]
  },
  {
   "cell_type": "code",
   "execution_count": 39,
   "metadata": {},
   "outputs": [
    {
     "data": {
      "text/plain": [
       "Text(0.5, 1.0, 'Larceny rates in California')"
      ]
     },
     "execution_count": 39,
     "metadata": {},
     "output_type": "execute_result"
    },
    {
     "data": {
      "image/png": "[encoded data removed]",
      "text/plain": [
       "<Figure size 432x288 with 1 Axes>"
      ]
     },
     "metadata": {
      "needs_background": "light"
     },
     "output_type": "display_data"
    }
   ],
   "source": [
    "fig,ax = plt.subplots()\n",
    "ax.scatter(data=california, x = 'Year', y = 'Data.Rates.Property.Larceny')\n",
    "ax.set_ylabel(\"Rate\")\n",
    "ax.set_xlabel(\"Years\")\n",
    "ax.set_title(\"Larceny rates in California\")"
   ]
  },
  {
   "cell_type": "code",
   "execution_count": 14,
   "metadata": {
    "collapsed": true
   },
   "outputs": [
    {
     "data": {
      "text/plain": [
       "array([[<AxesSubplot:title={'center':'Data.Rates.Property.Larceny'}>]],\n",
       "      dtype=object)"
      ]
     },
     "execution_count": 14,
     "metadata": {},
     "output_type": "execute_result"
    },
    {
     "data": {
      "image/png": "[encoded data removed]",
      "text/plain": [
       "<Figure size 432x288 with 1 Axes>"
      ]
     },
     "metadata": {
      "needs_background": "light"
     },
     "output_type": "display_data"
    }
   ],
   "source": [
    "california_larceny = california.filter(['Year', 'Data.Rates.Property.Larceny'], axis = 1)\n",
    "#california_larceny.hist(column = 'Data.Rates.Property.Larceny', bins = 20)\n",
    "#print(california_larceny)"
   ]
  },
  {
   "cell_type": "code",
   "execution_count": 15,
   "metadata": {
    "scrolled": true
   },
   "outputs": [
    {
     "data": {
      "text/html": [
       "<div>\n",
       "<style scoped>\n",
       "    .dataframe tbody tr th:only-of-type {\n",
       "        vertical-align: middle;\n",
       "    }\n",
       "\n",
       "    .dataframe tbody tr th {\n",
       "        vertical-align: top;\n",
       "    }\n",
       "\n",
       "    .dataframe thead th {\n",
       "        text-align: right;\n",
       "    }\n",
       "</style>\n",
       "<table border=\"1\" class=\"dataframe\">\n",
       "  <thead>\n",
       "    <tr style=\"text-align: right;\">\n",
       "      <th></th>\n",
       "      <th>Year</th>\n",
       "      <th>Data.Rates.Property.Larceny</th>\n",
       "    </tr>\n",
       "  </thead>\n",
       "  <tbody>\n",
       "    <tr>\n",
       "      <th>count</th>\n",
       "      <td>60.000000</td>\n",
       "      <td>60.000000</td>\n",
       "    </tr>\n",
       "    <tr>\n",
       "      <th>mean</th>\n",
       "      <td>1989.500000</td>\n",
       "      <td>2567.741667</td>\n",
       "    </tr>\n",
       "    <tr>\n",
       "      <th>std</th>\n",
       "      <td>17.464249</td>\n",
       "      <td>878.078457</td>\n",
       "    </tr>\n",
       "    <tr>\n",
       "      <th>min</th>\n",
       "      <td>1960.000000</td>\n",
       "      <td>504.300000</td>\n",
       "    </tr>\n",
       "    <tr>\n",
       "      <th>25%</th>\n",
       "      <td>1974.750000</td>\n",
       "      <td>1922.125000</td>\n",
       "    </tr>\n",
       "    <tr>\n",
       "      <th>50%</th>\n",
       "      <td>1989.500000</td>\n",
       "      <td>2555.650000</td>\n",
       "    </tr>\n",
       "    <tr>\n",
       "      <th>75%</th>\n",
       "      <td>2004.250000</td>\n",
       "      <td>3346.200000</td>\n",
       "    </tr>\n",
       "    <tr>\n",
       "      <th>max</th>\n",
       "      <td>2019.000000</td>\n",
       "      <td>3880.000000</td>\n",
       "    </tr>\n",
       "  </tbody>\n",
       "</table>\n",
       "</div>"
      ],
      "text/plain": [
       "              Year  Data.Rates.Property.Larceny\n",
       "count    60.000000                    60.000000\n",
       "mean   1989.500000                  2567.741667\n",
       "std      17.464249                   878.078457\n",
       "min    1960.000000                   504.300000\n",
       "25%    1974.750000                  1922.125000\n",
       "50%    1989.500000                  2555.650000\n",
       "75%    2004.250000                  3346.200000\n",
       "max    2019.000000                  3880.000000"
      ]
     },
     "execution_count": 15,
     "metadata": {},
     "output_type": "execute_result"
    }
   ],
   "source": [
    "california_larceny.describe()"
   ]
  },
  {
   "cell_type": "code",
   "execution_count": 59,
   "metadata": {},
   "outputs": [
    {
     "name": "stdout",
     "output_type": "stream",
     "text": [
      "2568\n",
      "878\n"
     ]
    }
   ],
   "source": [
    "mean_larceny = round(california_larceny[\"Data.Rates.Property.Larceny\"].mean())\n",
    "print(mean_larceny)\n",
    "std_larceny = round(california_larceny[\"Data.Rates.Property.Larceny\"].std())\n",
    "print(std_larceny)"
   ]
  },
  {
   "cell_type": "code",
   "execution_count": 73,
   "metadata": {},
   "outputs": [
    {
     "name": "stdout",
     "output_type": "stream",
     "text": [
      "[1984.8 1950.6 2052.9 2184.7 2366.5 2388.  2506.2 2748.8 3032.3 3282.7\n",
      " 3422.1 3517.9 3242.  3123.6 3525.5 3703.7 3745.8 3499.8 3488.8 3732.6\n",
      " 3880.  3816.1 3785.1 3444.5 3346.1 3379.4 3383.9 3240.2 3314.5 3346.5\n",
      " 3197.5 3246.  3137.8 3029.1 2957.7 2856.9 2605.1 2430.9 2217.1 1994.2\n",
      " 1924.5 2016.6 2044.7 2062.7 2033.1 1915.  1835.3 1790.6 1770.2 1665.\n",
      " 1608.4 1584.  1669.5  605.4  522.3  504.3 1623.  1623.9 1571.8 1586.3]\n"
     ]
    }
   ],
   "source": [
    "california_larceny_df=pd.DataFrame(california_larceny[\"Data.Rates.Property.Larceny\"]).to_numpy().flatten()\n",
    "print(california_larceny_df)\n",
    "#print(dfc[\"Data.Rates.Property.Larceny\"])"
   ]
  },
  {
   "cell_type": "markdown",
   "metadata": {},
   "source": [
    "# Prior predictive check"
   ]
  },
  {
   "cell_type": "code",
   "execution_count": 45,
   "metadata": {},
   "outputs": [
    {
     "name": "stderr",
     "output_type": "stream",
     "text": [
      "INFO:cmdstanpy:compiling stan file /home/kasia/Documents/DataAnalytics/Project/normal1.stan to exe file /home/kasia/Documents/DataAnalytics/Project/normal1\n",
      "INFO:cmdstanpy:compiled model executable: /home/kasia/Documents/DataAnalytics/Project/normal1\n",
      "INFO:cmdstanpy:CmdStan start processing\n"
     ]
    },
    {
     "data": {
      "application/vnd.jupyter.widget-view+json": {
       "model_id": "73375db8bcf74637a137e45d7f8d7fc8",
       "version_major": 2,
       "version_minor": 0
      },
      "text/plain": [
       "chain 1 |          | 00:00 Status"
      ]
     },
     "metadata": {},
     "output_type": "display_data"
    },
    {
     "name": "stdout",
     "output_type": "stream",
     "text": [
      "                                                                                "
     ]
    },
    {
     "name": "stderr",
     "output_type": "stream",
     "text": [
      "INFO:cmdstanpy:CmdStan done processing.\n"
     ]
    },
    {
     "name": "stdout",
     "output_type": "stream",
     "text": [
      "\n"
     ]
    }
   ],
   "source": [
    "normal_model1 = CmdStanModel(stan_file = 'normal1.stan')\n",
    "stan_data={\"data_mu\": mean_larceny, \"data_sigma\": std_larceny}\n",
    "R = 60 #bc the data has been collected for 60 years\n",
    "sim = normal_model1.sample(data=stan_data, iter_sampling = R, \n",
    "                             iter_warmup = 0,\n",
    "                             chains = 1,\n",
    "                             fixed_param = True,\n",
    "                             seed = 31052022)\n",
    "mu_sim = sim.stan_variable('mu')\n",
    "sigma_sim = sim.stan_variable('sigma')\n",
    "prior = sim.stan_variable('prior')"
   ]
  },
  {
   "cell_type": "code",
   "execution_count": 46,
   "metadata": {
    "collapsed": true
   },
   "outputs": [
    {
     "name": "stdout",
     "output_type": "stream",
     "text": [
      "[3788.78  3246.5   2652.95  1702.05  2238.12  1215.96  2569.85  3239.68\n",
      " 3279.54   416.762 4094.31  2406.42  3288.73  2910.95  2804.71  2508.71\n",
      " 2401.73  2401.84  1628.63  2990.92  2077.34  1842.49  1353.84  2399.54\n",
      " 3461.49  1286.29  3898.66  3009.61  1204.5   2066.37   129.576 3697.12\n",
      " 2874.38  2694.46  3683.04  1563.73  3027.72  3642.51  2773.64  3094.27\n",
      " 3008.95  2213.42  1772.71  2363.3   3639.3   3049.47  1440.52  2060.75\n",
      " 3348.62  1704.08  3553.22  2442.89  1544.29  1138.14  2993.17  3167.97\n",
      " 2646.13  3601.48  3247.86  2674.03 ]\n",
      "60\n",
      "60\n"
     ]
    }
   ],
   "source": [
    "print((mu_sim))\n",
    "print(len(sigma_sim))\n",
    "print(len(prior))"
   ]
  },
  {
   "cell_type": "code",
   "execution_count": 47,
   "metadata": {},
   "outputs": [
    {
     "data": {
      "text/plain": [
       "<matplotlib.legend.Legend at 0x7f4951d8ea00>"
      ]
     },
     "execution_count": 47,
     "metadata": {},
     "output_type": "execute_result"
    },
    {
     "data": {
      "image/png": "[encoded data removed]",
      "text/plain": [
       "<Figure size 432x288 with 1 Axes>"
      ]
     },
     "metadata": {
      "needs_background": "light"
     },
     "output_type": "display_data"
    }
   ],
   "source": [
    "fig,ax = plt.subplots()\n",
    "x= list(range(1960,2020))\n",
    "plt.plot(x, prior, \"o\", color = 'red', label = 'Prior prediction')\n",
    "ax.scatter(data=california, x = 'Year', y = 'Data.Rates.Property.Larceny', label = 'Actual data')\n",
    "#ax.scatter(data=prior, x = 'Year', y = 'Data.Rates.Property.Larceny')\n",
    "ax.set_ylabel(\"Rate\")\n",
    "ax.set_xlabel(\"Years\")\n",
    "ax.set_title(\"Larceny rates in California\")\n",
    "fig.legend()"
   ]
  },
  {
   "cell_type": "markdown",
   "metadata": {},
   "source": [
    "### <code style = \"background:yellow;color:black\">**Nie wiem co zrobic z tymi histogramami - jak one spelniaja funkcje i czy sa wgl potrzebne?**\n",
    "</code>\n",
    "Wygladaja jakby przedstawialy histogramy z rzeczywistych danych, a nie z modelu...."
   ]
  },
  {
   "cell_type": "code",
   "execution_count": 48,
   "metadata": {},
   "outputs": [
    {
     "data": {
      "image/png": "[encoded data removed]",
      "text/plain": [
       "<Figure size 504x288 with 3 Axes>"
      ]
     },
     "metadata": {
      "needs_background": "light"
     },
     "output_type": "display_data"
    }
   ],
   "source": [
    "fig = plt.figure(figsize = (7, 4))\n",
    "\n",
    "gs = fig.add_gridspec(2, 2)\n",
    "ax1 = fig.add_subplot(gs[1, :])\n",
    "ax1.hist(prior, bins = 20, density = True)\n",
    "ax1.set_title('Simulated larceny rate')\n",
    "\n",
    "ax2 = fig.add_subplot(gs[0, 0])\n",
    "ax2.hist(mu_sim, bins = 20, density = True)\n",
    "x = np.linspace(0, 5599)\n",
    "y = stats.norm.pdf(x, loc = 2568, scale = 878)\n",
    "ax2.plot(x, y, 'black')\n",
    "ax2.set_title('$\\mu$')\n",
    "ax2.set_yticks([])\n",
    "\n",
    "ax3 = fig.add_subplot(gs[0, 1])\n",
    "ax3.hist(sigma_sim, bins = 20, density = True)\n",
    "x = np.linspace(0, 0.01)\n",
    "y = stats.expon.pdf(x, scale = 1/878)\n",
    "ax3.plot(x, y, color = 'black')\n",
    "ax3.set_title('$\\sigma$')\n",
    "ax3.set_yticks([])\n",
    "\n",
    "fig.tight_layout()\n",
    "plt.show()"
   ]
  },
  {
   "cell_type": "markdown",
   "metadata": {},
   "source": [
    "# Posterior "
   ]
  },
  {
   "cell_type": "code",
   "execution_count": 85,
   "metadata": {},
   "outputs": [
    {
     "name": "stderr",
     "output_type": "stream",
     "text": [
      "INFO:cmdstanpy:compiling stan file /home/kasia/Documents/DataAnalytics/Project/normal1_fit.stan to exe file /home/kasia/Documents/DataAnalytics/Project/normal1_fit\n",
      "INFO:cmdstanpy:compiled model executable: /home/kasia/Documents/DataAnalytics/Project/normal1_fit\n",
      "WARNING:cmdstanpy:Stan compiler has produced 1 warnings:\n",
      "WARNING:cmdstanpy:\n",
      "--- Translating Stan model to C++ code ---\n",
      "bin/stanc  --o=/home/kasia/Documents/DataAnalytics/Project/normal1_fit.hpp /home/kasia/Documents/DataAnalytics/Project/normal1_fit.stan\n",
      "Warning in '/home/kasia/Documents/DataAnalytics/Project/normal1_fit.stan', line 3, column 2: Declaration\n",
      "    of arrays by placing brackets after a variable name is deprecated and\n",
      "    will be removed in Stan 2.32.0. Instead use the array keyword before the\n",
      "    type. This can be changed automatically using the auto-format flag to\n",
      "    stanc\n",
      "\n",
      "--- Compiling, linking C++ code ---\n",
      "g++ -std=c++1y -pthread -D_REENTRANT -Wno-sign-compare -Wno-ignored-attributes      -I stan/lib/stan_math/lib/tbb_2020.3/include    -O3 -I src -I stan/src -I lib/rapidjson_1.1.0/ -I lib/CLI11-1.9.1/ -I stan/lib/stan_math/ -I stan/lib/stan_math/lib/eigen_3.3.9 -I stan/lib/stan_math/lib/boost_1.75.0 -I stan/lib/stan_math/lib/sundials_6.0.0/include -I stan/lib/stan_math/lib/sundials_6.0.0/src/sundials    -DBOOST_DISABLE_ASSERTS          -c -Wno-ignored-attributes   -x c++ -o /home/kasia/Documents/DataAnalytics/Project/normal1_fit.o /home/kasia/Documents/DataAnalytics/Project/normal1_fit.hpp\n",
      "g++ -std=c++1y -pthread -D_REENTRANT -Wno-sign-compare -Wno-ignored-attributes      -I stan/lib/stan_math/lib/tbb_2020.3/include    -O3 -I src -I stan/src -I lib/rapidjson_1.1.0/ -I lib/CLI11-1.9.1/ -I stan/lib/stan_math/ -I stan/lib/stan_math/lib/eigen_3.3.9 -I stan/lib/stan_math/lib/boost_1.75.0 -I stan/lib/stan_math/lib/sundials_6.0.0/include -I stan/lib/stan_math/lib/sundials_6.0.0/src/sundials    -DBOOST_DISABLE_ASSERTS                -Wl,-L,\"/home/kasia/.cmdstan/cmdstan-2.29.1/stan/lib/stan_math/lib/tbb\" -Wl,-rpath,\"/home/kasia/.cmdstan/cmdstan-2.29.1/stan/lib/stan_math/lib/tbb\"      /home/kasia/Documents/DataAnalytics/Project/normal1_fit.o src/cmdstan/main.o        -Wl,-L,\"/home/kasia/.cmdstan/cmdstan-2.29.1/stan/lib/stan_math/lib/tbb\" -Wl,-rpath,\"/home/kasia/.cmdstan/cmdstan-2.29.1/stan/lib/stan_math/lib/tbb\"   stan/lib/stan_math/lib/sundials_6.0.0/lib/libsundials_nvecserial.a stan/lib/stan_math/lib/sundials_6.0.0/lib/libsundials_cvodes.a stan/lib/stan_math/lib/sundials_6.0.0/lib/libsundials_idas.a stan/lib/stan_math/lib/sundials_6.0.0/lib/libsundials_kinsol.a  stan/lib/stan_math/lib/tbb/libtbb.so.2 -o /home/kasia/Documents/DataAnalytics/Project/normal1_fit\n",
      "rm -f /home/kasia/Documents/DataAnalytics/Project/normal1_fit.o\n",
      "\n",
      "INFO:cmdstanpy:CmdStan start processing\n"
     ]
    },
    {
     "data": {
      "application/vnd.jupyter.widget-view+json": {
       "model_id": "5bf5c1ef4d8845b3965084bad4351aad",
       "version_major": 2,
       "version_minor": 0
      },
      "text/plain": [
       "chain 1 |          | 00:00 Status"
      ]
     },
     "metadata": {},
     "output_type": "display_data"
    },
    {
     "name": "stdout",
     "output_type": "stream",
     "text": [
      "                                                                                "
     ]
    },
    {
     "name": "stderr",
     "output_type": "stream",
     "text": [
      "INFO:cmdstanpy:CmdStan done processing.\n"
     ]
    },
    {
     "name": "stdout",
     "output_type": "stream",
     "text": [
      "\n"
     ]
    }
   ],
   "source": [
    "normal1_fit_model = CmdStanModel(stan_file='normal1_fit.stan')\n",
    "stan_data2 = {\"N\": len(california_larceny), \"larceny_data\" : california_larceny_df}\n",
    "normal1_fit = normal1_fit_model.sample(data = stan_data2,iter_sampling = R, \n",
    "                             iter_warmup = 0,\n",
    "                             chains = 1,\n",
    "                             fixed_param = True,\n",
    "                                   seed = 31052022)"
   ]
  },
  {
   "cell_type": "code",
   "execution_count": 86,
   "metadata": {},
   "outputs": [
    {
     "name": "stdout",
     "output_type": "stream",
     "text": [
      "[-0.220311  -0.463233  -0.698985  -0.0567073 -0.291832   0.404272\n",
      " -1.44146   -1.33571   -1.64756   -0.237705  -0.820555  -0.0468978\n",
      "  0.360368  -1.80285   -0.145208  -0.396665  -0.501762  -1.35961\n",
      "  0.234426   0.141938  -1.21536   -0.224019   0.18024    0.265577\n",
      " -0.527211  -2.57087   -0.79712    0.25255    0.963234  -1.44078\n",
      " -0.717251  -0.65882   -0.497725   1.32133    0.18908   -1.33317\n",
      "  1.51696   -0.173967  -1.62444   -0.845313  -0.276068   0.0774964\n",
      "  0.0447379 -0.560514  -0.244343  -0.977944  -0.663321   0.833618\n",
      " -0.381422  -0.663217  -0.715388   0.437991  -1.40627   -0.240691\n",
      " -0.900577  -0.0971207 -0.168085  -1.87637   -0.975057  -1.88562  ]\n"
     ]
    }
   ],
   "source": [
    "larceny_posterior = normal1_fit.stan_variable(var='larceny_posterior')\n",
    "print(larceny_posterior)"
   ]
  },
  {
   "cell_type": "code",
   "execution_count": 88,
   "metadata": {},
   "outputs": [
    {
     "data": {
      "text/html": [
       "<div>\n",
       "<style scoped>\n",
       "    .dataframe tbody tr th:only-of-type {\n",
       "        vertical-align: middle;\n",
       "    }\n",
       "\n",
       "    .dataframe tbody tr th {\n",
       "        vertical-align: top;\n",
       "    }\n",
       "\n",
       "    .dataframe thead th {\n",
       "        text-align: right;\n",
       "    }\n",
       "</style>\n",
       "<table border=\"1\" class=\"dataframe\">\n",
       "  <thead>\n",
       "    <tr style=\"text-align: right;\">\n",
       "      <th></th>\n",
       "      <th>mean</th>\n",
       "      <th>sd</th>\n",
       "      <th>hdi_3%</th>\n",
       "      <th>hdi_97%</th>\n",
       "    </tr>\n",
       "  </thead>\n",
       "  <tbody>\n",
       "    <tr>\n",
       "      <th>mu</th>\n",
       "      <td>-0.504</td>\n",
       "      <td>0.0</td>\n",
       "      <td>-0.504</td>\n",
       "      <td>-0.504</td>\n",
       "    </tr>\n",
       "    <tr>\n",
       "      <th>sigma</th>\n",
       "      <td>0.844</td>\n",
       "      <td>0.0</td>\n",
       "      <td>0.844</td>\n",
       "      <td>0.844</td>\n",
       "    </tr>\n",
       "  </tbody>\n",
       "</table>\n",
       "</div>"
      ],
      "text/plain": [
       "        mean   sd  hdi_3%  hdi_97%\n",
       "mu    -0.504  0.0  -0.504   -0.504\n",
       "sigma  0.844  0.0   0.844    0.844"
      ]
     },
     "execution_count": 88,
     "metadata": {},
     "output_type": "execute_result"
    }
   ],
   "source": [
    "az.summary(normal1_fit, var_names=['mu', 'sigma'], round_to = 3, kind='stats')"
   ]
  },
  {
   "cell_type": "code",
   "execution_count": null,
   "metadata": {},
   "outputs": [],
   "source": []
  }
 ],
 "metadata": {
  "interpreter": {
   "hash": "3daf6c350f2a0ede664192fc5f83250b54ba88dd11a44229b323659fc71bf29b"
  },
  "kernelspec": {
   "display_name": "Python 3 (ipykernel)",
   "language": "python",
   "name": "python3"
  },
  "language_info": {
   "codemirror_mode": {
    "name": "ipython",
    "version": 3
   },
   "file_extension": ".py",
   "mimetype": "text/x-python",
   "name": "python",
   "nbconvert_exporter": "python",
   "pygments_lexer": "ipython3",
   "version": "3.8.10"
  }
 },
 "nbformat": 4,
 "nbformat_minor": 2
}
