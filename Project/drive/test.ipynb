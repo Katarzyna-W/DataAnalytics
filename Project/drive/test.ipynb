{
 "cells": [
  {
   "cell_type": "markdown",
   "metadata": {},
   "source": [
    "## Data Analytics Project - US STATE CRIME (1960-2019)"
   ]
  },
  {
   "cell_type": "markdown",
   "metadata": {},
   "source": [
    "Autors: Agnieszka Welian, Katarzyna Wątorska\n",
    "<br>\n",
    "Date: 14-06-2022"
   ]
  },
  {
   "cell_type": "markdown",
   "metadata": {},
   "source": [
    "From the Unified Crime Reporting Statistics and under the collaboration of the U.S. Department of Justice and the Federal Bureau of Investigation information crime statistics are available for public review. The following data set has information on the crime rates and totals for states across the United States for a wide range of years. The crime reports are divided into two main categories: property and violent crime. Property crime refers to burglary, larceny, and motor related crime while violent crime refers to assault, murder, rape, and robbery. These reports go from 1960 to 2019."
   ]
  },
  {
   "cell_type": "markdown",
   "metadata": {},
   "source": [
    "The main goal of this project will be to take into consideration values from 1960 to 2019 and predict value of specific crime rare for 2020\n",
    " for selected state."
   ]
  },
  {
   "cell_type": "markdown",
   "metadata": {},
   "source": [
    "Source: https://think.cs.vt.edu/corgis/csv/state_crime/ (which are logged data from FBI page)"
   ]
  },
  {
   "cell_type": "markdown",
   "metadata": {},
   "source": [
    "# 1. Data preprocessing"
   ]
  },
  {
   "cell_type": "code",
   "execution_count": 1,
   "metadata": {},
   "outputs": [],
   "source": [
    "import pandas as pd\n",
    "import numpy as np\n",
    "import seaborn as sns\n",
    "import matplotlib.pyplot as plt\n",
    "from cmdstanpy import CmdStanModel\n",
    "import scipy.stats as stats\n",
    "import arviz as az"
   ]
  },
  {
   "cell_type": "code",
   "execution_count": 2,
   "metadata": {},
   "outputs": [
    {
     "data": {
      "text/html": [
       "<div>\n",
       "<style scoped>\n",
       "    .dataframe tbody tr th:only-of-type {\n",
       "        vertical-align: middle;\n",
       "    }\n",
       "\n",
       "    .dataframe tbody tr th {\n",
       "        vertical-align: top;\n",
       "    }\n",
       "\n",
       "    .dataframe thead th {\n",
       "        text-align: right;\n",
       "    }\n",
       "</style>\n",
       "<table border=\"1\" class=\"dataframe\">\n",
       "  <thead>\n",
       "    <tr style=\"text-align: right;\">\n",
       "      <th></th>\n",
       "      <th>State</th>\n",
       "      <th>Year</th>\n",
       "      <th>Data.Population</th>\n",
       "      <th>Data.Rates.Property.All</th>\n",
       "      <th>Data.Rates.Property.Burglary</th>\n",
       "      <th>Data.Rates.Property.Larceny</th>\n",
       "      <th>Data.Rates.Property.Motor</th>\n",
       "      <th>Data.Rates.Violent.All</th>\n",
       "      <th>Data.Rates.Violent.Assault</th>\n",
       "      <th>Data.Rates.Violent.Murder</th>\n",
       "      <th>...</th>\n",
       "      <th>Data.Rates.Violent.Robbery</th>\n",
       "      <th>Data.Totals.Property.All</th>\n",
       "      <th>Data.Totals.Property.Burglary</th>\n",
       "      <th>Data.Totals.Property.Larceny</th>\n",
       "      <th>Data.Totals.Property.Motor</th>\n",
       "      <th>Data.Totals.Violent.All</th>\n",
       "      <th>Data.Totals.Violent.Assault</th>\n",
       "      <th>Data.Totals.Violent.Murder</th>\n",
       "      <th>Data.Totals.Violent.Rape</th>\n",
       "      <th>Data.Totals.Violent.Robbery</th>\n",
       "    </tr>\n",
       "  </thead>\n",
       "  <tbody>\n",
       "    <tr>\n",
       "      <th>0</th>\n",
       "      <td>Alabama</td>\n",
       "      <td>1960</td>\n",
       "      <td>3266740</td>\n",
       "      <td>1035.4</td>\n",
       "      <td>355.9</td>\n",
       "      <td>592.1</td>\n",
       "      <td>87.3</td>\n",
       "      <td>186.6</td>\n",
       "      <td>138.1</td>\n",
       "      <td>12.4</td>\n",
       "      <td>...</td>\n",
       "      <td>27.5</td>\n",
       "      <td>33823</td>\n",
       "      <td>11626</td>\n",
       "      <td>19344</td>\n",
       "      <td>2853</td>\n",
       "      <td>6097</td>\n",
       "      <td>4512</td>\n",
       "      <td>406</td>\n",
       "      <td>281</td>\n",
       "      <td>898</td>\n",
       "    </tr>\n",
       "    <tr>\n",
       "      <th>1</th>\n",
       "      <td>Alabama</td>\n",
       "      <td>1961</td>\n",
       "      <td>3302000</td>\n",
       "      <td>985.5</td>\n",
       "      <td>339.3</td>\n",
       "      <td>569.4</td>\n",
       "      <td>76.8</td>\n",
       "      <td>168.5</td>\n",
       "      <td>128.9</td>\n",
       "      <td>12.9</td>\n",
       "      <td>...</td>\n",
       "      <td>19.1</td>\n",
       "      <td>32541</td>\n",
       "      <td>11205</td>\n",
       "      <td>18801</td>\n",
       "      <td>2535</td>\n",
       "      <td>5564</td>\n",
       "      <td>4255</td>\n",
       "      <td>427</td>\n",
       "      <td>252</td>\n",
       "      <td>630</td>\n",
       "    </tr>\n",
       "    <tr>\n",
       "      <th>2</th>\n",
       "      <td>Alabama</td>\n",
       "      <td>1962</td>\n",
       "      <td>3358000</td>\n",
       "      <td>1067.0</td>\n",
       "      <td>349.1</td>\n",
       "      <td>634.5</td>\n",
       "      <td>83.4</td>\n",
       "      <td>157.3</td>\n",
       "      <td>119.0</td>\n",
       "      <td>9.4</td>\n",
       "      <td>...</td>\n",
       "      <td>22.5</td>\n",
       "      <td>35829</td>\n",
       "      <td>11722</td>\n",
       "      <td>21306</td>\n",
       "      <td>2801</td>\n",
       "      <td>5283</td>\n",
       "      <td>3995</td>\n",
       "      <td>316</td>\n",
       "      <td>218</td>\n",
       "      <td>754</td>\n",
       "    </tr>\n",
       "    <tr>\n",
       "      <th>3</th>\n",
       "      <td>Alabama</td>\n",
       "      <td>1963</td>\n",
       "      <td>3347000</td>\n",
       "      <td>1150.9</td>\n",
       "      <td>376.9</td>\n",
       "      <td>683.4</td>\n",
       "      <td>90.6</td>\n",
       "      <td>182.7</td>\n",
       "      <td>142.1</td>\n",
       "      <td>10.2</td>\n",
       "      <td>...</td>\n",
       "      <td>24.7</td>\n",
       "      <td>38521</td>\n",
       "      <td>12614</td>\n",
       "      <td>22874</td>\n",
       "      <td>3033</td>\n",
       "      <td>6115</td>\n",
       "      <td>4755</td>\n",
       "      <td>340</td>\n",
       "      <td>192</td>\n",
       "      <td>828</td>\n",
       "    </tr>\n",
       "    <tr>\n",
       "      <th>4</th>\n",
       "      <td>Alabama</td>\n",
       "      <td>1964</td>\n",
       "      <td>3407000</td>\n",
       "      <td>1358.7</td>\n",
       "      <td>466.6</td>\n",
       "      <td>784.1</td>\n",
       "      <td>108.0</td>\n",
       "      <td>213.1</td>\n",
       "      <td>163.0</td>\n",
       "      <td>9.3</td>\n",
       "      <td>...</td>\n",
       "      <td>29.1</td>\n",
       "      <td>46290</td>\n",
       "      <td>15898</td>\n",
       "      <td>26713</td>\n",
       "      <td>3679</td>\n",
       "      <td>7260</td>\n",
       "      <td>5555</td>\n",
       "      <td>316</td>\n",
       "      <td>397</td>\n",
       "      <td>992</td>\n",
       "    </tr>\n",
       "  </tbody>\n",
       "</table>\n",
       "<p>5 rows × 21 columns</p>\n",
       "</div>"
      ],
      "text/plain": [
       "     State  Year  Data.Population  Data.Rates.Property.All  \\\n",
       "0  Alabama  1960          3266740                   1035.4   \n",
       "1  Alabama  1961          3302000                    985.5   \n",
       "2  Alabama  1962          3358000                   1067.0   \n",
       "3  Alabama  1963          3347000                   1150.9   \n",
       "4  Alabama  1964          3407000                   1358.7   \n",
       "\n",
       "   Data.Rates.Property.Burglary  Data.Rates.Property.Larceny  \\\n",
       "0                         355.9                        592.1   \n",
       "1                         339.3                        569.4   \n",
       "2                         349.1                        634.5   \n",
       "3                         376.9                        683.4   \n",
       "4                         466.6                        784.1   \n",
       "\n",
       "   Data.Rates.Property.Motor  Data.Rates.Violent.All  \\\n",
       "0                       87.3                   186.6   \n",
       "1                       76.8                   168.5   \n",
       "2                       83.4                   157.3   \n",
       "3                       90.6                   182.7   \n",
       "4                      108.0                   213.1   \n",
       "\n",
       "   Data.Rates.Violent.Assault  Data.Rates.Violent.Murder  ...  \\\n",
       "0                       138.1                       12.4  ...   \n",
       "1                       128.9                       12.9  ...   \n",
       "2                       119.0                        9.4  ...   \n",
       "3                       142.1                       10.2  ...   \n",
       "4                       163.0                        9.3  ...   \n",
       "\n",
       "   Data.Rates.Violent.Robbery  Data.Totals.Property.All  \\\n",
       "0                        27.5                     33823   \n",
       "1                        19.1                     32541   \n",
       "2                        22.5                     35829   \n",
       "3                        24.7                     38521   \n",
       "4                        29.1                     46290   \n",
       "\n",
       "   Data.Totals.Property.Burglary  Data.Totals.Property.Larceny  \\\n",
       "0                          11626                         19344   \n",
       "1                          11205                         18801   \n",
       "2                          11722                         21306   \n",
       "3                          12614                         22874   \n",
       "4                          15898                         26713   \n",
       "\n",
       "   Data.Totals.Property.Motor  Data.Totals.Violent.All  \\\n",
       "0                        2853                     6097   \n",
       "1                        2535                     5564   \n",
       "2                        2801                     5283   \n",
       "3                        3033                     6115   \n",
       "4                        3679                     7260   \n",
       "\n",
       "   Data.Totals.Violent.Assault  Data.Totals.Violent.Murder  \\\n",
       "0                         4512                         406   \n",
       "1                         4255                         427   \n",
       "2                         3995                         316   \n",
       "3                         4755                         340   \n",
       "4                         5555                         316   \n",
       "\n",
       "   Data.Totals.Violent.Rape  Data.Totals.Violent.Robbery  \n",
       "0                       281                          898  \n",
       "1                       252                          630  \n",
       "2                       218                          754  \n",
       "3                       192                          828  \n",
       "4                       397                          992  \n",
       "\n",
       "[5 rows x 21 columns]"
      ]
     },
     "execution_count": 2,
     "metadata": {},
     "output_type": "execute_result"
    }
   ],
   "source": [
    "df = pd.read_csv(\"state_crime.csv\")\n",
    "df.head()"
   ]
  },
  {
   "cell_type": "code",
   "execution_count": 3,
   "metadata": {},
   "outputs": [
    {
     "data": {
      "text/plain": [
       "Index(['State', 'Year', 'Data.Population', 'Data.Rates.Property.All',\n",
       "       'Data.Rates.Property.Burglary', 'Data.Rates.Property.Larceny',\n",
       "       'Data.Rates.Property.Motor', 'Data.Rates.Violent.All',\n",
       "       'Data.Rates.Violent.Assault', 'Data.Rates.Violent.Murder',\n",
       "       'Data.Rates.Violent.Rape', 'Data.Rates.Violent.Robbery',\n",
       "       'Data.Totals.Property.All', 'Data.Totals.Property.Burglary',\n",
       "       'Data.Totals.Property.Larceny', 'Data.Totals.Property.Motor',\n",
       "       'Data.Totals.Violent.All', 'Data.Totals.Violent.Assault',\n",
       "       'Data.Totals.Violent.Murder', 'Data.Totals.Violent.Rape',\n",
       "       'Data.Totals.Violent.Robbery'],\n",
       "      dtype='object')"
      ]
     },
     "execution_count": 3,
     "metadata": {},
     "output_type": "execute_result"
    }
   ],
   "source": [
    "df.columns"
   ]
  },
  {
   "cell_type": "code",
   "execution_count": 4,
   "metadata": {},
   "outputs": [],
   "source": [
    "#isolating 1 state\n",
    "california = df[df[\"State\"] == \"California\"]"
   ]
  },
  {
   "cell_type": "code",
   "execution_count": 5,
   "metadata": {},
   "outputs": [
    {
     "data": {
      "text/plain": [
       "Text(0.5, 1.0, 'Data before shifting')"
      ]
     },
     "execution_count": 5,
     "metadata": {},
     "output_type": "execute_result"
    },
    {
     "data": {
      "image/png": "[encoded data removed]",
      "text/plain": [
       "<Figure size 432x288 with 1 Axes>"
      ]
     },
     "metadata": {
      "needs_background": "light"
     },
     "output_type": "display_data"
    }
   ],
   "source": [
    "#sns.scatterplot(data=california, x = 'Year', y = 'Data.Population', hue = 'State')\n",
    "fig,ax = plt.subplots()\n",
    "\n",
    "# ax.scatter(data=california, x = 'Year', y = 'Data.Population')\n",
    "ax.scatter(data=california, x = 'Year', y = 'Data.Rates.Property.All')\n",
    "ax.scatter(data=california, x = 'Year', y = 'Data.Rates.Property.Larceny')\n",
    "ax.scatter(data=california, x = 'Year', y = 'Data.Rates.Property.Burglary')\n",
    "ax.scatter(data=california, x = 'Year', y = 'Data.Rates.Property.Motor')\n",
    "# ax.scatter(data=california, x = 'Year', y = 'Data.Rates.Violent.All')\n",
    "# ax.scatter(data=california, x = 'Year', y = 'Data.Rates.Violent.Assault')\n",
    "# ax.scatter(data=california, x = 'Year', y = 'Data.Rates.Violent.Murder')\n",
    "# ax.scatter(data=california, x = 'Year', y = 'Data.Rates.Violent.Robbery')\n",
    "# ax.scatter(data=california, x = 'Year', y = 'Data.Totals.Property.All')\n",
    "# ax.scatter(data=california, x = 'Year', y = 'Data.Rates.Violent.Rape')\n",
    "fig.legend()\n",
    "plt.title(\"Data before shifting\")"
   ]
  },
  {
   "cell_type": "markdown",
   "metadata": {},
   "source": [
    "For the data that we plan to use there is a visible replacement in variables between the columns. After verifying data in csv with the FBI data, the result was that our hipotesis was correct - data was shifted, so we decided to shift the data between above columns."
   ]
  },
  {
   "cell_type": "code",
   "execution_count": 6,
   "metadata": {
    "scrolled": true
   },
   "outputs": [
    {
     "name": "stderr",
     "output_type": "stream",
     "text": [
      "C:\\Users\\Agnieszka\\AppData\\Local\\Temp\\ipykernel_16400\\2898082888.py:4: SettingWithCopyWarning: \n",
      "A value is trying to be set on a copy of a slice from a DataFrame\n",
      "\n",
      "See the caveats in the documentation: https://pandas.pydata.org/pandas-docs/stable/user_guide/indexing.html#returning-a-view-versus-a-copy\n",
      "  df['Data.Rates.Property.All'][i] =  df['Data.Rates.Property.Burglary'][i]\n",
      "C:\\Users\\Agnieszka\\AppData\\Local\\Temp\\ipykernel_16400\\2898082888.py:5: SettingWithCopyWarning: \n",
      "A value is trying to be set on a copy of a slice from a DataFrame\n",
      "\n",
      "See the caveats in the documentation: https://pandas.pydata.org/pandas-docs/stable/user_guide/indexing.html#returning-a-view-versus-a-copy\n",
      "  df['Data.Rates.Property.Burglary'][i] = x\n",
      "C:\\Users\\Agnieszka\\AppData\\Local\\Temp\\ipykernel_16400\\2898082888.py:8: SettingWithCopyWarning: \n",
      "A value is trying to be set on a copy of a slice from a DataFrame\n",
      "\n",
      "See the caveats in the documentation: https://pandas.pydata.org/pandas-docs/stable/user_guide/indexing.html#returning-a-view-versus-a-copy\n",
      "  df['Data.Rates.Property.Larceny'][i] =  df['Data.Rates.Property.Motor'][i]\n",
      "C:\\Users\\Agnieszka\\AppData\\Local\\Temp\\ipykernel_16400\\2898082888.py:9: SettingWithCopyWarning: \n",
      "A value is trying to be set on a copy of a slice from a DataFrame\n",
      "\n",
      "See the caveats in the documentation: https://pandas.pydata.org/pandas-docs/stable/user_guide/indexing.html#returning-a-view-versus-a-copy\n",
      "  df['Data.Rates.Property.Motor'][i] = y\n",
      "C:\\Users\\Agnieszka\\AppData\\Local\\Temp\\ipykernel_16400\\2898082888.py:12: SettingWithCopyWarning: \n",
      "A value is trying to be set on a copy of a slice from a DataFrame\n",
      "\n",
      "See the caveats in the documentation: https://pandas.pydata.org/pandas-docs/stable/user_guide/indexing.html#returning-a-view-versus-a-copy\n",
      "  df['Data.Rates.Property.Burglary'][i] =  df['Data.Rates.Property.Motor'][i]\n",
      "C:\\Users\\Agnieszka\\AppData\\Local\\Temp\\ipykernel_16400\\2898082888.py:13: SettingWithCopyWarning: \n",
      "A value is trying to be set on a copy of a slice from a DataFrame\n",
      "\n",
      "See the caveats in the documentation: https://pandas.pydata.org/pandas-docs/stable/user_guide/indexing.html#returning-a-view-versus-a-copy\n",
      "  df['Data.Rates.Property.Motor'][i] = z\n"
     ]
    }
   ],
   "source": [
    "for i in range(0, len(df)):\n",
    "    if df['Data.Rates.Property.All'][i] <  df['Data.Rates.Property.Burglary'][i]:\n",
    "        x = df['Data.Rates.Property.All'][i]\n",
    "        df['Data.Rates.Property.All'][i] =  df['Data.Rates.Property.Burglary'][i]\n",
    "        df['Data.Rates.Property.Burglary'][i] = x\n",
    "    if df['Data.Rates.Property.Larceny'][i] <  df['Data.Rates.Property.Motor'][i]:\n",
    "        y = df['Data.Rates.Property.Larceny'][i]\n",
    "        df['Data.Rates.Property.Larceny'][i] =  df['Data.Rates.Property.Motor'][i]\n",
    "        df['Data.Rates.Property.Motor'][i] = y\n",
    "    if df['Data.Rates.Property.Burglary'][i] <  df['Data.Rates.Property.Motor'][i]:\n",
    "        z = df['Data.Rates.Property.Burglary'][i]\n",
    "        df['Data.Rates.Property.Burglary'][i] =  df['Data.Rates.Property.Motor'][i]\n",
    "        df['Data.Rates.Property.Motor'][i] = z\n",
    "\n",
    "# for j in range(0, len(df)):       \n",
    "#     if df['Data.Rates.Property.Larceny'][j] <  df['Data.Rates.Property.Motor'][j]:\n",
    "#         y = df['Data.Rates.Property.Larceny'][j]\n",
    "#         df['Data.Rates.Property.Larceny'][j] =  df['Data.Rates.Property.Motor'][j]\n",
    "#         df['Data.Rates.Property.Motor'][j] = y "
   ]
  },
  {
   "cell_type": "code",
   "execution_count": 22,
   "metadata": {},
   "outputs": [
    {
     "data": {
      "text/plain": [
       "Text(0.5, 1.0, 'Data after shifting')"
      ]
     },
     "execution_count": 22,
     "metadata": {},
     "output_type": "execute_result"
    },
    {
     "data": {
      "image/png": "[encoded data removed]",
      "text/plain": [
       "<Figure size 432x288 with 1 Axes>"
      ]
     },
     "metadata": {
      "needs_background": "light"
     },
     "output_type": "display_data"
    }
   ],
   "source": [
    "california = df[df[\"State\"] == \"California\"]\n",
    "fig,ax = plt.subplots()\n",
    "\n",
    "# ax.scatter(data=california, x = 'Year', y = 'Data.Population')\n",
    "# ax.scatter(data=california, x = 'Year', y = 'Data.Rates.Property.All')\n",
    "ax.scatter(data=california, x = 'Year', y = 'Data.Rates.Property.Larceny')\n",
    "ax.scatter(data=california, x = 'Year', y = 'Data.Rates.Property.Burglary')\n",
    "# ax.scatter(data=california, x = 'Year', y = 'Data.Rates.Property.Motor')\n",
    "# ax.scatter(data=california, x = 'Year', y = 'Data.Rates.Violent.All')\n",
    "# ax.scatter(data=california, x = 'Year', y = 'Data.Rates.Violent.Assault')\n",
    "# ax.scatter(data=california, x = 'Year', y = 'Data.Rates.Violent.Murder')\n",
    "# ax.scatter(data=california, x = 'Year', y = 'Data.Rates.Violent.Robbery')\n",
    "# ax.scatter(data=california, x = 'Year', y = 'Data.Totals.Property.All')\n",
    "# ax.scatter(data=california, x = 'Year', y = 'Data.Rates.Violent.Rape')\n",
    "fig.legend()\n",
    "plt.title(\"Data after shifting\")"
   ]
  },
  {
   "cell_type": "code",
   "execution_count": 8,
   "metadata": {
    "scrolled": true
   },
   "outputs": [
    {
     "data": {
      "text/html": [
       "<div>\n",
       "<style scoped>\n",
       "    .dataframe tbody tr th:only-of-type {\n",
       "        vertical-align: middle;\n",
       "    }\n",
       "\n",
       "    .dataframe tbody tr th {\n",
       "        vertical-align: top;\n",
       "    }\n",
       "\n",
       "    .dataframe thead th {\n",
       "        text-align: right;\n",
       "    }\n",
       "</style>\n",
       "<table border=\"1\" class=\"dataframe\">\n",
       "  <thead>\n",
       "    <tr style=\"text-align: right;\">\n",
       "      <th></th>\n",
       "      <th>Year</th>\n",
       "      <th>Data.Population</th>\n",
       "      <th>Data.Rates.Property.All</th>\n",
       "      <th>Data.Rates.Property.Burglary</th>\n",
       "      <th>Data.Rates.Property.Larceny</th>\n",
       "      <th>Data.Rates.Property.Motor</th>\n",
       "      <th>Data.Rates.Violent.All</th>\n",
       "      <th>Data.Rates.Violent.Assault</th>\n",
       "      <th>Data.Rates.Violent.Murder</th>\n",
       "      <th>Data.Rates.Violent.Rape</th>\n",
       "      <th>Data.Rates.Violent.Robbery</th>\n",
       "      <th>Data.Totals.Property.All</th>\n",
       "      <th>Data.Totals.Property.Burglary</th>\n",
       "      <th>Data.Totals.Property.Larceny</th>\n",
       "      <th>Data.Totals.Property.Motor</th>\n",
       "      <th>Data.Totals.Violent.All</th>\n",
       "      <th>Data.Totals.Violent.Assault</th>\n",
       "      <th>Data.Totals.Violent.Murder</th>\n",
       "      <th>Data.Totals.Violent.Rape</th>\n",
       "      <th>Data.Totals.Violent.Robbery</th>\n",
       "    </tr>\n",
       "  </thead>\n",
       "  <tbody>\n",
       "    <tr>\n",
       "      <th>count</th>\n",
       "      <td>60.000000</td>\n",
       "      <td>6.000000e+01</td>\n",
       "      <td>60.000000</td>\n",
       "      <td>60.000000</td>\n",
       "      <td>60.000000</td>\n",
       "      <td>60.000000</td>\n",
       "      <td>60.000000</td>\n",
       "      <td>60.000000</td>\n",
       "      <td>60.00000</td>\n",
       "      <td>60.000000</td>\n",
       "      <td>60.000000</td>\n",
       "      <td>6.000000e+01</td>\n",
       "      <td>6.000000e+01</td>\n",
       "      <td>60.000000</td>\n",
       "      <td>60.000000</td>\n",
       "      <td>60.000000</td>\n",
       "      <td>60.000000</td>\n",
       "      <td>60.00000</td>\n",
       "      <td>60.000000</td>\n",
       "      <td>60.000000</td>\n",
       "    </tr>\n",
       "    <tr>\n",
       "      <th>mean</th>\n",
       "      <td>1989.500000</td>\n",
       "      <td>2.855579e+07</td>\n",
       "      <td>4475.756667</td>\n",
       "      <td>1228.918333</td>\n",
       "      <td>2620.975000</td>\n",
       "      <td>616.905000</td>\n",
       "      <td>617.291667</td>\n",
       "      <td>339.663333</td>\n",
       "      <td>7.89000</td>\n",
       "      <td>34.218333</td>\n",
       "      <td>224.545000</td>\n",
       "      <td>1.163731e+06</td>\n",
       "      <td>3.580828e+05</td>\n",
       "      <td>691070.750000</td>\n",
       "      <td>201472.483333</td>\n",
       "      <td>178274.266667</td>\n",
       "      <td>99361.366667</td>\n",
       "      <td>2207.50000</td>\n",
       "      <td>9654.166667</td>\n",
       "      <td>62802.366667</td>\n",
       "    </tr>\n",
       "    <tr>\n",
       "      <th>std</th>\n",
       "      <td>17.464249</td>\n",
       "      <td>7.628299e+06</td>\n",
       "      <td>1478.502570</td>\n",
       "      <td>594.524257</td>\n",
       "      <td>778.947315</td>\n",
       "      <td>207.456626</td>\n",
       "      <td>242.850555</td>\n",
       "      <td>152.225295</td>\n",
       "      <td>3.11365</td>\n",
       "      <td>10.450099</td>\n",
       "      <td>104.734474</td>\n",
       "      <td>4.012412e+05</td>\n",
       "      <td>1.865597e+05</td>\n",
       "      <td>203269.217232</td>\n",
       "      <td>119409.517507</td>\n",
       "      <td>79088.695892</td>\n",
       "      <td>51175.017672</td>\n",
       "      <td>870.82368</td>\n",
       "      <td>3161.458981</td>\n",
       "      <td>30578.344402</td>\n",
       "    </tr>\n",
       "    <tr>\n",
       "      <th>min</th>\n",
       "      <td>1960.000000</td>\n",
       "      <td>1.571720e+07</td>\n",
       "      <td>2331.200000</td>\n",
       "      <td>386.100000</td>\n",
       "      <td>1527.400000</td>\n",
       "      <td>232.300000</td>\n",
       "      <td>232.700000</td>\n",
       "      <td>119.600000</td>\n",
       "      <td>3.70000</td>\n",
       "      <td>17.400000</td>\n",
       "      <td>19.500000</td>\n",
       "      <td>8.902900e+04</td>\n",
       "      <td>1.431020e+05</td>\n",
       "      <td>197404.000000</td>\n",
       "      <td>53453.000000</td>\n",
       "      <td>37558.000000</td>\n",
       "      <td>18796.000000</td>\n",
       "      <td>605.00000</td>\n",
       "      <td>2859.000000</td>\n",
       "      <td>7464.000000</td>\n",
       "    </tr>\n",
       "    <tr>\n",
       "      <th>25%</th>\n",
       "      <td>1974.750000</td>\n",
       "      <td>2.111550e+07</td>\n",
       "      <td>3177.725000</td>\n",
       "      <td>674.300000</td>\n",
       "      <td>1922.125000</td>\n",
       "      <td>443.275000</td>\n",
       "      <td>440.800000</td>\n",
       "      <td>241.225000</td>\n",
       "      <td>4.87500</td>\n",
       "      <td>25.300000</td>\n",
       "      <td>147.475000</td>\n",
       "      <td>9.858202e+05</td>\n",
       "      <td>2.317542e+05</td>\n",
       "      <td>620181.750000</td>\n",
       "      <td>139242.500000</td>\n",
       "      <td>136046.000000</td>\n",
       "      <td>53445.500000</td>\n",
       "      <td>1744.25000</td>\n",
       "      <td>8280.000000</td>\n",
       "      <td>48528.250000</td>\n",
       "    </tr>\n",
       "    <tr>\n",
       "      <th>50%</th>\n",
       "      <td>1989.500000</td>\n",
       "      <td>2.941151e+07</td>\n",
       "      <td>4294.700000</td>\n",
       "      <td>1164.950000</td>\n",
       "      <td>2555.650000</td>\n",
       "      <td>635.600000</td>\n",
       "      <td>572.700000</td>\n",
       "      <td>319.050000</td>\n",
       "      <td>6.85000</td>\n",
       "      <td>34.150000</td>\n",
       "      <td>198.450000</td>\n",
       "      <td>1.185550e+06</td>\n",
       "      <td>3.209860e+05</td>\n",
       "      <td>695103.000000</td>\n",
       "      <td>168435.500000</td>\n",
       "      <td>180857.000000</td>\n",
       "      <td>99075.500000</td>\n",
       "      <td>2188.50000</td>\n",
       "      <td>9872.500000</td>\n",
       "      <td>62310.000000</td>\n",
       "    </tr>\n",
       "    <tr>\n",
       "      <th>75%</th>\n",
       "      <td>2004.250000</td>\n",
       "      <td>3.592007e+07</td>\n",
       "      <td>5760.975000</td>\n",
       "      <td>1708.150000</td>\n",
       "      <td>3346.200000</td>\n",
       "      <td>696.875000</td>\n",
       "      <td>801.500000</td>\n",
       "      <td>410.650000</td>\n",
       "      <td>10.60000</td>\n",
       "      <td>41.650000</td>\n",
       "      <td>311.450000</td>\n",
       "      <td>1.492620e+06</td>\n",
       "      <td>4.356690e+05</td>\n",
       "      <td>859776.750000</td>\n",
       "      <td>241611.000000</td>\n",
       "      <td>210350.250000</td>\n",
       "      <td>136183.250000</td>\n",
       "      <td>2772.25000</td>\n",
       "      <td>11997.750000</td>\n",
       "      <td>84399.500000</td>\n",
       "    </tr>\n",
       "    <tr>\n",
       "      <th>max</th>\n",
       "      <td>2019.000000</td>\n",
       "      <td>3.955704e+07</td>\n",
       "      <td>6939.500000</td>\n",
       "      <td>2316.500000</td>\n",
       "      <td>3880.000000</td>\n",
       "      <td>1038.900000</td>\n",
       "      <td>1119.700000</td>\n",
       "      <td>641.600000</td>\n",
       "      <td>14.50000</td>\n",
       "      <td>58.200000</td>\n",
       "      <td>424.100000</td>\n",
       "      <td>1.726391e+06</td>\n",
       "      <td>1.024914e+06</td>\n",
       "      <td>986120.000000</td>\n",
       "      <td>656517.000000</td>\n",
       "      <td>345624.000000</td>\n",
       "      <td>198045.000000</td>\n",
       "      <td>4096.00000</td>\n",
       "      <td>15505.000000</td>\n",
       "      <td>130897.000000</td>\n",
       "    </tr>\n",
       "  </tbody>\n",
       "</table>\n",
       "</div>"
      ],
      "text/plain": [
       "              Year  Data.Population  Data.Rates.Property.All  \\\n",
       "count    60.000000     6.000000e+01                60.000000   \n",
       "mean   1989.500000     2.855579e+07              4475.756667   \n",
       "std      17.464249     7.628299e+06              1478.502570   \n",
       "min    1960.000000     1.571720e+07              2331.200000   \n",
       "25%    1974.750000     2.111550e+07              3177.725000   \n",
       "50%    1989.500000     2.941151e+07              4294.700000   \n",
       "75%    2004.250000     3.592007e+07              5760.975000   \n",
       "max    2019.000000     3.955704e+07              6939.500000   \n",
       "\n",
       "       Data.Rates.Property.Burglary  Data.Rates.Property.Larceny  \\\n",
       "count                     60.000000                    60.000000   \n",
       "mean                    1228.918333                  2620.975000   \n",
       "std                      594.524257                   778.947315   \n",
       "min                      386.100000                  1527.400000   \n",
       "25%                      674.300000                  1922.125000   \n",
       "50%                     1164.950000                  2555.650000   \n",
       "75%                     1708.150000                  3346.200000   \n",
       "max                     2316.500000                  3880.000000   \n",
       "\n",
       "       Data.Rates.Property.Motor  Data.Rates.Violent.All  \\\n",
       "count                  60.000000               60.000000   \n",
       "mean                  616.905000              617.291667   \n",
       "std                   207.456626              242.850555   \n",
       "min                   232.300000              232.700000   \n",
       "25%                   443.275000              440.800000   \n",
       "50%                   635.600000              572.700000   \n",
       "75%                   696.875000              801.500000   \n",
       "max                  1038.900000             1119.700000   \n",
       "\n",
       "       Data.Rates.Violent.Assault  Data.Rates.Violent.Murder  \\\n",
       "count                   60.000000                   60.00000   \n",
       "mean                   339.663333                    7.89000   \n",
       "std                    152.225295                    3.11365   \n",
       "min                    119.600000                    3.70000   \n",
       "25%                    241.225000                    4.87500   \n",
       "50%                    319.050000                    6.85000   \n",
       "75%                    410.650000                   10.60000   \n",
       "max                    641.600000                   14.50000   \n",
       "\n",
       "       Data.Rates.Violent.Rape  Data.Rates.Violent.Robbery  \\\n",
       "count                60.000000                   60.000000   \n",
       "mean                 34.218333                  224.545000   \n",
       "std                  10.450099                  104.734474   \n",
       "min                  17.400000                   19.500000   \n",
       "25%                  25.300000                  147.475000   \n",
       "50%                  34.150000                  198.450000   \n",
       "75%                  41.650000                  311.450000   \n",
       "max                  58.200000                  424.100000   \n",
       "\n",
       "       Data.Totals.Property.All  Data.Totals.Property.Burglary  \\\n",
       "count              6.000000e+01                   6.000000e+01   \n",
       "mean               1.163731e+06                   3.580828e+05   \n",
       "std                4.012412e+05                   1.865597e+05   \n",
       "min                8.902900e+04                   1.431020e+05   \n",
       "25%                9.858202e+05                   2.317542e+05   \n",
       "50%                1.185550e+06                   3.209860e+05   \n",
       "75%                1.492620e+06                   4.356690e+05   \n",
       "max                1.726391e+06                   1.024914e+06   \n",
       "\n",
       "       Data.Totals.Property.Larceny  Data.Totals.Property.Motor  \\\n",
       "count                     60.000000                   60.000000   \n",
       "mean                  691070.750000               201472.483333   \n",
       "std                   203269.217232               119409.517507   \n",
       "min                   197404.000000                53453.000000   \n",
       "25%                   620181.750000               139242.500000   \n",
       "50%                   695103.000000               168435.500000   \n",
       "75%                   859776.750000               241611.000000   \n",
       "max                   986120.000000               656517.000000   \n",
       "\n",
       "       Data.Totals.Violent.All  Data.Totals.Violent.Assault  \\\n",
       "count                60.000000                    60.000000   \n",
       "mean             178274.266667                 99361.366667   \n",
       "std               79088.695892                 51175.017672   \n",
       "min               37558.000000                 18796.000000   \n",
       "25%              136046.000000                 53445.500000   \n",
       "50%              180857.000000                 99075.500000   \n",
       "75%              210350.250000                136183.250000   \n",
       "max              345624.000000                198045.000000   \n",
       "\n",
       "       Data.Totals.Violent.Murder  Data.Totals.Violent.Rape  \\\n",
       "count                    60.00000                 60.000000   \n",
       "mean                   2207.50000               9654.166667   \n",
       "std                     870.82368               3161.458981   \n",
       "min                     605.00000               2859.000000   \n",
       "25%                    1744.25000               8280.000000   \n",
       "50%                    2188.50000               9872.500000   \n",
       "75%                    2772.25000              11997.750000   \n",
       "max                    4096.00000              15505.000000   \n",
       "\n",
       "       Data.Totals.Violent.Robbery  \n",
       "count                    60.000000  \n",
       "mean                  62802.366667  \n",
       "std                   30578.344402  \n",
       "min                    7464.000000  \n",
       "25%                   48528.250000  \n",
       "50%                   62310.000000  \n",
       "75%                   84399.500000  \n",
       "max                  130897.000000  "
      ]
     },
     "execution_count": 8,
     "metadata": {},
     "output_type": "execute_result"
    }
   ],
   "source": [
    "california.describe()"
   ]
  },
  {
   "cell_type": "code",
   "execution_count": 9,
   "metadata": {},
   "outputs": [
    {
     "name": "stdout",
     "output_type": "stream",
     "text": [
      "2621\n",
      "779\n"
     ]
    },
    {
     "data": {
      "text/plain": [
       "60"
      ]
     },
     "execution_count": 9,
     "metadata": {},
     "output_type": "execute_result"
    }
   ],
   "source": [
    "# mean_all = round(california['Data.Rates.Property.Burglary'].mean())\n",
    "# print(mean_all)\n",
    "# std_all = round(california['Data.Rates.Property.Burglary'].std())\n",
    "# print(std_all)\n",
    "# len(california)"
   ]
  },
  {
   "cell_type": "code",
   "execution_count": 24,
   "metadata": {},
   "outputs": [
    {
     "data": {
      "image/png": "[encoded data removed]",
      "text/plain": [
       "<Figure size 432x288 with 1 Axes>"
      ]
     },
     "metadata": {
      "needs_background": "light"
     },
     "output_type": "display_data"
    }
   ],
   "source": [
    "plt.hist(california['Data.Rates.Property.Burglary'], bins=20, label= \"prior\", histtype='step')\n",
    "# plt.hist(california['Data.Rates.Property.Larceny'], bins=20, label= \"actual data\", histtype='step')\n",
    "plt.show()"
   ]
  },
  {
   "cell_type": "markdown",
   "metadata": {},
   "source": [
    "# Prior predictive check"
   ]
  },
  {
   "cell_type": "code",
   "execution_count": 10,
   "metadata": {},
   "outputs": [
    {
     "name": "stderr",
     "output_type": "stream",
     "text": [
      "INFO:cmdstanpy:compiling stan file C:\\Users\\Agnieszka\\Desktop\\drive\\normal_ppc.stan to exe file C:\\Users\\Agnieszka\\Desktop\\drive\\normal_ppc.exe\n",
      "INFO:cmdstanpy:compiled model executable: C:\\Users\\Agnieszka\\Desktop\\drive\\normal_ppc.exe\n",
      "INFO:cmdstanpy:CmdStan start processing\n",
      "chain 1 |\u001b[34m██████████\u001b[0m| 00:00 Sampling completed"
     ]
    },
    {
     "name": "stdout",
     "output_type": "stream",
     "text": [
      "                                                                                "
     ]
    },
    {
     "name": "stderr",
     "output_type": "stream",
     "text": [
      "\n",
      "INFO:cmdstanpy:CmdStan done processing.\n"
     ]
    },
    {
     "name": "stdout",
     "output_type": "stream",
     "text": [
      "\n"
     ]
    }
   ],
   "source": [
    "normal_model1 = CmdStanModel(stan_file = 'normal_ppc.stan')\n",
    "\n",
    "# normal_model1 = CmdStanModel(stan_file = 'prior_test.stan')\n",
    "# stan_data={'N': len(california[\"Data.Rates.Property.All\"]), \"dane\": california[\"Data.Rates.Property.All\"], 'std': std_all, \"mean\": mean_all}\n",
    "\n",
    "R = 60 #bc the data has been collected for 60 years\n",
    "sim_normal = normal_model1.sample(iter_sampling = R, \n",
    "                             iter_warmup = 0,\n",
    "                             chains = 1,\n",
    "                             fixed_param = True,\n",
    "                             seed = 31052022)\n",
    "# alpha_sim = sim.stan_variable('alpha')\n",
    "# beta_sim = sim.stan_variable('beta')\n",
    "mu_sim_normal = sim_normal.stan_variable('mu')\n",
    "sigma_sim_normal = sim_normal.stan_variable('sigma')\n",
    "prior_normal = sim_normal.stan_variable('prior')"
   ]
  },
  {
   "cell_type": "code",
   "execution_count": 11,
   "metadata": {},
   "outputs": [
    {
     "name": "stdout",
     "output_type": "stream",
     "text": [
      "[3404.15  2070.59  2467.44  2489.54  2885.65  1772.23  3385.45  3145.84\n",
      " 2881.88  1520.23  3098.3   2420.07  5570.91  2061.14  3224.38  2165.78\n",
      " 2753.66  2587.84  1757.5   2313.02  -989.559 2685.5   1973.44  2521.25\n",
      "  825.973 1829.4   3611.97  2426.17  6598.43  2045.61  4018.7   3548.23\n",
      " 2907.67  2581.59  4197.88  3404.48  2672.62   104.307 2080.25  2692.53\n",
      " 2349.18  2121.97  2376.41  3177.6   2901.73  1739.56  3828.84  2794.52\n",
      " 2925.94  2220.77  1522.94  3314.3   1912.31  2223.25  2489.7   2926.09\n",
      "  211.489 3092.65  3392.97  1691.29 ]\n"
     ]
    },
    {
     "data": {
      "text/plain": [
       "<matplotlib.legend.Legend at 0x2067d1ce190>"
      ]
     },
     "execution_count": 11,
     "metadata": {},
     "output_type": "execute_result"
    },
    {
     "data": {
      "image/png": "[encoded data removed]",
      "text/plain": [
       "<Figure size 432x288 with 1 Axes>"
      ]
     },
     "metadata": {
      "needs_background": "light"
     },
     "output_type": "display_data"
    }
   ],
   "source": [
    "print(prior_normal)\n",
    "fig,ax = plt.subplots()\n",
    "x= list(range(1960,2020))\n",
    "plt.plot(x, prior_normal, \"o\", color = 'red', label = 'Prior prediction')\n",
    "ax.scatter(x = california['Year'], y = california[\"Data.Rates.Property.Larceny\"], label = 'Actual data')\n",
    "#ax.scatter(data=prior, x = 'Year', y = 'Data.Rates.Property.Larceny')\n",
    "ax.set_ylabel(\"Rate\")\n",
    "ax.set_xlabel(\"Years\")\n",
    "ax.set_title(\"Larceny rates in California\")\n",
    "fig.legend()"
   ]
  },
  {
   "cell_type": "code",
   "execution_count": 12,
   "metadata": {},
   "outputs": [
    {
     "data": {
      "image/png": "[encoded data removed]",
      "text/plain": [
       "<Figure size 432x288 with 1 Axes>"
      ]
     },
     "metadata": {
      "needs_background": "light"
     },
     "output_type": "display_data"
    }
   ],
   "source": [
    "# prior.hist(column = 'Data.Rates.Property.Larceny', bins = 20)\n",
    "# np.histogram(prior, bins = 20)\n",
    "plt.hist(prior_normal, bins=20, label= \"prior\", histtype='step')\n",
    "plt.hist(california['Data.Rates.Property.Larceny'], bins=20, label= \"actual data\", histtype='step')\n",
    "plt.legend(loc=\"upper left\")\n",
    "plt.show()"
   ]
  },
  {
   "cell_type": "code",
   "execution_count": 13,
   "metadata": {},
   "outputs": [
    {
     "data": {
      "image/png": "[encoded data removed]",
      "text/plain": [
       "<Figure size 432x288 with 1 Axes>"
      ]
     },
     "metadata": {
      "needs_background": "light"
     },
     "output_type": "display_data"
    }
   ],
   "source": [
    "q50 =[]\n",
    "\n",
    "for i in range(1,len(sim_normal.stan_variable('prior'))):\n",
    "    q50.append(np.quantile(sim_normal.stan_variable('prior')[i],0.50))\n",
    "\n",
    "plt.plot(q50)\n",
    "plt.show()"
   ]
  },
  {
   "cell_type": "markdown",
   "metadata": {},
   "source": [
    "## WITH NORMALIZATION"
   ]
  },
  {
   "cell_type": "code",
   "execution_count": 14,
   "metadata": {},
   "outputs": [],
   "source": [
    "normalized_cal_lat = (california['Data.Rates.Property.Larceny'] - california['Data.Rates.Property.Larceny'].min())/(california['Data.Rates.Property.Larceny'].max() - california['Data.Rates.Property.Larceny'].min())\n",
    "#odjac srednia, odchylenie standarodwe"
   ]
  },
  {
   "cell_type": "code",
   "execution_count": 15,
   "metadata": {},
   "outputs": [
    {
     "data": {
      "image/png": "[encoded data removed]",
      "text/plain": [
       "<Figure size 432x288 with 1 Axes>"
      ]
     },
     "metadata": {
      "needs_background": "light"
     },
     "output_type": "display_data"
    }
   ],
   "source": [
    "plt.hist(normalized_cal_lat, bins=20, label= \"actual data\", histtype='step')\n",
    "plt.show()"
   ]
  },
  {
   "cell_type": "code",
   "execution_count": 16,
   "metadata": {},
   "outputs": [
    {
     "data": {
      "text/plain": [
       "count    60.000000\n",
       "mean      0.464837\n",
       "std       0.331101\n",
       "min       0.000000\n",
       "25%       0.167782\n",
       "50%       0.437070\n",
       "75%       0.773102\n",
       "max       1.000000\n",
       "Name: Data.Rates.Property.Larceny, dtype: float64"
      ]
     },
     "execution_count": 16,
     "metadata": {},
     "output_type": "execute_result"
    }
   ],
   "source": [
    "normalized_cal_lat.describe()"
   ]
  },
  {
   "cell_type": "code",
   "execution_count": 17,
   "metadata": {},
   "outputs": [
    {
     "ename": "ValueError",
     "evalue": "no such file C:\\Users\\Agnieszka\\Desktop\\drive\\normal_normalized_ppc.stan",
     "output_type": "error",
     "traceback": [
      "\u001b[1;31m---------------------------------------------------------------------------\u001b[0m",
      "\u001b[1;31mValueError\u001b[0m                                Traceback (most recent call last)",
      "\u001b[1;32mc:\\Users\\Agnieszka\\Desktop\\drive\\test.ipynb Cell 26'\u001b[0m in \u001b[0;36m<cell line: 1>\u001b[1;34m()\u001b[0m\n\u001b[1;32m----> <a href='vscode-notebook-cell:/c%3A/Users/Agnieszka/Desktop/drive/test.ipynb#ch0000030?line=0'>1</a>\u001b[0m normal_model1 \u001b[39m=\u001b[39m CmdStanModel(stan_file \u001b[39m=\u001b[39;49m \u001b[39m'\u001b[39;49m\u001b[39mnormal_normalized_ppc.stan\u001b[39;49m\u001b[39m'\u001b[39;49m)\n\u001b[0;32m      <a href='vscode-notebook-cell:/c%3A/Users/Agnieszka/Desktop/drive/test.ipynb#ch0000030?line=1'>2</a>\u001b[0m stan_data\u001b[39m=\u001b[39m{\u001b[39m\"\u001b[39m\u001b[39mdata_mu\u001b[39m\u001b[39m\"\u001b[39m: \u001b[39m0.464837\u001b[39m, \u001b[39m\"\u001b[39m\u001b[39mdata_sigma\u001b[39m\u001b[39m\"\u001b[39m: \u001b[39m0.331101\u001b[39m}\n\u001b[0;32m      <a href='vscode-notebook-cell:/c%3A/Users/Agnieszka/Desktop/drive/test.ipynb#ch0000030?line=3'>4</a>\u001b[0m \u001b[39m# normal_model1 = CmdStanModel(stan_file = 'prior_test.stan')\u001b[39;00m\n\u001b[0;32m      <a href='vscode-notebook-cell:/c%3A/Users/Agnieszka/Desktop/drive/test.ipynb#ch0000030?line=4'>5</a>\u001b[0m \u001b[39m# stan_data={'N': len(california[\"Data.Rates.Property.All\"]), \"dane\": california[\"Data.Rates.Property.All\"], 'std': std_all, \"mean\": mean_all}\u001b[39;00m\n",
      "File \u001b[1;32mc:\\Users\\Agnieszka\\anaconda3\\envs\\data-anatylics\\lib\\site-packages\\cmdstanpy\\model.py:142\u001b[0m, in \u001b[0;36mCmdStanModel.__init__\u001b[1;34m(self, model_name, stan_file, exe_file, compile, stanc_options, cpp_options, user_header)\u001b[0m\n\u001b[0;32m    <a href='file:///c%3A/Users/Agnieszka/anaconda3/envs/data-anatylics/lib/site-packages/cmdstanpy/model.py?line=139'>140</a>\u001b[0m \u001b[39mself\u001b[39m\u001b[39m.\u001b[39m_stan_file \u001b[39m=\u001b[39m os\u001b[39m.\u001b[39mpath\u001b[39m.\u001b[39mrealpath(os\u001b[39m.\u001b[39mpath\u001b[39m.\u001b[39mexpanduser(stan_file))\n\u001b[0;32m    <a href='file:///c%3A/Users/Agnieszka/anaconda3/envs/data-anatylics/lib/site-packages/cmdstanpy/model.py?line=140'>141</a>\u001b[0m \u001b[39mif\u001b[39;00m \u001b[39mnot\u001b[39;00m os\u001b[39m.\u001b[39mpath\u001b[39m.\u001b[39mexists(\u001b[39mself\u001b[39m\u001b[39m.\u001b[39m_stan_file):\n\u001b[1;32m--> <a href='file:///c%3A/Users/Agnieszka/anaconda3/envs/data-anatylics/lib/site-packages/cmdstanpy/model.py?line=141'>142</a>\u001b[0m     \u001b[39mraise\u001b[39;00m \u001b[39mValueError\u001b[39;00m(\u001b[39m'\u001b[39m\u001b[39mno such file \u001b[39m\u001b[39m{}\u001b[39;00m\u001b[39m'\u001b[39m\u001b[39m.\u001b[39mformat(\u001b[39mself\u001b[39m\u001b[39m.\u001b[39m_stan_file))\n\u001b[0;32m    <a href='file:///c%3A/Users/Agnieszka/anaconda3/envs/data-anatylics/lib/site-packages/cmdstanpy/model.py?line=142'>143</a>\u001b[0m _, filename \u001b[39m=\u001b[39m os\u001b[39m.\u001b[39mpath\u001b[39m.\u001b[39msplit(stan_file)\n\u001b[0;32m    <a href='file:///c%3A/Users/Agnieszka/anaconda3/envs/data-anatylics/lib/site-packages/cmdstanpy/model.py?line=143'>144</a>\u001b[0m \u001b[39mif\u001b[39;00m \u001b[39mlen\u001b[39m(filename) \u001b[39m<\u001b[39m \u001b[39m6\u001b[39m \u001b[39mor\u001b[39;00m \u001b[39mnot\u001b[39;00m filename\u001b[39m.\u001b[39mendswith(\u001b[39m'\u001b[39m\u001b[39m.stan\u001b[39m\u001b[39m'\u001b[39m):\n",
      "\u001b[1;31mValueError\u001b[0m: no such file C:\\Users\\Agnieszka\\Desktop\\drive\\normal_normalized_ppc.stan"
     ]
    }
   ],
   "source": [
    "normal_model1 = CmdStanModel(stan_file = 'normal_normalized_ppc.stan')\n",
    "stan_data={\"data_mu\": 0.464837, \"data_sigma\": 0.331101}\n",
    "\n",
    "# normal_model1 = CmdStanModel(stan_file = 'prior_test.stan')\n",
    "# stan_data={'N': len(california[\"Data.Rates.Property.All\"]), \"dane\": california[\"Data.Rates.Property.All\"], 'std': std_all, \"mean\": mean_all}\n",
    "\n",
    "R = 60 #bc the data has been collected for 60 years\n",
    "sim_normal_normalized = normal_model1.sample(data=stan_data, iter_sampling = R, \n",
    "                             iter_warmup = 0,\n",
    "                             chains = 1,\n",
    "                             fixed_param = True,\n",
    "                             seed = 31052022)\n",
    "# alpha_sim = sim.stan_variable('alpha')\n",
    "# beta_sim = sim.stan_variable('beta')\n",
    "mu_sim_normalized = sim_normal_normalized.stan_variable('mu')\n",
    "sigma_sim_normalized = sim_normal_normalized.stan_variable('sigma')\n",
    "prior_normalized = sim_normal_normalized.stan_variable('prior')"
   ]
  },
  {
   "cell_type": "code",
   "execution_count": null,
   "metadata": {},
   "outputs": [
    {
     "name": "stdout",
     "output_type": "stream",
     "text": [
      "[ 0.724376   0.479883   0.093856   0.389185   0.806495   0.297377\n",
      "  0.666575   0.653446   0.56602    0.388891   0.651341   1.15676\n",
      "  1.1383     0.438641   0.762034   0.252101   0.509134   0.780088\n",
      "  0.145275  -0.0709671  0.152324   0.486149   0.359199   0.665918\n",
      "  0.602149   0.366643   0.912621   0.365335   1.02096    0.291372\n",
      "  0.129879   0.900202   0.895726   0.530442   1.12114    0.895598\n",
      "  0.383841   0.285192   0.345001   0.485466   0.404344   0.346995\n",
      "  0.461897   0.781197   0.545679   0.13392    0.988358   0.934734\n",
      "  0.565522   0.383208   0.37544    0.737251   0.217094   0.587496\n",
      "  0.33526    0.698513  -0.727104   0.635334   1.14709    0.378369 ]\n"
     ]
    }
   ],
   "source": [
    "print(prior_normalized)"
   ]
  },
  {
   "cell_type": "code",
   "execution_count": null,
   "metadata": {},
   "outputs": [
    {
     "data": {
      "image/png": "[encoded data removed]",
      "text/plain": [
       "<Figure size 432x288 with 1 Axes>"
      ]
     },
     "metadata": {
      "needs_background": "light"
     },
     "output_type": "display_data"
    }
   ],
   "source": [
    "# prior.hist(column = 'Data.Rates.Property.Larceny', bins = 20)\n",
    "# np.histogram(prior, bins = 20)\n",
    "plt.hist(prior_normalized, bins=20, label= \"prior\", histtype='step')\n",
    "plt.hist(normalized_cal_lat, bins=20, label= \"actual data\", histtype='step')\n",
    "plt.legend(loc=\"upper left\")\n",
    "plt.show()"
   ]
  },
  {
   "cell_type": "code",
   "execution_count": null,
   "metadata": {},
   "outputs": [
    {
     "name": "stderr",
     "output_type": "stream",
     "text": [
      "INFO:cmdstanpy:compiling stan file C:\\Users\\Agnieszka\\Desktop\\drive\\linear_normalized_ppc.stan to exe file C:\\Users\\Agnieszka\\Desktop\\drive\\linear_normalized_ppc.exe\n",
      "INFO:cmdstanpy:compiled model executable: C:\\Users\\Agnieszka\\Desktop\\drive\\linear_normalized_ppc.exe\n",
      "WARNING:cmdstanpy:Stan compiler has produced 2 warnings:\n",
      "WARNING:cmdstanpy:\n",
      "--- Translating Stan model to C++ code ---\n",
      "bin/stanc.exe  --o=C:/Users/Agnieszka/Desktop/drive/linear_normalized_ppc.hpp C:/Users/Agnieszka/Desktop/drive/linear_normalized_ppc.stan\n",
      "Warning in 'C:/Users/Agnieszka/Desktop/drive/linear_normalized_ppc.stan', line 3, column 3: Declaration\n",
      "    of arrays by placing brackets after a variable name is deprecated and\n",
      "    will be removed in Stan 2.32.0. Instead use the array keyword before the\n",
      "    type. This can be changed automatically using the auto-format flag to\n",
      "    stanc\n",
      "Warning in 'C:/Users/Agnieszka/Desktop/drive/linear_normalized_ppc.stan', line 13, column 3: Declaration\n",
      "    of arrays by placing brackets after a variable name is deprecated and\n",
      "    will be removed in Stan 2.32.0. Instead use the array keyword before the\n",
      "    type. This can be changed automatically using the auto-format flag to\n",
      "    stanc\n",
      "\n",
      "--- Compiling, linking C++ code ---\n",
      "g++ -std=c++1y -m64 -D_REENTRANT -Wall -Wno-unused-function -Wno-uninitialized -Wno-unused-but-set-variable -Wno-unused-variable -Wno-sign-compare -Wno-unused-local-typedefs -Wno-int-in-bool-context -Wno-attributes -Wno-ignored-attributes      -I stan/lib/stan_math/lib/tbb_2020.3/include    -O3 -I src -I stan/src -I lib/rapidjson_1.1.0/ -I lib/CLI11-1.9.1/ -I stan/lib/stan_math/ -I stan/lib/stan_math/lib/eigen_3.3.9 -I stan/lib/stan_math/lib/boost_1.75.0 -I stan/lib/stan_math/lib/sundials_6.0.0/include -I stan/lib/stan_math/lib/sundials_6.0.0/src/sundials  -D_USE_MATH_DEFINES  -DBOOST_DISABLE_ASSERTS          -c  -x c++ -o C:/Users/Agnieszka/Desktop/drive/linear_normalized_ppc.o C:/Users/Agnieszka/Desktop/drive/linear_normalized_ppc.hpp\n",
      "g++ -std=c++1y -m64 -D_REENTRANT -Wall -Wno-unused-function -Wno-uninitialized -Wno-unused-but-set-variable -Wno-unused-variable -Wno-sign-compare -Wno-unused-local-typedefs -Wno-int-in-bool-context -Wno-attributes -Wno-ignored-attributes      -I stan/lib/stan_math/lib/tbb_2020.3/include    -O3 -I src -I stan/src -I lib/rapidjson_1.1.0/ -I lib/CLI11-1.9.1/ -I stan/lib/stan_math/ -I stan/lib/stan_math/lib/eigen_3.3.9 -I stan/lib/stan_math/lib/boost_1.75.0 -I stan/lib/stan_math/lib/sundials_6.0.0/include -I stan/lib/stan_math/lib/sundials_6.0.0/src/sundials  -D_USE_MATH_DEFINES  -DBOOST_DISABLE_ASSERTS                -Wl,-L,\"C:/Users/Agnieszka/anaconda3/envs/data-anatylics/Library/bin/cmdstan/stan/lib/stan_math/lib/tbb\" -Wl,-rpath,\"C:/Users/Agnieszka/anaconda3/envs/data-anatylics/Library/bin/cmdstan/stan/lib/stan_math/lib/tbb\"      C:/Users/Agnieszka/Desktop/drive/linear_normalized_ppc.o src/cmdstan/main.o  -static-libgcc -static-libstdc++      -Wl,-L,\"C:/Users/Agnieszka/anaconda3/envs/data-anatylics/Library/bin/cmdstan/stan/lib/stan_math/lib/tbb\" -Wl,-rpath,\"C:/Users/Agnieszka/anaconda3/envs/data-anatylics/Library/bin/cmdstan/stan/lib/stan_math/lib/tbb\"   stan/lib/stan_math/lib/sundials_6.0.0/lib/libsundials_nvecserial.a stan/lib/stan_math/lib/sundials_6.0.0/lib/libsundials_cvodes.a stan/lib/stan_math/lib/sundials_6.0.0/lib/libsundials_idas.a stan/lib/stan_math/lib/sundials_6.0.0/lib/libsundials_kinsol.a  stan/lib/stan_math/lib/tbb/tbb.dll -o C:/Users/Agnieszka/Desktop/drive/linear_normalized_ppc.exe\n",
      "rm -f C:/Users/Agnieszka/Desktop/drive/linear_normalized_ppc.o\n",
      "\n",
      "INFO:cmdstanpy:CmdStan start processing\n",
      "chain 1 |\u001b[34m██████████\u001b[0m| 00:00 Sampling completed"
     ]
    },
    {
     "name": "stdout",
     "output_type": "stream",
     "text": [
      "                                                                                "
     ]
    },
    {
     "name": "stderr",
     "output_type": "stream",
     "text": [
      "\n",
      "INFO:cmdstanpy:CmdStan done processing.\n"
     ]
    },
    {
     "name": "stdout",
     "output_type": "stream",
     "text": [
      "\n"
     ]
    }
   ],
   "source": [
    "linear_normalized_model = CmdStanModel(stan_file = 'linear_normalized_ppc.stan')\n",
    "stan_data={'N': len(normalized_cal_lat), \"dane\": normalized_cal_lat, 'std': 0.331101, \"mean\": 0.464837}\n",
    "\n",
    "R = 60 #bc the data has been collected for 60 years\n",
    "sim_linear_normalized = linear_normalized_model.sample(data=stan_data, iter_sampling = R, \n",
    "                             iter_warmup = 0,\n",
    "                             chains = 1,\n",
    "                             fixed_param = True,\n",
    "                             seed = 31052022)\n",
    "alpha_sim_linear = sim_linear_normalized.stan_variable('alpha')\n",
    "beta_sim_linear = sim_linear_normalized.stan_variable('beta')\n",
    "# mu_sim = sim.stan_variable('mu')\n",
    "sigma_sim_linear = sim_linear_normalized.stan_variable('sigma')\n",
    "prior_linear_normalized = sim_linear_normalized.stan_variable('prior')"
   ]
  },
  {
   "cell_type": "code",
   "execution_count": null,
   "metadata": {},
   "outputs": [
    {
     "data": {
      "image/png": "[encoded data removed]",
      "text/plain": [
       "<Figure size 432x288 with 1 Axes>"
      ]
     },
     "metadata": {
      "needs_background": "light"
     },
     "output_type": "display_data"
    }
   ],
   "source": [
    "# prior.hist(column = 'Data.Rates.Property.Larceny', bins = 20)\n",
    "# np.histogram(prior, bins = 20)\n",
    "plt.hist(prior_linear_normalized[:,1], bins=20, label= \"prior\", histtype='step')\n",
    "plt.hist(normalized_cal_lat, bins=20, label= \"actual data\", histtype='step')\n",
    "plt.legend(loc=\"upper left\")\n",
    "plt.show()"
   ]
  },
  {
   "cell_type": "markdown",
   "metadata": {},
   "source": [
    "## POSTERIOR PREDICTIVE"
   ]
  },
  {
   "cell_type": "code",
   "execution_count": null,
   "metadata": {},
   "outputs": [],
   "source": []
  }
 ],
 "metadata": {
  "interpreter": {
   "hash": "3daf6c350f2a0ede664192fc5f83250b54ba88dd11a44229b323659fc71bf29b"
  },
  "kernelspec": {
   "display_name": "Python 3 (ipykernel)",
   "language": "python",
   "name": "python3"
  },
  "language_info": {
   "codemirror_mode": {
    "name": "ipython",
    "version": 3
   },
   "file_extension": ".py",
   "mimetype": "text/x-python",
   "name": "python",
   "nbconvert_exporter": "python",
   "pygments_lexer": "ipython3",
   "version": "3.9.10"
  }
 },
 "nbformat": 4,
 "nbformat_minor": 2
}
