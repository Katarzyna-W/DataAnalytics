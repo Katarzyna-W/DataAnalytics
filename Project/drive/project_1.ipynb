{
 "cells": [
  {
   "cell_type": "markdown",
   "metadata": {},
   "source": [
    "## PROJECT - STATE CRIME STATISTICS"
   ]
  },
  {
   "cell_type": "code",
   "execution_count": 1,
   "metadata": {},
   "outputs": [],
   "source": [
    "import pandas as pd\n",
    "import numpy as np\n",
    "import seaborn as sns\n",
    "import matplotlib.pyplot as plt\n",
    "from cmdstanpy import CmdStanModel\n",
    "import scipy.stats as stats\n",
    "import arviz as az"
   ]
  },
  {
   "cell_type": "code",
   "execution_count": 2,
   "metadata": {},
   "outputs": [
    {
     "data": {
      "text/html": [
       "<div>\n",
       "<style scoped>\n",
       "    .dataframe tbody tr th:only-of-type {\n",
       "        vertical-align: middle;\n",
       "    }\n",
       "\n",
       "    .dataframe tbody tr th {\n",
       "        vertical-align: top;\n",
       "    }\n",
       "\n",
       "    .dataframe thead th {\n",
       "        text-align: right;\n",
       "    }\n",
       "</style>\n",
       "<table border=\"1\" class=\"dataframe\">\n",
       "  <thead>\n",
       "    <tr style=\"text-align: right;\">\n",
       "      <th></th>\n",
       "      <th>State</th>\n",
       "      <th>Year</th>\n",
       "      <th>Data.Population</th>\n",
       "      <th>Data.Rates.Property.All</th>\n",
       "      <th>Data.Rates.Property.Burglary</th>\n",
       "      <th>Data.Rates.Property.Larceny</th>\n",
       "      <th>Data.Rates.Property.Motor</th>\n",
       "      <th>Data.Rates.Violent.All</th>\n",
       "      <th>Data.Rates.Violent.Assault</th>\n",
       "      <th>Data.Rates.Violent.Murder</th>\n",
       "      <th>...</th>\n",
       "      <th>Data.Rates.Violent.Robbery</th>\n",
       "      <th>Data.Totals.Property.All</th>\n",
       "      <th>Data.Totals.Property.Burglary</th>\n",
       "      <th>Data.Totals.Property.Larceny</th>\n",
       "      <th>Data.Totals.Property.Motor</th>\n",
       "      <th>Data.Totals.Violent.All</th>\n",
       "      <th>Data.Totals.Violent.Assault</th>\n",
       "      <th>Data.Totals.Violent.Murder</th>\n",
       "      <th>Data.Totals.Violent.Rape</th>\n",
       "      <th>Data.Totals.Violent.Robbery</th>\n",
       "    </tr>\n",
       "  </thead>\n",
       "  <tbody>\n",
       "    <tr>\n",
       "      <th>0</th>\n",
       "      <td>Alabama</td>\n",
       "      <td>1960</td>\n",
       "      <td>3266740</td>\n",
       "      <td>1035.4</td>\n",
       "      <td>355.9</td>\n",
       "      <td>592.1</td>\n",
       "      <td>87.3</td>\n",
       "      <td>186.6</td>\n",
       "      <td>138.1</td>\n",
       "      <td>12.4</td>\n",
       "      <td>...</td>\n",
       "      <td>27.5</td>\n",
       "      <td>33823</td>\n",
       "      <td>11626</td>\n",
       "      <td>19344</td>\n",
       "      <td>2853</td>\n",
       "      <td>6097</td>\n",
       "      <td>4512</td>\n",
       "      <td>406</td>\n",
       "      <td>281</td>\n",
       "      <td>898</td>\n",
       "    </tr>\n",
       "    <tr>\n",
       "      <th>1</th>\n",
       "      <td>Alabama</td>\n",
       "      <td>1961</td>\n",
       "      <td>3302000</td>\n",
       "      <td>985.5</td>\n",
       "      <td>339.3</td>\n",
       "      <td>569.4</td>\n",
       "      <td>76.8</td>\n",
       "      <td>168.5</td>\n",
       "      <td>128.9</td>\n",
       "      <td>12.9</td>\n",
       "      <td>...</td>\n",
       "      <td>19.1</td>\n",
       "      <td>32541</td>\n",
       "      <td>11205</td>\n",
       "      <td>18801</td>\n",
       "      <td>2535</td>\n",
       "      <td>5564</td>\n",
       "      <td>4255</td>\n",
       "      <td>427</td>\n",
       "      <td>252</td>\n",
       "      <td>630</td>\n",
       "    </tr>\n",
       "    <tr>\n",
       "      <th>2</th>\n",
       "      <td>Alabama</td>\n",
       "      <td>1962</td>\n",
       "      <td>3358000</td>\n",
       "      <td>1067.0</td>\n",
       "      <td>349.1</td>\n",
       "      <td>634.5</td>\n",
       "      <td>83.4</td>\n",
       "      <td>157.3</td>\n",
       "      <td>119.0</td>\n",
       "      <td>9.4</td>\n",
       "      <td>...</td>\n",
       "      <td>22.5</td>\n",
       "      <td>35829</td>\n",
       "      <td>11722</td>\n",
       "      <td>21306</td>\n",
       "      <td>2801</td>\n",
       "      <td>5283</td>\n",
       "      <td>3995</td>\n",
       "      <td>316</td>\n",
       "      <td>218</td>\n",
       "      <td>754</td>\n",
       "    </tr>\n",
       "    <tr>\n",
       "      <th>3</th>\n",
       "      <td>Alabama</td>\n",
       "      <td>1963</td>\n",
       "      <td>3347000</td>\n",
       "      <td>1150.9</td>\n",
       "      <td>376.9</td>\n",
       "      <td>683.4</td>\n",
       "      <td>90.6</td>\n",
       "      <td>182.7</td>\n",
       "      <td>142.1</td>\n",
       "      <td>10.2</td>\n",
       "      <td>...</td>\n",
       "      <td>24.7</td>\n",
       "      <td>38521</td>\n",
       "      <td>12614</td>\n",
       "      <td>22874</td>\n",
       "      <td>3033</td>\n",
       "      <td>6115</td>\n",
       "      <td>4755</td>\n",
       "      <td>340</td>\n",
       "      <td>192</td>\n",
       "      <td>828</td>\n",
       "    </tr>\n",
       "    <tr>\n",
       "      <th>4</th>\n",
       "      <td>Alabama</td>\n",
       "      <td>1964</td>\n",
       "      <td>3407000</td>\n",
       "      <td>1358.7</td>\n",
       "      <td>466.6</td>\n",
       "      <td>784.1</td>\n",
       "      <td>108.0</td>\n",
       "      <td>213.1</td>\n",
       "      <td>163.0</td>\n",
       "      <td>9.3</td>\n",
       "      <td>...</td>\n",
       "      <td>29.1</td>\n",
       "      <td>46290</td>\n",
       "      <td>15898</td>\n",
       "      <td>26713</td>\n",
       "      <td>3679</td>\n",
       "      <td>7260</td>\n",
       "      <td>5555</td>\n",
       "      <td>316</td>\n",
       "      <td>397</td>\n",
       "      <td>992</td>\n",
       "    </tr>\n",
       "  </tbody>\n",
       "</table>\n",
       "<p>5 rows × 21 columns</p>\n",
       "</div>"
      ],
      "text/plain": [
       "     State  Year  Data.Population  Data.Rates.Property.All  \\\n",
       "0  Alabama  1960          3266740                   1035.4   \n",
       "1  Alabama  1961          3302000                    985.5   \n",
       "2  Alabama  1962          3358000                   1067.0   \n",
       "3  Alabama  1963          3347000                   1150.9   \n",
       "4  Alabama  1964          3407000                   1358.7   \n",
       "\n",
       "   Data.Rates.Property.Burglary  Data.Rates.Property.Larceny  \\\n",
       "0                         355.9                        592.1   \n",
       "1                         339.3                        569.4   \n",
       "2                         349.1                        634.5   \n",
       "3                         376.9                        683.4   \n",
       "4                         466.6                        784.1   \n",
       "\n",
       "   Data.Rates.Property.Motor  Data.Rates.Violent.All  \\\n",
       "0                       87.3                   186.6   \n",
       "1                       76.8                   168.5   \n",
       "2                       83.4                   157.3   \n",
       "3                       90.6                   182.7   \n",
       "4                      108.0                   213.1   \n",
       "\n",
       "   Data.Rates.Violent.Assault  Data.Rates.Violent.Murder  ...  \\\n",
       "0                       138.1                       12.4  ...   \n",
       "1                       128.9                       12.9  ...   \n",
       "2                       119.0                        9.4  ...   \n",
       "3                       142.1                       10.2  ...   \n",
       "4                       163.0                        9.3  ...   \n",
       "\n",
       "   Data.Rates.Violent.Robbery  Data.Totals.Property.All  \\\n",
       "0                        27.5                     33823   \n",
       "1                        19.1                     32541   \n",
       "2                        22.5                     35829   \n",
       "3                        24.7                     38521   \n",
       "4                        29.1                     46290   \n",
       "\n",
       "   Data.Totals.Property.Burglary  Data.Totals.Property.Larceny  \\\n",
       "0                          11626                         19344   \n",
       "1                          11205                         18801   \n",
       "2                          11722                         21306   \n",
       "3                          12614                         22874   \n",
       "4                          15898                         26713   \n",
       "\n",
       "   Data.Totals.Property.Motor  Data.Totals.Violent.All  \\\n",
       "0                        2853                     6097   \n",
       "1                        2535                     5564   \n",
       "2                        2801                     5283   \n",
       "3                        3033                     6115   \n",
       "4                        3679                     7260   \n",
       "\n",
       "   Data.Totals.Violent.Assault  Data.Totals.Violent.Murder  \\\n",
       "0                         4512                         406   \n",
       "1                         4255                         427   \n",
       "2                         3995                         316   \n",
       "3                         4755                         340   \n",
       "4                         5555                         316   \n",
       "\n",
       "   Data.Totals.Violent.Rape  Data.Totals.Violent.Robbery  \n",
       "0                       281                          898  \n",
       "1                       252                          630  \n",
       "2                       218                          754  \n",
       "3                       192                          828  \n",
       "4                       397                          992  \n",
       "\n",
       "[5 rows x 21 columns]"
      ]
     },
     "execution_count": 2,
     "metadata": {},
     "output_type": "execute_result"
    }
   ],
   "source": [
    "df = pd.read_csv(\"state_crime.csv\")\n",
    "df.head()"
   ]
  },
  {
   "cell_type": "code",
   "execution_count": 3,
   "metadata": {},
   "outputs": [
    {
     "data": {
      "text/plain": [
       "Index(['State', 'Year', 'Data.Population', 'Data.Rates.Property.All',\n",
       "       'Data.Rates.Property.Burglary', 'Data.Rates.Property.Larceny',\n",
       "       'Data.Rates.Property.Motor', 'Data.Rates.Violent.All',\n",
       "       'Data.Rates.Violent.Assault', 'Data.Rates.Violent.Murder',\n",
       "       'Data.Rates.Violent.Rape', 'Data.Rates.Violent.Robbery',\n",
       "       'Data.Totals.Property.All', 'Data.Totals.Property.Burglary',\n",
       "       'Data.Totals.Property.Larceny', 'Data.Totals.Property.Motor',\n",
       "       'Data.Totals.Violent.All', 'Data.Totals.Violent.Assault',\n",
       "       'Data.Totals.Violent.Murder', 'Data.Totals.Violent.Rape',\n",
       "       'Data.Totals.Violent.Robbery'],\n",
       "      dtype='object')"
      ]
     },
     "execution_count": 3,
     "metadata": {},
     "output_type": "execute_result"
    }
   ],
   "source": [
    "df.columns"
   ]
  },
  {
   "cell_type": "code",
   "execution_count": 4,
   "metadata": {
    "scrolled": true
   },
   "outputs": [
    {
     "name": "stderr",
     "output_type": "stream",
     "text": [
      "C:\\Users\\Agnieszka\\AppData\\Local\\Temp\\ipykernel_12440\\2898082888.py:4: SettingWithCopyWarning: \n",
      "A value is trying to be set on a copy of a slice from a DataFrame\n",
      "\n",
      "See the caveats in the documentation: https://pandas.pydata.org/pandas-docs/stable/user_guide/indexing.html#returning-a-view-versus-a-copy\n",
      "  df['Data.Rates.Property.All'][i] =  df['Data.Rates.Property.Burglary'][i]\n",
      "C:\\Users\\Agnieszka\\AppData\\Local\\Temp\\ipykernel_12440\\2898082888.py:5: SettingWithCopyWarning: \n",
      "A value is trying to be set on a copy of a slice from a DataFrame\n",
      "\n",
      "See the caveats in the documentation: https://pandas.pydata.org/pandas-docs/stable/user_guide/indexing.html#returning-a-view-versus-a-copy\n",
      "  df['Data.Rates.Property.Burglary'][i] = x\n",
      "C:\\Users\\Agnieszka\\AppData\\Local\\Temp\\ipykernel_12440\\2898082888.py:8: SettingWithCopyWarning: \n",
      "A value is trying to be set on a copy of a slice from a DataFrame\n",
      "\n",
      "See the caveats in the documentation: https://pandas.pydata.org/pandas-docs/stable/user_guide/indexing.html#returning-a-view-versus-a-copy\n",
      "  df['Data.Rates.Property.Larceny'][i] =  df['Data.Rates.Property.Motor'][i]\n",
      "C:\\Users\\Agnieszka\\AppData\\Local\\Temp\\ipykernel_12440\\2898082888.py:9: SettingWithCopyWarning: \n",
      "A value is trying to be set on a copy of a slice from a DataFrame\n",
      "\n",
      "See the caveats in the documentation: https://pandas.pydata.org/pandas-docs/stable/user_guide/indexing.html#returning-a-view-versus-a-copy\n",
      "  df['Data.Rates.Property.Motor'][i] = y\n",
      "C:\\Users\\Agnieszka\\AppData\\Local\\Temp\\ipykernel_12440\\2898082888.py:12: SettingWithCopyWarning: \n",
      "A value is trying to be set on a copy of a slice from a DataFrame\n",
      "\n",
      "See the caveats in the documentation: https://pandas.pydata.org/pandas-docs/stable/user_guide/indexing.html#returning-a-view-versus-a-copy\n",
      "  df['Data.Rates.Property.Burglary'][i] =  df['Data.Rates.Property.Motor'][i]\n",
      "C:\\Users\\Agnieszka\\AppData\\Local\\Temp\\ipykernel_12440\\2898082888.py:13: SettingWithCopyWarning: \n",
      "A value is trying to be set on a copy of a slice from a DataFrame\n",
      "\n",
      "See the caveats in the documentation: https://pandas.pydata.org/pandas-docs/stable/user_guide/indexing.html#returning-a-view-versus-a-copy\n",
      "  df['Data.Rates.Property.Motor'][i] = z\n"
     ]
    }
   ],
   "source": [
    "for i in range(0, len(df)):\n",
    "    if df['Data.Rates.Property.All'][i] <  df['Data.Rates.Property.Burglary'][i]:\n",
    "        x = df['Data.Rates.Property.All'][i]\n",
    "        df['Data.Rates.Property.All'][i] =  df['Data.Rates.Property.Burglary'][i]\n",
    "        df['Data.Rates.Property.Burglary'][i] = x\n",
    "    if df['Data.Rates.Property.Larceny'][i] <  df['Data.Rates.Property.Motor'][i]:\n",
    "        y = df['Data.Rates.Property.Larceny'][i]\n",
    "        df['Data.Rates.Property.Larceny'][i] =  df['Data.Rates.Property.Motor'][i]\n",
    "        df['Data.Rates.Property.Motor'][i] = y\n",
    "    if df['Data.Rates.Property.Burglary'][i] <  df['Data.Rates.Property.Motor'][i]:\n",
    "        z = df['Data.Rates.Property.Burglary'][i]\n",
    "        df['Data.Rates.Property.Burglary'][i] =  df['Data.Rates.Property.Motor'][i]\n",
    "        df['Data.Rates.Property.Motor'][i] = z\n",
    "\n",
    "# for j in range(0, len(df)):       \n",
    "#     if df['Data.Rates.Property.Larceny'][j] <  df['Data.Rates.Property.Motor'][j]:\n",
    "#         y = df['Data.Rates.Property.Larceny'][j]\n",
    "#         df['Data.Rates.Property.Larceny'][j] =  df['Data.Rates.Property.Motor'][j]\n",
    "#         df['Data.Rates.Property.Motor'][j] = y "
   ]
  },
  {
   "cell_type": "code",
   "execution_count": 5,
   "metadata": {},
   "outputs": [
    {
     "data": {
      "text/html": [
       "<div>\n",
       "<style scoped>\n",
       "    .dataframe tbody tr th:only-of-type {\n",
       "        vertical-align: middle;\n",
       "    }\n",
       "\n",
       "    .dataframe tbody tr th {\n",
       "        vertical-align: top;\n",
       "    }\n",
       "\n",
       "    .dataframe thead th {\n",
       "        text-align: right;\n",
       "    }\n",
       "</style>\n",
       "<table border=\"1\" class=\"dataframe\">\n",
       "  <thead>\n",
       "    <tr style=\"text-align: right;\">\n",
       "      <th></th>\n",
       "      <th>State</th>\n",
       "      <th>Year</th>\n",
       "      <th>Data.Population</th>\n",
       "      <th>Data.Rates.Property.All</th>\n",
       "      <th>Data.Rates.Property.Burglary</th>\n",
       "      <th>Data.Rates.Property.Larceny</th>\n",
       "      <th>Data.Rates.Property.Motor</th>\n",
       "      <th>Data.Rates.Violent.All</th>\n",
       "      <th>Data.Rates.Violent.Assault</th>\n",
       "      <th>Data.Rates.Violent.Murder</th>\n",
       "      <th>...</th>\n",
       "      <th>Data.Rates.Violent.Robbery</th>\n",
       "      <th>Data.Totals.Property.All</th>\n",
       "      <th>Data.Totals.Property.Burglary</th>\n",
       "      <th>Data.Totals.Property.Larceny</th>\n",
       "      <th>Data.Totals.Property.Motor</th>\n",
       "      <th>Data.Totals.Violent.All</th>\n",
       "      <th>Data.Totals.Violent.Assault</th>\n",
       "      <th>Data.Totals.Violent.Murder</th>\n",
       "      <th>Data.Totals.Violent.Rape</th>\n",
       "      <th>Data.Totals.Violent.Robbery</th>\n",
       "    </tr>\n",
       "  </thead>\n",
       "  <tbody>\n",
       "    <tr>\n",
       "      <th>51</th>\n",
       "      <td>Alabama</td>\n",
       "      <td>2011</td>\n",
       "      <td>4803689</td>\n",
       "      <td>3605.4</td>\n",
       "      <td>1064.2</td>\n",
       "      <td>2314.9</td>\n",
       "      <td>222.0</td>\n",
       "      <td>419.8</td>\n",
       "      <td>282.9</td>\n",
       "      <td>6.2</td>\n",
       "      <td>...</td>\n",
       "      <td>102.1</td>\n",
       "      <td>173192</td>\n",
       "      <td>51119</td>\n",
       "      <td>111411</td>\n",
       "      <td>10662</td>\n",
       "      <td>20166</td>\n",
       "      <td>13591</td>\n",
       "      <td>299</td>\n",
       "      <td>1370</td>\n",
       "      <td>4906</td>\n",
       "    </tr>\n",
       "    <tr>\n",
       "      <th>52</th>\n",
       "      <td>Alabama</td>\n",
       "      <td>2012</td>\n",
       "      <td>4822023</td>\n",
       "      <td>3502.2</td>\n",
       "      <td>984.7</td>\n",
       "      <td>2312.8</td>\n",
       "      <td>204.8</td>\n",
       "      <td>449.9</td>\n",
       "      <td>311.8</td>\n",
       "      <td>7.1</td>\n",
       "      <td>...</td>\n",
       "      <td>104.1</td>\n",
       "      <td>168878</td>\n",
       "      <td>47481</td>\n",
       "      <td>111523</td>\n",
       "      <td>9874</td>\n",
       "      <td>21693</td>\n",
       "      <td>15035</td>\n",
       "      <td>342</td>\n",
       "      <td>1296</td>\n",
       "      <td>5020</td>\n",
       "    </tr>\n",
       "    <tr>\n",
       "      <th>53</th>\n",
       "      <td>Alabama</td>\n",
       "      <td>2013</td>\n",
       "      <td>4833722</td>\n",
       "      <td>3351.3</td>\n",
       "      <td>877.8</td>\n",
       "      <td>2254.8</td>\n",
       "      <td>285.2</td>\n",
       "      <td>430.8</td>\n",
       "      <td>96.2</td>\n",
       "      <td>7.2</td>\n",
       "      <td>...</td>\n",
       "      <td>29.5</td>\n",
       "      <td>13787</td>\n",
       "      <td>161993</td>\n",
       "      <td>42429</td>\n",
       "      <td>108993</td>\n",
       "      <td>20826</td>\n",
       "      <td>4648</td>\n",
       "      <td>347</td>\n",
       "      <td>2044</td>\n",
       "      <td>1428</td>\n",
       "    </tr>\n",
       "    <tr>\n",
       "      <th>54</th>\n",
       "      <td>Alabama</td>\n",
       "      <td>2014</td>\n",
       "      <td>4849377</td>\n",
       "      <td>3177.6</td>\n",
       "      <td>819.0</td>\n",
       "      <td>2149.5</td>\n",
       "      <td>283.4</td>\n",
       "      <td>427.4</td>\n",
       "      <td>96.9</td>\n",
       "      <td>5.7</td>\n",
       "      <td>...</td>\n",
       "      <td>29.6</td>\n",
       "      <td>13745</td>\n",
       "      <td>154094</td>\n",
       "      <td>39715</td>\n",
       "      <td>104238</td>\n",
       "      <td>20727</td>\n",
       "      <td>4701</td>\n",
       "      <td>276</td>\n",
       "      <td>2005</td>\n",
       "      <td>1436</td>\n",
       "    </tr>\n",
       "    <tr>\n",
       "      <th>55</th>\n",
       "      <td>Alabama</td>\n",
       "      <td>2015</td>\n",
       "      <td>4858979</td>\n",
       "      <td>2978.9</td>\n",
       "      <td>725.6</td>\n",
       "      <td>2040.7</td>\n",
       "      <td>328.3</td>\n",
       "      <td>472.4</td>\n",
       "      <td>94.9</td>\n",
       "      <td>7.2</td>\n",
       "      <td>...</td>\n",
       "      <td>30.0</td>\n",
       "      <td>15954</td>\n",
       "      <td>144746</td>\n",
       "      <td>35255</td>\n",
       "      <td>99156</td>\n",
       "      <td>22952</td>\n",
       "      <td>4611</td>\n",
       "      <td>348</td>\n",
       "      <td>2039</td>\n",
       "      <td>1456</td>\n",
       "    </tr>\n",
       "    <tr>\n",
       "      <th>...</th>\n",
       "      <td>...</td>\n",
       "      <td>...</td>\n",
       "      <td>...</td>\n",
       "      <td>...</td>\n",
       "      <td>...</td>\n",
       "      <td>...</td>\n",
       "      <td>...</td>\n",
       "      <td>...</td>\n",
       "      <td>...</td>\n",
       "      <td>...</td>\n",
       "      <td>...</td>\n",
       "      <td>...</td>\n",
       "      <td>...</td>\n",
       "      <td>...</td>\n",
       "      <td>...</td>\n",
       "      <td>...</td>\n",
       "      <td>...</td>\n",
       "      <td>...</td>\n",
       "      <td>...</td>\n",
       "      <td>...</td>\n",
       "      <td>...</td>\n",
       "    </tr>\n",
       "    <tr>\n",
       "      <th>3110</th>\n",
       "      <td>Wyoming</td>\n",
       "      <td>2015</td>\n",
       "      <td>586107</td>\n",
       "      <td>1902.6</td>\n",
       "      <td>300.6</td>\n",
       "      <td>1500.9</td>\n",
       "      <td>179.8</td>\n",
       "      <td>222.1</td>\n",
       "      <td>10.1</td>\n",
       "      <td>2.7</td>\n",
       "      <td>...</td>\n",
       "      <td>21.3</td>\n",
       "      <td>1054</td>\n",
       "      <td>11151</td>\n",
       "      <td>1762</td>\n",
       "      <td>8797</td>\n",
       "      <td>1302</td>\n",
       "      <td>59</td>\n",
       "      <td>16</td>\n",
       "      <td>173</td>\n",
       "      <td>125</td>\n",
       "    </tr>\n",
       "    <tr>\n",
       "      <th>3111</th>\n",
       "      <td>Wyoming</td>\n",
       "      <td>2016</td>\n",
       "      <td>585501</td>\n",
       "      <td>1957.3</td>\n",
       "      <td>302.5</td>\n",
       "      <td>1518.2</td>\n",
       "      <td>136.6</td>\n",
       "      <td>244.2</td>\n",
       "      <td>195.7</td>\n",
       "      <td>3.4</td>\n",
       "      <td>...</td>\n",
       "      <td>10.1</td>\n",
       "      <td>11460</td>\n",
       "      <td>1771</td>\n",
       "      <td>8889</td>\n",
       "      <td>800</td>\n",
       "      <td>1430</td>\n",
       "      <td>1146</td>\n",
       "      <td>20</td>\n",
       "      <td>205</td>\n",
       "      <td>59</td>\n",
       "    </tr>\n",
       "    <tr>\n",
       "      <th>3112</th>\n",
       "      <td>Wyoming</td>\n",
       "      <td>2017</td>\n",
       "      <td>579315</td>\n",
       "      <td>1830.4</td>\n",
       "      <td>275.0</td>\n",
       "      <td>1421.0</td>\n",
       "      <td>134.5</td>\n",
       "      <td>237.5</td>\n",
       "      <td>176.4</td>\n",
       "      <td>2.6</td>\n",
       "      <td>...</td>\n",
       "      <td>13.1</td>\n",
       "      <td>10604</td>\n",
       "      <td>1593</td>\n",
       "      <td>8232</td>\n",
       "      <td>779</td>\n",
       "      <td>1376</td>\n",
       "      <td>1022</td>\n",
       "      <td>15</td>\n",
       "      <td>263</td>\n",
       "      <td>76</td>\n",
       "    </tr>\n",
       "    <tr>\n",
       "      <th>3113</th>\n",
       "      <td>Wyoming</td>\n",
       "      <td>2018</td>\n",
       "      <td>577737</td>\n",
       "      <td>1785.1</td>\n",
       "      <td>264.0</td>\n",
       "      <td>1375.9</td>\n",
       "      <td>145.2</td>\n",
       "      <td>212.2</td>\n",
       "      <td>150.6</td>\n",
       "      <td>2.3</td>\n",
       "      <td>...</td>\n",
       "      <td>17.3</td>\n",
       "      <td>10313</td>\n",
       "      <td>1525</td>\n",
       "      <td>7949</td>\n",
       "      <td>839</td>\n",
       "      <td>1226</td>\n",
       "      <td>870</td>\n",
       "      <td>13</td>\n",
       "      <td>243</td>\n",
       "      <td>100</td>\n",
       "    </tr>\n",
       "    <tr>\n",
       "      <th>3114</th>\n",
       "      <td>Wyoming</td>\n",
       "      <td>2019</td>\n",
       "      <td>578759</td>\n",
       "      <td>1571.1</td>\n",
       "      <td>241.2</td>\n",
       "      <td>1206.7</td>\n",
       "      <td>123.2</td>\n",
       "      <td>217.4</td>\n",
       "      <td>147.6</td>\n",
       "      <td>2.2</td>\n",
       "      <td>...</td>\n",
       "      <td>11.6</td>\n",
       "      <td>9093</td>\n",
       "      <td>1396</td>\n",
       "      <td>6984</td>\n",
       "      <td>713</td>\n",
       "      <td>1258</td>\n",
       "      <td>854</td>\n",
       "      <td>13</td>\n",
       "      <td>324</td>\n",
       "      <td>67</td>\n",
       "    </tr>\n",
       "  </tbody>\n",
       "</table>\n",
       "<p>468 rows × 21 columns</p>\n",
       "</div>"
      ],
      "text/plain": [
       "        State  Year  Data.Population  Data.Rates.Property.All  \\\n",
       "51    Alabama  2011          4803689                   3605.4   \n",
       "52    Alabama  2012          4822023                   3502.2   \n",
       "53    Alabama  2013          4833722                   3351.3   \n",
       "54    Alabama  2014          4849377                   3177.6   \n",
       "55    Alabama  2015          4858979                   2978.9   \n",
       "...       ...   ...              ...                      ...   \n",
       "3110  Wyoming  2015           586107                   1902.6   \n",
       "3111  Wyoming  2016           585501                   1957.3   \n",
       "3112  Wyoming  2017           579315                   1830.4   \n",
       "3113  Wyoming  2018           577737                   1785.1   \n",
       "3114  Wyoming  2019           578759                   1571.1   \n",
       "\n",
       "      Data.Rates.Property.Burglary  Data.Rates.Property.Larceny  \\\n",
       "51                          1064.2                       2314.9   \n",
       "52                           984.7                       2312.8   \n",
       "53                           877.8                       2254.8   \n",
       "54                           819.0                       2149.5   \n",
       "55                           725.6                       2040.7   \n",
       "...                            ...                          ...   \n",
       "3110                         300.6                       1500.9   \n",
       "3111                         302.5                       1518.2   \n",
       "3112                         275.0                       1421.0   \n",
       "3113                         264.0                       1375.9   \n",
       "3114                         241.2                       1206.7   \n",
       "\n",
       "      Data.Rates.Property.Motor  Data.Rates.Violent.All  \\\n",
       "51                        222.0                   419.8   \n",
       "52                        204.8                   449.9   \n",
       "53                        285.2                   430.8   \n",
       "54                        283.4                   427.4   \n",
       "55                        328.3                   472.4   \n",
       "...                         ...                     ...   \n",
       "3110                      179.8                   222.1   \n",
       "3111                      136.6                   244.2   \n",
       "3112                      134.5                   237.5   \n",
       "3113                      145.2                   212.2   \n",
       "3114                      123.2                   217.4   \n",
       "\n",
       "      Data.Rates.Violent.Assault  Data.Rates.Violent.Murder  ...  \\\n",
       "51                         282.9                        6.2  ...   \n",
       "52                         311.8                        7.1  ...   \n",
       "53                          96.2                        7.2  ...   \n",
       "54                          96.9                        5.7  ...   \n",
       "55                          94.9                        7.2  ...   \n",
       "...                          ...                        ...  ...   \n",
       "3110                        10.1                        2.7  ...   \n",
       "3111                       195.7                        3.4  ...   \n",
       "3112                       176.4                        2.6  ...   \n",
       "3113                       150.6                        2.3  ...   \n",
       "3114                       147.6                        2.2  ...   \n",
       "\n",
       "      Data.Rates.Violent.Robbery  Data.Totals.Property.All  \\\n",
       "51                         102.1                    173192   \n",
       "52                         104.1                    168878   \n",
       "53                          29.5                     13787   \n",
       "54                          29.6                     13745   \n",
       "55                          30.0                     15954   \n",
       "...                          ...                       ...   \n",
       "3110                        21.3                      1054   \n",
       "3111                        10.1                     11460   \n",
       "3112                        13.1                     10604   \n",
       "3113                        17.3                     10313   \n",
       "3114                        11.6                      9093   \n",
       "\n",
       "      Data.Totals.Property.Burglary  Data.Totals.Property.Larceny  \\\n",
       "51                            51119                        111411   \n",
       "52                            47481                        111523   \n",
       "53                           161993                         42429   \n",
       "54                           154094                         39715   \n",
       "55                           144746                         35255   \n",
       "...                             ...                           ...   \n",
       "3110                          11151                          1762   \n",
       "3111                           1771                          8889   \n",
       "3112                           1593                          8232   \n",
       "3113                           1525                          7949   \n",
       "3114                           1396                          6984   \n",
       "\n",
       "      Data.Totals.Property.Motor  Data.Totals.Violent.All  \\\n",
       "51                         10662                    20166   \n",
       "52                          9874                    21693   \n",
       "53                        108993                    20826   \n",
       "54                        104238                    20727   \n",
       "55                         99156                    22952   \n",
       "...                          ...                      ...   \n",
       "3110                        8797                     1302   \n",
       "3111                         800                     1430   \n",
       "3112                         779                     1376   \n",
       "3113                         839                     1226   \n",
       "3114                         713                     1258   \n",
       "\n",
       "      Data.Totals.Violent.Assault  Data.Totals.Violent.Murder  \\\n",
       "51                          13591                         299   \n",
       "52                          15035                         342   \n",
       "53                           4648                         347   \n",
       "54                           4701                         276   \n",
       "55                           4611                         348   \n",
       "...                           ...                         ...   \n",
       "3110                           59                          16   \n",
       "3111                         1146                          20   \n",
       "3112                         1022                          15   \n",
       "3113                          870                          13   \n",
       "3114                          854                          13   \n",
       "\n",
       "      Data.Totals.Violent.Rape  Data.Totals.Violent.Robbery  \n",
       "51                        1370                         4906  \n",
       "52                        1296                         5020  \n",
       "53                        2044                         1428  \n",
       "54                        2005                         1436  \n",
       "55                        2039                         1456  \n",
       "...                        ...                          ...  \n",
       "3110                       173                          125  \n",
       "3111                       205                           59  \n",
       "3112                       263                           76  \n",
       "3113                       243                          100  \n",
       "3114                       324                           67  \n",
       "\n",
       "[468 rows x 21 columns]"
      ]
     },
     "execution_count": 5,
     "metadata": {},
     "output_type": "execute_result"
    }
   ],
   "source": [
    "df.loc[df['Year'] > 2010]"
   ]
  },
  {
   "cell_type": "code",
   "execution_count": 6,
   "metadata": {},
   "outputs": [],
   "source": [
    "california = df[df[\"State\"] == \"California\"]"
   ]
  },
  {
   "cell_type": "code",
   "execution_count": 33,
   "metadata": {},
   "outputs": [
    {
     "name": "stdout",
     "output_type": "stream",
     "text": [
      "6939.5\n",
      "\n",
      "\n",
      "\n",
      "\n",
      "\n",
      "\n",
      "\n",
      "\n",
      "\n",
      "\n",
      "\n",
      "\n",
      "\n",
      "\n",
      "\n",
      "\n",
      "\n",
      "\n",
      "\n",
      "\n",
      "\n",
      "\n",
      "\n",
      "\n",
      "\n",
      "\n",
      "\n",
      "\n",
      "\n",
      "\n",
      "\n",
      "\n",
      "\n",
      "\n",
      "\n",
      "\n",
      "\n",
      "\n",
      "\n",
      "\n",
      "\n",
      "\n",
      "\n",
      "\n",
      "\n",
      "\n",
      "\n",
      "\n",
      "\n",
      "\n",
      "\n",
      "\n",
      "\n",
      "\n",
      "\n",
      "\n",
      "\n",
      "\n",
      "\n",
      "\n"
     ]
    }
   ],
   "source": [
    "# NORMALIZATION\n",
    "cal_max = california['Data.Rates.Property.All'].max()\n",
    "for j in range(0, len(california)):\n",
    "    print()"
   ]
  },
  {
   "cell_type": "code",
   "execution_count": 7,
   "metadata": {},
   "outputs": [],
   "source": [
    "# california.head(60)"
   ]
  },
  {
   "cell_type": "markdown",
   "metadata": {},
   "source": [
    "# Correct the data -> guess which data come from which column - to delete/modify later"
   ]
  },
  {
   "cell_type": "code",
   "execution_count": 8,
   "metadata": {
    "collapsed": true
   },
   "outputs": [
    {
     "data": {
      "text/plain": [
       "<matplotlib.legend.Legend at 0x27d946bb310>"
      ]
     },
     "execution_count": 8,
     "metadata": {},
     "output_type": "execute_result"
    },
    {
     "data": {
      "image/png": "[encoded data removed]",
      "text/plain": [
       "<Figure size 432x288 with 1 Axes>"
      ]
     },
     "metadata": {
      "needs_background": "light"
     },
     "output_type": "display_data"
    }
   ],
   "source": [
    "#sns.scatterplot(data=california, x = 'Year', y = 'Data.Population', hue = 'State')\n",
    "fig,ax = plt.subplots()\n",
    "\n",
    "# ax.scatter(data=california, x = 'Year', y = 'Data.Population')\n",
    "# ax.scatter(data=california, x = 'Year', y = 'Data.Rates.Property.All')\n",
    "ax.scatter(data=california, x = 'Year', y = 'Data.Rates.Property.Larceny')\n",
    "# ax.scatter(data=california, x = 'Year', y = 'Data.Rates.Property.Burglary')\n",
    "# ax.scatter(data=california, x = 'Year', y = 'Data.Rates.Property.Motor')\n",
    "# ax.scatter(data=california, x = 'Year', y = 'Data.Rates.Violent.All')\n",
    "# ax.scatter(data=california, x = 'Year', y = 'Data.Rates.Violent.Assault')\n",
    "# ax.scatter(data=california, x = 'Year', y = 'Data.Rates.Violent.Murder')\n",
    "# ax.scatter(data=california, x = 'Year', y = 'Data.Rates.Violent.Robbery')\n",
    "# ax.scatter(data=california, x = 'Year', y = 'Data.Totals.Property.All')\n",
    "# ax.scatter(data=california, x = 'Year', y = 'Data.Rates.Violent.Rape')\n",
    "fig.legend()\n",
    "#sns.scatterplot(df['Year'], df['Data.Population'], hue = 'State')"
   ]
  },
  {
   "cell_type": "code",
   "execution_count": 9,
   "metadata": {
    "collapsed": true
   },
   "outputs": [
    {
     "data": {
      "text/plain": [
       "<matplotlib.legend.Legend at 0x27d946cec10>"
      ]
     },
     "execution_count": 9,
     "metadata": {},
     "output_type": "execute_result"
    },
    {
     "data": {
      "image/png": "[encoded data removed]",
      "text/plain": [
       "<Figure size 432x288 with 1 Axes>"
      ]
     },
     "metadata": {
      "needs_background": "light"
     },
     "output_type": "display_data"
    }
   ],
   "source": [
    "fig,ax = plt.subplots()\n",
    "\n",
    "\n",
    "ax.scatter(data=california, x = 'Year', y = 'Data.Rates.Property.All')\n",
    "#ax.scatter(data=california, x = 'Year', y = 'Data.Totals.Property.Larceny')\n",
    "#ax.scatter(data=california, x = 'Year', y = 'Data.Totals.Property.Burglary')\n",
    "ax.scatter(data=california, x = 'Year', y = 'Data.Totals.Property.Motor')\n",
    "#ax.scatter(data=california, x = 'Year', y = 'Data.Totals.Violent.All')\n",
    "ax.scatter(data=california, x = 'Year', y = 'Data.Totals.Violent.Assault')\n",
    "#ax.scatter(data=california, x = 'Year', y = 'Data.Totals.Violent.Murder')\n",
    "ax.scatter(data=california, x = 'Year', y = 'Data.Totals.Violent.Robbery')\n",
    "#ax.scatter(data=california, x = 'Year', y = 'Data.Rates.Violent.Assault')\n",
    "#ax.scatter(data=california, x = 'Year', y = 'Data.Rates.Violent.Robbery')\n",
    "#ax.scatter(data=california, x = 'Year', y = 'Data.Totals.Violent.Rape')\n",
    "fig.legend()"
   ]
  },
  {
   "cell_type": "markdown",
   "metadata": {},
   "source": [
    "# Basic analysis of the data"
   ]
  },
  {
   "cell_type": "code",
   "execution_count": 10,
   "metadata": {
    "collapsed": true
   },
   "outputs": [
    {
     "data": {
      "text/plain": [
       "Text(0, 0.5, 'Population')"
      ]
     },
     "execution_count": 10,
     "metadata": {},
     "output_type": "execute_result"
    },
    {
     "data": {
      "image/png": "[encoded data removed]",
      "text/plain": [
       "<Figure size 432x288 with 1 Axes>"
      ]
     },
     "metadata": {
      "needs_background": "light"
     },
     "output_type": "display_data"
    }
   ],
   "source": [
    "# create figure and axis objects with subplots()\n",
    "fig,ax = plt.subplots()\n",
    "# make a plot\n",
    "ax.plot(california['Year'], california['Data.Population'], color=\"red\", marker = 'o')\n",
    "# set x-axis label\n",
    "ax.set_xlabel(\"Year\",fontsize=12)\n",
    "# set y-axis label\n",
    "ax.set_ylabel(\"Population\",fontsize=12)"
   ]
  },
  {
   "cell_type": "code",
   "execution_count": 11,
   "metadata": {},
   "outputs": [
    {
     "data": {
      "text/plain": [
       "Text(0.5, 1.0, 'Larceny rates in California')"
      ]
     },
     "execution_count": 11,
     "metadata": {},
     "output_type": "execute_result"
    },
    {
     "data": {
      "image/png": "[encoded data removed]",
      "text/plain": [
       "<Figure size 432x288 with 1 Axes>"
      ]
     },
     "metadata": {
      "needs_background": "light"
     },
     "output_type": "display_data"
    }
   ],
   "source": [
    "fig,ax = plt.subplots()\n",
    "ax.scatter(data=california, x = 'Year', y = 'Data.Rates.Property.Larceny')\n",
    "ax.set_ylabel(\"Rate\")\n",
    "ax.set_xlabel(\"Years\")\n",
    "ax.set_title(\"Larceny rates in California\")"
   ]
  },
  {
   "cell_type": "code",
   "execution_count": 12,
   "metadata": {
    "collapsed": true
   },
   "outputs": [],
   "source": [
    "california_larceny = california.filter(['Year', 'Data.Rates.Property.Larceny'], axis = 1)\n",
    "#california_larceny.hist(column = 'Data.Rates.Property.Larceny', bins = 20)\n",
    "#print(california_larceny)"
   ]
  },
  {
   "cell_type": "code",
   "execution_count": 13,
   "metadata": {
    "scrolled": true
   },
   "outputs": [
    {
     "data": {
      "text/html": [
       "<div>\n",
       "<style scoped>\n",
       "    .dataframe tbody tr th:only-of-type {\n",
       "        vertical-align: middle;\n",
       "    }\n",
       "\n",
       "    .dataframe tbody tr th {\n",
       "        vertical-align: top;\n",
       "    }\n",
       "\n",
       "    .dataframe thead th {\n",
       "        text-align: right;\n",
       "    }\n",
       "</style>\n",
       "<table border=\"1\" class=\"dataframe\">\n",
       "  <thead>\n",
       "    <tr style=\"text-align: right;\">\n",
       "      <th></th>\n",
       "      <th>Year</th>\n",
       "      <th>Data.Rates.Property.Larceny</th>\n",
       "    </tr>\n",
       "  </thead>\n",
       "  <tbody>\n",
       "    <tr>\n",
       "      <th>count</th>\n",
       "      <td>60.000000</td>\n",
       "      <td>60.000000</td>\n",
       "    </tr>\n",
       "    <tr>\n",
       "      <th>mean</th>\n",
       "      <td>1989.500000</td>\n",
       "      <td>2620.975000</td>\n",
       "    </tr>\n",
       "    <tr>\n",
       "      <th>std</th>\n",
       "      <td>17.464249</td>\n",
       "      <td>778.947315</td>\n",
       "    </tr>\n",
       "    <tr>\n",
       "      <th>min</th>\n",
       "      <td>1960.000000</td>\n",
       "      <td>1527.400000</td>\n",
       "    </tr>\n",
       "    <tr>\n",
       "      <th>25%</th>\n",
       "      <td>1974.750000</td>\n",
       "      <td>1922.125000</td>\n",
       "    </tr>\n",
       "    <tr>\n",
       "      <th>50%</th>\n",
       "      <td>1989.500000</td>\n",
       "      <td>2555.650000</td>\n",
       "    </tr>\n",
       "    <tr>\n",
       "      <th>75%</th>\n",
       "      <td>2004.250000</td>\n",
       "      <td>3346.200000</td>\n",
       "    </tr>\n",
       "    <tr>\n",
       "      <th>max</th>\n",
       "      <td>2019.000000</td>\n",
       "      <td>3880.000000</td>\n",
       "    </tr>\n",
       "  </tbody>\n",
       "</table>\n",
       "</div>"
      ],
      "text/plain": [
       "              Year  Data.Rates.Property.Larceny\n",
       "count    60.000000                    60.000000\n",
       "mean   1989.500000                  2620.975000\n",
       "std      17.464249                   778.947315\n",
       "min    1960.000000                  1527.400000\n",
       "25%    1974.750000                  1922.125000\n",
       "50%    1989.500000                  2555.650000\n",
       "75%    2004.250000                  3346.200000\n",
       "max    2019.000000                  3880.000000"
      ]
     },
     "execution_count": 13,
     "metadata": {},
     "output_type": "execute_result"
    }
   ],
   "source": [
    "california_larceny.describe()"
   ]
  },
  {
   "cell_type": "code",
   "execution_count": 14,
   "metadata": {},
   "outputs": [
    {
     "name": "stdout",
     "output_type": "stream",
     "text": [
      "2621\n",
      "779\n"
     ]
    }
   ],
   "source": [
    "mean_larceny = round(california_larceny[\"Data.Rates.Property.Larceny\"].mean())\n",
    "print(mean_larceny)\n",
    "std_larceny = round(california_larceny[\"Data.Rates.Property.Larceny\"].std())\n",
    "print(std_larceny)"
   ]
  },
  {
   "cell_type": "code",
   "execution_count": 15,
   "metadata": {},
   "outputs": [],
   "source": [
    "mean_larceny = round(2620.975000)\n",
    "std_larceny = round(778.947315)"
   ]
  },
  {
   "cell_type": "code",
   "execution_count": 16,
   "metadata": {},
   "outputs": [
    {
     "name": "stdout",
     "output_type": "stream",
     "text": [
      "[1984.8 1950.6 2052.9 2184.7 2366.5 2388.  2506.2 2748.8 3032.3 3282.7\n",
      " 3422.1 3517.9 3242.  3123.6 3525.5 3703.7 3745.8 3499.8 3488.8 3732.6\n",
      " 3880.  3816.1 3785.1 3444.5 3346.1 3379.4 3383.9 3240.2 3314.5 3346.5\n",
      " 3197.5 3246.  3137.8 3029.1 2957.7 2856.9 2605.1 2430.9 2217.1 1994.2\n",
      " 1924.5 2016.6 2044.7 2062.7 2033.1 1915.  1835.3 1790.6 1770.2 1665.\n",
      " 1608.4 1584.  1669.5 1621.5 1527.4 1677.1 1623.  1623.9 1571.8 1586.3]\n"
     ]
    }
   ],
   "source": [
    "california_larceny_df=pd.DataFrame(california_larceny[\"Data.Rates.Property.Larceny\"]).to_numpy().flatten()\n",
    "print(california_larceny_df)\n",
    "#print(dfc[\"Data.Rates.Property.Larceny\"])"
   ]
  },
  {
   "cell_type": "markdown",
   "metadata": {},
   "source": [
    "# Prior predictive check"
   ]
  },
  {
   "cell_type": "code",
   "execution_count": 17,
   "metadata": {},
   "outputs": [
    {
     "name": "stderr",
     "output_type": "stream",
     "text": [
      "INFO:cmdstanpy:found newer exe file, not recompiling\n",
      "INFO:cmdstanpy:CmdStan start processing\n",
      "chain 1 |\u001b[34m██████████\u001b[0m| 00:00 Sampling completed"
     ]
    },
    {
     "name": "stdout",
     "output_type": "stream",
     "text": [
      "                                                                                "
     ]
    },
    {
     "name": "stderr",
     "output_type": "stream",
     "text": [
      "\n",
      "INFO:cmdstanpy:CmdStan done processing.\n"
     ]
    },
    {
     "name": "stdout",
     "output_type": "stream",
     "text": [
      "\n"
     ]
    }
   ],
   "source": [
    "normal_model1 = CmdStanModel(stan_file = 'normal1.stan')\n",
    "stan_data={\"data_mu\": mean_larceny, \"data_sigma\": std_larceny}\n",
    "\n",
    "R = 60 #bc the data has been collected for 60 years\n",
    "sim = normal_model1.sample(data=stan_data, iter_sampling = R, \n",
    "                             iter_warmup = 0,\n",
    "                             chains = 1,\n",
    "                             fixed_param = True,\n",
    "                             seed = 31052022)\n",
    "mu_sim = sim.stan_variable('mu')\n",
    "sigma_sim = sim.stan_variable('sigma')\n",
    "prior = sim.stan_variable('prior')"
   ]
  },
  {
   "cell_type": "code",
   "execution_count": 18,
   "metadata": {
    "collapsed": true
   },
   "outputs": [
    {
     "name": "stdout",
     "output_type": "stream",
     "text": [
      "[3714.28  3228.63  2697.08  1845.49  2325.57  1410.17  2622.66  3222.53\n",
      " 3258.22   694.441 3987.9   2476.29  3266.46  2928.13  2832.98  2567.91\n",
      " 2472.1   2472.2   1779.74  2999.75  2181.59  1971.27  1533.65  2470.13\n",
      " 3421.17  1473.16  3812.69  3016.49  1399.91  2171.76   437.249 3632.2\n",
      " 2895.38  2734.26  3619.58  1721.61  3032.71  3583.29  2805.16  3092.31\n",
      " 3015.89  2303.45  1908.77  2437.68  3580.41  3052.18  1611.28  2166.73\n",
      " 3320.09  1847.31  3503.32  2508.95  1704.21  1340.47  3001.76  3158.31\n",
      " 2690.97  3546.54  3229.86  2715.96 ]\n",
      "60\n",
      "60\n"
     ]
    }
   ],
   "source": [
    "print((mu_sim))\n",
    "print(len(sigma_sim))\n",
    "print(len(prior))"
   ]
  },
  {
   "cell_type": "code",
   "execution_count": 19,
   "metadata": {},
   "outputs": [
    {
     "data": {
      "text/plain": [
       "<matplotlib.legend.Legend at 0x27d96122940>"
      ]
     },
     "execution_count": 19,
     "metadata": {},
     "output_type": "execute_result"
    },
    {
     "data": {
      "image/png": "[encoded data removed]",
      "text/plain": [
       "<Figure size 432x288 with 1 Axes>"
      ]
     },
     "metadata": {
      "needs_background": "light"
     },
     "output_type": "display_data"
    }
   ],
   "source": [
    "fig,ax = plt.subplots()\n",
    "x= list(range(1960,2020))\n",
    "plt.plot(x, prior, \"o\", color = 'red', label = 'Prior prediction')\n",
    "ax.scatter(data=california, x = 'Year', y = 'Data.Rates.Property.Larceny', label = 'Actual data')\n",
    "#ax.scatter(data=prior, x = 'Year', y = 'Data.Rates.Property.Larceny')\n",
    "ax.set_ylabel(\"Rate\")\n",
    "ax.set_xlabel(\"Years\")\n",
    "ax.set_title(\"Larceny rates in California\")\n",
    "fig.legend()"
   ]
  },
  {
   "cell_type": "code",
   "execution_count": 20,
   "metadata": {},
   "outputs": [
    {
     "data": {
      "text/plain": [
       "<matplotlib.legend.Legend at 0x27d961bc9a0>"
      ]
     },
     "execution_count": 20,
     "metadata": {},
     "output_type": "execute_result"
    },
    {
     "data": {
      "image/png": "[encoded data removed]",
      "text/plain": [
       "<Figure size 432x288 with 1 Axes>"
      ]
     },
     "metadata": {
      "needs_background": "light"
     },
     "output_type": "display_data"
    }
   ],
   "source": [
    "fig,ax = plt.subplots()\n",
    "x= list(range(1960,2020))\n",
    "plt.plot(x, prior, \"o\", color = 'red', label = 'Prior prediction')\n",
    "# ax.scatter(data=california, x = 'Year', y = 'Data.Rates.Property.Larceny', label = 'Actual data')\n",
    "#ax.scatter(data=prior, x = 'Year', y = 'Data.Rates.Property.Larceny')\n",
    "ax.set_ylabel(\"Rate\")\n",
    "ax.set_xlabel(\"Years\")\n",
    "ax.set_title(\"Larceny rates in California\")\n",
    "fig.legend()"
   ]
  },
  {
   "cell_type": "code",
   "execution_count": 21,
   "metadata": {},
   "outputs": [
    {
     "data": {
      "image/png": "[encoded data removed]",
      "text/plain": [
       "<Figure size 432x288 with 1 Axes>"
      ]
     },
     "metadata": {
      "needs_background": "light"
     },
     "output_type": "display_data"
    }
   ],
   "source": [
    "plt.hist(california_larceny['Data.Rates.Property.Larceny'], bins=20, label= \"life_exp\", histtype='step')\n",
    "plt.show()"
   ]
  },
  {
   "cell_type": "code",
   "execution_count": 22,
   "metadata": {},
   "outputs": [
    {
     "data": {
      "image/png": "[encoded data removed]",
      "text/plain": [
       "<Figure size 432x288 with 1 Axes>"
      ]
     },
     "metadata": {
      "needs_background": "light"
     },
     "output_type": "display_data"
    }
   ],
   "source": [
    "# prior.hist(column = 'Data.Rates.Property.Larceny', bins = 20)\n",
    "# np.histogram(prior, bins = 20)\n",
    "plt.hist(prior, bins=20, label= \"life_exp\", histtype='step')\n",
    "plt.legend(loc=\"upper left\")\n",
    "plt.title(\"(model 2)Histogram - post prediction - Life expectancy - normal distribution\")\n",
    "plt.hist(california_larceny['Data.Rates.Property.Larceny'], bins=20, label= \"life_exp\", histtype='step')\n",
    "plt.show()"
   ]
  },
  {
   "cell_type": "markdown",
   "metadata": {},
   "source": [
    "### <code style = \"background:yellow;color:black\">**Nie wiem co zrobic z tymi histogramami - jak one spelniaja funkcje i czy sa wgl potrzebne?**\n",
    "</code>\n",
    "Wygladaja jakby przedstawialy histogramy z rzeczywistych danych, a nie z modelu...."
   ]
  },
  {
   "cell_type": "code",
   "execution_count": 23,
   "metadata": {},
   "outputs": [
    {
     "data": {
      "image/png": "[encoded data removed]",
      "text/plain": [
       "<Figure size 504x288 with 3 Axes>"
      ]
     },
     "metadata": {
      "needs_background": "light"
     },
     "output_type": "display_data"
    }
   ],
   "source": [
    "fig = plt.figure(figsize = (7, 4))\n",
    "\n",
    "gs = fig.add_gridspec(2, 2)\n",
    "ax1 = fig.add_subplot(gs[1, :])\n",
    "ax1.hist(prior, bins = 20, density = True)\n",
    "ax1.set_title('Simulated larceny rate')\n",
    "\n",
    "ax2 = fig.add_subplot(gs[0, 0])\n",
    "ax2.hist(mu_sim, bins = 20, density = True)\n",
    "x = np.linspace(0, 4500)\n",
    "y = stats.norm.pdf(x, loc = mean_larceny, scale = std_larceny)\n",
    "ax2.plot(x, y, 'black')\n",
    "ax2.set_title('$\\mu$')\n",
    "ax2.set_yticks([])\n",
    "\n",
    "ax3 = fig.add_subplot(gs[0, 1])\n",
    "ax3.hist(sigma_sim, bins = 20, density = True)\n",
    "x = np.linspace(0, 0.01)\n",
    "y = stats.expon.pdf(x, scale = 1/std_larceny)\n",
    "ax3.plot(x, y, color = 'black')\n",
    "ax3.set_title('$\\sigma$')\n",
    "ax3.set_yticks([])\n",
    "\n",
    "fig.tight_layout()\n",
    "plt.show()"
   ]
  },
  {
   "cell_type": "code",
   "execution_count": 24,
   "metadata": {},
   "outputs": [
    {
     "name": "stderr",
     "output_type": "stream",
     "text": [
      "INFO:cmdstanpy:found newer exe file, not recompiling\n",
      "INFO:cmdstanpy:CmdStan start processing\n",
      "chain 1 |\u001b[34m██████████\u001b[0m| 00:00 Sampling completed"
     ]
    },
    {
     "name": "stdout",
     "output_type": "stream",
     "text": [
      "                                                                                "
     ]
    },
    {
     "name": "stderr",
     "output_type": "stream",
     "text": [
      "\n",
      "INFO:cmdstanpy:CmdStan done processing.\n"
     ]
    },
    {
     "name": "stdout",
     "output_type": "stream",
     "text": [
      "\n"
     ]
    }
   ],
   "source": [
    "test = CmdStanModel(stan_file = 'prior_test.stan')\n",
    "stan_data={\"N\": len(california_larceny), \"dane\": california_larceny['Data.Rates.Property.Larceny'], \"std\": std_larceny, \"mean\": mean_larceny}\n",
    "\n",
    "R = 60 #bc the data has been collected for 60 years\n",
    "sim = test.sample(data=stan_data, iter_sampling = R, \n",
    "                             iter_warmup = 0,\n",
    "                             chains = 1,\n",
    "                             fixed_param = True,\n",
    "                             seed = 31052022)\n",
    "# mu_sim = sim.stan_variable('mu')\n",
    "# sigma_sim = sim.stan_variable('sigma')\n",
    "# prior = sim.stan_variable('prior')"
   ]
  },
  {
   "cell_type": "code",
   "execution_count": 25,
   "metadata": {},
   "outputs": [
    {
     "data": {
      "image/png": "[encoded data removed]",
      "text/plain": [
       "<Figure size 432x288 with 1 Axes>"
      ]
     },
     "metadata": {
      "needs_background": "light"
     },
     "output_type": "display_data"
    }
   ],
   "source": [
    "prior2 = sim.stan_variable('prior')\n",
    "plt.hist(prior2, bins=20, label= \"life_exp\", histtype='step')\n",
    "plt.hist(california_larceny['Data.Rates.Property.Larceny'], bins=20, label= \"life_exp\", histtype='step')\n",
    "\n",
    "plt.show()"
   ]
  },
  {
   "cell_type": "code",
   "execution_count": 26,
   "metadata": {},
   "outputs": [
    {
     "data": {
      "image/png": "[encoded data removed]",
      "text/plain": [
       "<Figure size 432x288 with 1 Axes>"
      ]
     },
     "metadata": {
      "needs_background": "light"
     },
     "output_type": "display_data"
    }
   ],
   "source": [
    "q50 =[]\n",
    "\n",
    "for i in range(1,len(sim.stan_variable('prior')[1])):\n",
    "    q50.append(np.quantile(sim.stan_variable('prior')[:,i],0.50))\n",
    "\n",
    "plt.plot(q50)\n",
    "plt.show()\n",
    "\n",
    "#shape of real data"
   ]
  },
  {
   "cell_type": "markdown",
   "metadata": {},
   "source": [
    "# Posterior "
   ]
  },
  {
   "cell_type": "code",
   "execution_count": 27,
   "metadata": {},
   "outputs": [
    {
     "name": "stderr",
     "output_type": "stream",
     "text": [
      "INFO:cmdstanpy:found newer exe file, not recompiling\n",
      "INFO:cmdstanpy:CmdStan start processing\n",
      "chain 1 |\u001b[34m██████████\u001b[0m| 00:00 Sampling completed"
     ]
    },
    {
     "name": "stdout",
     "output_type": "stream",
     "text": [
      "                                                                                "
     ]
    },
    {
     "name": "stderr",
     "output_type": "stream",
     "text": [
      "\n",
      "INFO:cmdstanpy:CmdStan done processing.\n"
     ]
    },
    {
     "name": "stdout",
     "output_type": "stream",
     "text": [
      "\n"
     ]
    }
   ],
   "source": [
    "normal1_fit_model = CmdStanModel(stan_file='normal1_fit.stan')\n",
    "stan_data2 = {\"N\": len(california_larceny), \"larceny_data\" : california_larceny_df}\n",
    "normal1_fit = normal1_fit_model.sample(data = stan_data2,iter_sampling = R, \n",
    "                             iter_warmup = 0,\n",
    "                             chains = 1,\n",
    "                             fixed_param = True,\n",
    "                                   seed = 31052022)"
   ]
  },
  {
   "cell_type": "code",
   "execution_count": 28,
   "metadata": {},
   "outputs": [
    {
     "name": "stdout",
     "output_type": "stream",
     "text": [
      "[-0.220311  -0.463233  -0.698985  -0.0567073 -0.291832   0.404272\n",
      " -1.44146   -1.33571   -1.64756   -0.237705  -0.820555  -0.0468978\n",
      "  0.360368  -1.80285   -0.145208  -0.396665  -0.501762  -1.35961\n",
      "  0.234426   0.141938  -1.21536   -0.224019   0.18024    0.265577\n",
      " -0.527211  -2.57087   -0.79712    0.25255    0.963234  -1.44078\n",
      " -0.717251  -0.65882   -0.497725   1.32133    0.18908   -1.33317\n",
      "  1.51696   -0.173967  -1.62444   -0.845313  -0.276068   0.0774964\n",
      "  0.0447379 -0.560514  -0.244343  -0.977944  -0.663321   0.833618\n",
      " -0.381422  -0.663217  -0.715388   0.437991  -1.40627   -0.240691\n",
      " -0.900577  -0.0971207 -0.168085  -1.87637   -0.975057  -1.88562  ]\n"
     ]
    }
   ],
   "source": [
    "larceny_posterior = normal1_fit.stan_variable(var='larceny_posterior')\n",
    "print(larceny_posterior)"
   ]
  },
  {
   "cell_type": "code",
   "execution_count": 29,
   "metadata": {},
   "outputs": [
    {
     "data": {
      "text/html": [
       "<div>\n",
       "<style scoped>\n",
       "    .dataframe tbody tr th:only-of-type {\n",
       "        vertical-align: middle;\n",
       "    }\n",
       "\n",
       "    .dataframe tbody tr th {\n",
       "        vertical-align: top;\n",
       "    }\n",
       "\n",
       "    .dataframe thead th {\n",
       "        text-align: right;\n",
       "    }\n",
       "</style>\n",
       "<table border=\"1\" class=\"dataframe\">\n",
       "  <thead>\n",
       "    <tr style=\"text-align: right;\">\n",
       "      <th></th>\n",
       "      <th>mean</th>\n",
       "      <th>sd</th>\n",
       "      <th>hdi_3%</th>\n",
       "      <th>hdi_97%</th>\n",
       "    </tr>\n",
       "  </thead>\n",
       "  <tbody>\n",
       "    <tr>\n",
       "      <th>mu</th>\n",
       "      <td>-0.504</td>\n",
       "      <td>0.0</td>\n",
       "      <td>-0.504</td>\n",
       "      <td>-0.504</td>\n",
       "    </tr>\n",
       "    <tr>\n",
       "      <th>sigma</th>\n",
       "      <td>0.844</td>\n",
       "      <td>0.0</td>\n",
       "      <td>0.844</td>\n",
       "      <td>0.844</td>\n",
       "    </tr>\n",
       "  </tbody>\n",
       "</table>\n",
       "</div>"
      ],
      "text/plain": [
       "        mean   sd  hdi_3%  hdi_97%\n",
       "mu    -0.504  0.0  -0.504   -0.504\n",
       "sigma  0.844  0.0   0.844    0.844"
      ]
     },
     "execution_count": 29,
     "metadata": {},
     "output_type": "execute_result"
    }
   ],
   "source": [
    "az.summary(normal1_fit, var_names=['mu', 'sigma'], round_to = 3, kind='stats')"
   ]
  },
  {
   "cell_type": "code",
   "execution_count": null,
   "metadata": {},
   "outputs": [],
   "source": []
  }
 ],
 "metadata": {
  "interpreter": {
   "hash": "3daf6c350f2a0ede664192fc5f83250b54ba88dd11a44229b323659fc71bf29b"
  },
  "kernelspec": {
   "display_name": "Python 3 (ipykernel)",
   "language": "python",
   "name": "python3"
  },
  "language_info": {
   "codemirror_mode": {
    "name": "ipython",
    "version": 3
   },
   "file_extension": ".py",
   "mimetype": "text/x-python",
   "name": "python",
   "nbconvert_exporter": "python",
   "pygments_lexer": "ipython3",
   "version": "3.9.10"
  }
 },
 "nbformat": 4,
 "nbformat_minor": 2
}
