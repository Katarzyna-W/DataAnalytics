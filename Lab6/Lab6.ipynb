{
 "cells": [
  {
   "cell_type": "markdown",
   "id": "adc8cadf",
   "metadata": {},
   "source": [
    "# Task 1: simulating from Gaussian Process model\n",
    "To make any simulations, first you need a set of observations:"
   ]
  },
  {
   "cell_type": "code",
   "execution_count": null,
   "id": "a9b81847",
   "metadata": {},
   "outputs": [],
   "source": [
    "from cmdstanpy import CmdStanModel\n",
    "\n",
    "import arviz as az\n",
    "import numpy as np\n",
    "import scipy.stats as stats\n",
    "\n",
    "import pandas as pd\n",
    "\n",
    "import matplotlib.pyplot as plt\n",
    "import matplotlib as mpl#Observed data\n",
    "x_obs = [-10, -8, -6, -4, -2, 0, 2, 4, 6, 8, 10]\n",
    "y_obs = [0.328572824089476, 4.20607004111644, 1.35507551134795,\n",
    "0.161608755204364, -5.42320349780782, -3.05851276224202, -0.0764172642034502,\n",
    "-4.55218472276499, -0.902226297922731, -5.8609833528976, -1.05854090910473]\n",
    "\n",
    "\n",
    "x_predict = np.linspace(-11,11,551,endpoint=True)\n",
    "observed_idx = [26, 76, 126, 176, 226, 276, 326, 376, 426, 476, 526]\n",
    "\n",
    "alpha = 3\n",
    "rho = 5.5\n",
    "sigma = 2"
   ]
  },
  {
   "cell_type": "code",
   "execution_count": null,
   "id": "be62870d",
   "metadata": {},
   "outputs": [],
   "source": [
    "model = CmdStanModel(stan_file='gaussian_process.stan')\n",
    "result = model.sample(data=data, chains = 4)"
   ]
  },
  {
   "cell_type": "markdown",
   "id": "cb2ab0a2",
   "metadata": {},
   "source": [
    "Your task now is to:\n",
    "\n",
    "plot few (about 5-10) samples generated from model\n",
    "plot mean value from model with its confidence interval (standar deviation, using errorbar function)\n",
    "Also on each plot place points with obsserved data. Repeat the steps for two other parameters sets of your choice"
   ]
  }
 ],
 "metadata": {
  "kernelspec": {
   "display_name": "Python 3 (ipykernel)",
   "language": "python",
   "name": "python3"
  },
  "language_info": {
   "codemirror_mode": {
    "name": "ipython",
    "version": 3
   },
   "file_extension": ".py",
   "mimetype": "text/x-python",
   "name": "python",
   "nbconvert_exporter": "python",
   "pygments_lexer": "ipython3",
   "version": "3.10.3"
  }
 },
 "nbformat": 4,
 "nbformat_minor": 5
}
